{
 "cells": [
  {
   "cell_type": "markdown",
   "metadata": {},
   "source": [
    "# CAP 6618 - Machine Learning for Computer Vision"
   ]
  },
  {
   "cell_type": "markdown",
   "metadata": {},
   "source": [
    "Christian Garbin\n",
    "Spring 2019"
   ]
  },
  {
   "cell_type": "markdown",
   "metadata": {},
   "source": [
    "# Programming Project 3"
   ]
  },
  {
   "cell_type": "markdown",
   "metadata": {},
   "source": [
    "## Starting point\n",
    "\n",
    "In the experimental notebook we trained a network that achieved 99.13% accuracy on the training set.\n",
    "\n",
    "In this notebook we will attempt to improve it using these techniques:\n",
    "\n",
    "- More layers\n",
    "- Batch normalization\n",
    "- Image augmentation"
   ]
  },
  {
   "cell_type": "markdown",
   "metadata": {},
   "source": [
    "## Current state of the art"
   ]
  },
  {
   "cell_type": "markdown",
   "metadata": {},
   "source": [
    "According to [this site](http://rodrigob.github.io/are_we_there_yet/build/classification_datasets_results.html), the best MNIST accuracy has 0.21% error rate, i.e 99.79% accuracy.\n",
    "\n",
    "According to [LeCun's MNIST page](http://yann.lecun.com/exdb/mnist/), the best accuracy has an error rate of 0.23% (99.77% accuracy). To achieve that a \"committee of 35 conv. net, 1-20-P-40-P-150-10 [elastic distortions]\" was used.\n",
    "\n",
    "Therefore, that's the maximum can we hope to achieve in these experiments."
   ]
  },
  {
   "cell_type": "markdown",
   "metadata": {},
   "source": [
    "# Step 1: Setup"
   ]
  },
  {
   "cell_type": "markdown",
   "metadata": {},
   "source": [
    "First, make sure that you have installed Keras on your computer."
   ]
  },
  {
   "cell_type": "code",
   "execution_count": 1,
   "metadata": {},
   "outputs": [
    {
     "name": "stderr",
     "output_type": "stream",
     "text": [
      "/var/web_services/galaxy/jupyter_conda/lib/python3.6/site-packages/h5py/__init__.py:36: FutureWarning: Conversion of the second argument of issubdtype from `float` to `np.floating` is deprecated. In future, it will be treated as `np.float64 == np.dtype(float).type`.\n",
      "  from ._conv import register_converters as _register_converters\n",
      "Using TensorFlow backend.\n"
     ]
    }
   ],
   "source": [
    "# Code from https://github.com/keras-team/keras \n",
    "\n",
    "from __future__ import print_function\n",
    "import keras\n",
    "from keras.datasets import mnist\n",
    "from keras.models import Sequential\n",
    "from keras.layers import Dense, Dropout, Flatten\n",
    "from keras.layers import Conv2D, MaxPooling2D\n",
    "from keras.optimizers import RMSprop\n",
    "from keras import backend as K"
   ]
  },
  {
   "cell_type": "code",
   "execution_count": 2,
   "metadata": {},
   "outputs": [],
   "source": [
    "%matplotlib inline\n",
    "import matplotlib.pyplot as plt"
   ]
  },
  {
   "cell_type": "markdown",
   "metadata": {},
   "source": [
    "## Step 1a: Auxiliary functions and constants"
   ]
  },
  {
   "cell_type": "markdown",
   "metadata": {},
   "source": [
    "Some data manipulation and visualization functions."
   ]
  },
  {
   "cell_type": "markdown",
   "metadata": {},
   "source": [
    "Visualize Keras training accuracy and loss, given a `History` object collected from calling `fit()`."
   ]
  },
  {
   "cell_type": "code",
   "execution_count": 3,
   "metadata": {},
   "outputs": [],
   "source": [
    "# From https://keras.io/visualization/\n",
    "\n",
    "def plot_keras_history(history):\n",
    "    # Plot training & validation accuracy values\n",
    "    plt.plot(history.history['acc'])\n",
    "    plt.plot(history.history['val_acc'])\n",
    "    plt.title('Model accuracy')\n",
    "    plt.ylabel('Accuracy')\n",
    "    plt.xlabel('Epoch')\n",
    "    plt.legend(['Train', 'Test'], loc='upper left')\n",
    "    plt.show()\n",
    "\n",
    "    # Plot training & validation loss values\n",
    "    plt.plot(history.history['loss'])\n",
    "    plt.plot(history.history['val_loss'])\n",
    "    plt.title('Model loss')\n",
    "    plt.ylabel('Loss')\n",
    "    plt.xlabel('Epoch')\n",
    "    plt.legend(['Train', 'Test'], loc='upper left')\n",
    "    plt.show()"
   ]
  },
  {
   "cell_type": "markdown",
   "metadata": {},
   "source": [
    "Train a model, validate on test data and show training loss/accuracy in graphical format."
   ]
  },
  {
   "cell_type": "code",
   "execution_count": 4,
   "metadata": {},
   "outputs": [],
   "source": [
    "def train_validate_analyze(model, batch_size, epochs, verbose=1, callbacks=None):\n",
    "    history = model.fit(x_train, y_train,\n",
    "          batch_size=batch_size,\n",
    "          epochs=epochs,\n",
    "          verbose=verbose,\n",
    "          callbacks=callbacks,\n",
    "          validation_data=(x_test, y_test))\n",
    "    \n",
    "    score = model.evaluate(x_test, y_test, verbose=verbose)\n",
    "    print('Test loss:', score[0]) \n",
    "    print('Test accuracy:', score[1])\n",
    "    \n",
    "    plot_keras_history(history)"
   ]
  },
  {
   "cell_type": "markdown",
   "metadata": {},
   "source": [
    "Number of classes in the MNIST dataset."
   ]
  },
  {
   "cell_type": "code",
   "execution_count": 5,
   "metadata": {},
   "outputs": [],
   "source": [
    "NUM_CLASSES = 10"
   ]
  },
  {
   "cell_type": "markdown",
   "metadata": {},
   "source": [
    "# Step 2: Load, split and prepare the MNIST dataset"
   ]
  },
  {
   "cell_type": "code",
   "execution_count": 6,
   "metadata": {},
   "outputs": [
    {
     "name": "stdout",
     "output_type": "stream",
     "text": [
      "x_train shape: (60000, 28, 28, 1)\n",
      "60000 train samples\n",
      "10000 test samples\n"
     ]
    }
   ],
   "source": [
    "# Code from https://github.com/keras-team/keras \n",
    "\n",
    "# Re-load and re-shape the dataset\n",
    "\n",
    "# input image dimensions\n",
    "img_rows, img_cols = 28, 28\n",
    "\n",
    "# the data, shuffled and split between train and test sets\n",
    "(x_train, y_train), (x_test, y_test) = mnist.load_data()\n",
    "\n",
    "if K.image_data_format() == 'channels_first':\n",
    "    x_train = x_train.reshape(x_train.shape[0], 1, img_rows, img_cols)\n",
    "    x_test = x_test.reshape(x_test.shape[0], 1, img_rows, img_cols)\n",
    "    input_shape = (1, img_rows, img_cols)\n",
    "else:\n",
    "    x_train = x_train.reshape(x_train.shape[0], img_rows, img_cols, 1)\n",
    "    x_test = x_test.reshape(x_test.shape[0], img_rows, img_cols, 1)\n",
    "    input_shape = (img_rows, img_cols, 1)\n",
    "\n",
    "x_train = x_train.astype('float32')\n",
    "x_test = x_test.astype('float32')\n",
    "x_train /= 255\n",
    "x_test /= 255\n",
    "print('x_train shape:', x_train.shape)\n",
    "print(x_train.shape[0], 'train samples')\n",
    "print(x_test.shape[0], 'test samples')\n",
    "\n",
    "# convert class vectors to binary class matrices\n",
    "y_train = keras.utils.to_categorical(y_train, NUM_CLASSES)\n",
    "y_test = keras.utils.to_categorical(y_test, NUM_CLASSES)"
   ]
  },
  {
   "cell_type": "markdown",
   "metadata": {},
   "source": [
    "# Step 4: Baseline"
   ]
  },
  {
   "cell_type": "markdown",
   "metadata": {},
   "source": [
    "This is the same network from the experimental notebook, repeated here to have a baseline."
   ]
  },
  {
   "cell_type": "code",
   "execution_count": 7,
   "metadata": {},
   "outputs": [
    {
     "name": "stdout",
     "output_type": "stream",
     "text": [
      "_________________________________________________________________\n",
      "Layer (type)                 Output Shape              Param #   \n",
      "=================================================================\n",
      "conv2d_1 (Conv2D)            (None, 26, 26, 32)        320       \n",
      "_________________________________________________________________\n",
      "conv2d_2 (Conv2D)            (None, 24, 24, 64)        18496     \n",
      "_________________________________________________________________\n",
      "max_pooling2d_1 (MaxPooling2 (None, 12, 12, 64)        0         \n",
      "_________________________________________________________________\n",
      "dropout_1 (Dropout)          (None, 12, 12, 64)        0         \n",
      "_________________________________________________________________\n",
      "flatten_1 (Flatten)          (None, 9216)              0         \n",
      "_________________________________________________________________\n",
      "dense_1 (Dense)              (None, 128)               1179776   \n",
      "_________________________________________________________________\n",
      "dropout_2 (Dropout)          (None, 128)               0         \n",
      "_________________________________________________________________\n",
      "dense_2 (Dense)              (None, 10)                1290      \n",
      "=================================================================\n",
      "Total params: 1,199,882\n",
      "Trainable params: 1,199,882\n",
      "Non-trainable params: 0\n",
      "_________________________________________________________________\n"
     ]
    }
   ],
   "source": [
    "model = Sequential()\n",
    "model.add(Conv2D(32, kernel_size=(3, 3),\n",
    "                 activation='relu',\n",
    "                 input_shape=input_shape))\n",
    "model.add(Conv2D(64, (3, 3), activation='relu'))\n",
    "model.add(MaxPooling2D(pool_size=(2, 2)))\n",
    "model.add(Dropout(0.25))\n",
    "model.add(Flatten())\n",
    "model.add(Dense(128, activation='relu'))\n",
    "model.add(Dropout(0.5))\n",
    "model.add(Dense(NUM_CLASSES, activation='softmax'))\n",
    "\n",
    "model.compile(loss=keras.losses.categorical_crossentropy,\n",
    "              optimizer=keras.optimizers.Adadelta(),\n",
    "              metrics=['accuracy'])\n",
    "\n",
    "model.summary()"
   ]
  },
  {
   "cell_type": "code",
   "execution_count": 8,
   "metadata": {},
   "outputs": [
    {
     "name": "stdout",
     "output_type": "stream",
     "text": [
      "Train on 60000 samples, validate on 10000 samples\n",
      "Epoch 1/11\n",
      "60000/60000 [==============================] - 17s 289us/step - loss: 0.2511 - acc: 0.9215 - val_loss: 0.0583 - val_acc: 0.9827\n",
      "Epoch 2/11\n",
      "60000/60000 [==============================] - 10s 170us/step - loss: 0.0840 - acc: 0.9747 - val_loss: 0.0413 - val_acc: 0.9862\n",
      "Epoch 3/11\n",
      "60000/60000 [==============================] - 10s 171us/step - loss: 0.0641 - acc: 0.9811 - val_loss: 0.0339 - val_acc: 0.9881\n",
      "Epoch 4/11\n",
      "60000/60000 [==============================] - 10s 171us/step - loss: 0.0530 - acc: 0.9843 - val_loss: 0.0351 - val_acc: 0.9881\n",
      "Epoch 5/11\n",
      "60000/60000 [==============================] - 10s 172us/step - loss: 0.0469 - acc: 0.9859 - val_loss: 0.0300 - val_acc: 0.9901\n",
      "Epoch 6/11\n",
      "60000/60000 [==============================] - 10s 170us/step - loss: 0.0405 - acc: 0.9876 - val_loss: 0.0295 - val_acc: 0.9898\n",
      "Epoch 7/11\n",
      "60000/60000 [==============================] - 10s 170us/step - loss: 0.0363 - acc: 0.9887 - val_loss: 0.0283 - val_acc: 0.9908\n",
      "Epoch 8/11\n",
      "60000/60000 [==============================] - 10s 169us/step - loss: 0.0337 - acc: 0.9895 - val_loss: 0.0291 - val_acc: 0.9912\n",
      "Epoch 9/11\n",
      "60000/60000 [==============================] - 10s 169us/step - loss: 0.0315 - acc: 0.9904 - val_loss: 0.0276 - val_acc: 0.9915\n",
      "Epoch 10/11\n",
      "60000/60000 [==============================] - 10s 169us/step - loss: 0.0284 - acc: 0.9913 - val_loss: 0.0264 - val_acc: 0.9915\n",
      "Epoch 11/11\n",
      "60000/60000 [==============================] - 10s 169us/step - loss: 0.0285 - acc: 0.9914 - val_loss: 0.0286 - val_acc: 0.9914\n",
      "10000/10000 [==============================] - 1s 103us/step\n",
      "Test loss: 0.0285791321702256\n",
      "Test accuracy: 0.9914\n"
     ]
    },
    {
     "data": {
      "image/png": "[encoded data removed]",
      "text/plain": [
       "<matplotlib.figure.Figure at 0x2aab26019e48>"
      ]
     },
     "metadata": {},
     "output_type": "display_data"
    },
    {
     "data": {
      "image/png": "[encoded data removed]",
      "text/plain": [
       "<matplotlib.figure.Figure at 0x2aab2939a6d8>"
      ]
     },
     "metadata": {},
     "output_type": "display_data"
    }
   ],
   "source": [
    "train_validate_analyze(model, batch_size=128, epochs=11)"
   ]
  },
  {
   "cell_type": "markdown",
   "metadata": {},
   "source": [
    "# Step 5: Add more pooling and dense layers"
   ]
  },
  {
   "cell_type": "markdown",
   "metadata": {},
   "source": [
    "## Step 5a: LeNet-5-like network"
   ]
  },
  {
   "cell_type": "markdown",
   "metadata": {},
   "source": [
    "This network adds a second pooling and a second dense layer. It was chosen for a historical reason: it is very close to [LeNet-5 architecture](http://yann.lecun.com/exdb/publis/pdf/lecun-98.pdf).\n",
    "\n",
    "\"Very close\" because this network uses an adaptive optimizer, while LeNet used SGD (I think, not 100% sure - could not find a good reference, but since it is from the later 1990s, it is likely to be using SGD). It also likely did not use ReLU as activation units.\n",
    "\n",
    "Another difference is the image size. LeNet used 32x32 images, while we use 28x28 images.\n",
    "\n",
    "LeNet-5 [achieved 99.05% accuracy](http://yann.lecun.com/exdb/mnist/) without manipulating images."
   ]
  },
  {
   "cell_type": "markdown",
   "metadata": {},
   "source": [
    "TODO: compare with https://engmrk.com/lenet-5-a-classic-cnn-architecture/"
   ]
  },
  {
   "cell_type": "code",
   "execution_count": 9,
   "metadata": {},
   "outputs": [
    {
     "name": "stdout",
     "output_type": "stream",
     "text": [
      "_________________________________________________________________\n",
      "Layer (type)                 Output Shape              Param #   \n",
      "=================================================================\n",
      "conv2d_3 (Conv2D)            (None, 26, 26, 32)        320       \n",
      "_________________________________________________________________\n",
      "average_pooling2d_1 (Average (None, 13, 13, 32)        0         \n",
      "_________________________________________________________________\n",
      "conv2d_4 (Conv2D)            (None, 11, 11, 16)        4624      \n",
      "_________________________________________________________________\n",
      "average_pooling2d_2 (Average (None, 5, 5, 16)          0         \n",
      "_________________________________________________________________\n",
      "flatten_2 (Flatten)          (None, 400)               0         \n",
      "_________________________________________________________________\n",
      "dense_3 (Dense)              (None, 120)               48120     \n",
      "_________________________________________________________________\n",
      "dense_4 (Dense)              (None, 84)                10164     \n",
      "_________________________________________________________________\n",
      "dense_5 (Dense)              (None, 10)                850       \n",
      "=================================================================\n",
      "Total params: 64,078\n",
      "Trainable params: 64,078\n",
      "Non-trainable params: 0\n",
      "_________________________________________________________________\n"
     ]
    }
   ],
   "source": [
    "# based on https://colab.research.google.com/drive/1CVm50PGE4vhtB5I_a_yc4h5F-itKOVL9\n",
    "\n",
    "from keras.layers import AveragePooling2D\n",
    "\n",
    "model = Sequential()\n",
    "# First layer in LeNet-5 is 5x5, but it uses 32x32 images\n",
    "# Since we are using 28x28 images, we will reduce the kernel to 3x3 to compensate somewhat\n",
    "model.add(Conv2D(32, kernel_size=(3, 3), activation='relu', input_shape=input_shape))\n",
    "model.add(AveragePooling2D(pool_size=(2, 2))) # LeNet uses average pooling, not max pooling\n",
    "model.add(Conv2D(16, (3, 3), activation='relu'))\n",
    "model.add(AveragePooling2D(pool_size=(2, 2)))\n",
    "model.add(Flatten())\n",
    "model.add(Dense(units=120, activation='relu'))\n",
    "model.add(Dense(units=84, activation='relu'))\n",
    "model.add(Dense(units=NUM_CLASSES, activation = 'softmax'))\n",
    "\n",
    "model.compile(loss=keras.losses.categorical_crossentropy,\n",
    "              optimizer=keras.optimizers.Adadelta(),\n",
    "              metrics=['accuracy'])\n",
    "\n",
    "model.summary()"
   ]
  },
  {
   "cell_type": "code",
   "execution_count": 10,
   "metadata": {},
   "outputs": [
    {
     "name": "stdout",
     "output_type": "stream",
     "text": [
      "Train on 60000 samples, validate on 10000 samples\n",
      "Epoch 1/11\n",
      "60000/60000 [==============================] - 5s 86us/step - loss: 0.3103 - acc: 0.9039 - val_loss: 0.1317 - val_acc: 0.9584\n",
      "Epoch 2/11\n",
      "60000/60000 [==============================] - 5s 81us/step - loss: 0.0807 - acc: 0.9753 - val_loss: 0.0661 - val_acc: 0.9784\n",
      "Epoch 3/11\n",
      "60000/60000 [==============================] - 5s 81us/step - loss: 0.0559 - acc: 0.9827 - val_loss: 0.0494 - val_acc: 0.9849\n",
      "Epoch 4/11\n",
      "60000/60000 [==============================] - 5s 82us/step - loss: 0.0441 - acc: 0.9863 - val_loss: 0.0393 - val_acc: 0.9872\n",
      "Epoch 5/11\n",
      "60000/60000 [==============================] - 5s 81us/step - loss: 0.0368 - acc: 0.9885 - val_loss: 0.0366 - val_acc: 0.9885\n",
      "Epoch 6/11\n",
      "60000/60000 [==============================] - 5s 81us/step - loss: 0.0307 - acc: 0.9903 - val_loss: 0.0334 - val_acc: 0.9894\n",
      "Epoch 7/11\n",
      "60000/60000 [==============================] - 5s 82us/step - loss: 0.0265 - acc: 0.9920 - val_loss: 0.0330 - val_acc: 0.9887\n",
      "Epoch 8/11\n",
      "60000/60000 [==============================] - 5s 82us/step - loss: 0.0228 - acc: 0.9931 - val_loss: 0.0309 - val_acc: 0.9903\n",
      "Epoch 9/11\n",
      "60000/60000 [==============================] - 5s 83us/step - loss: 0.0195 - acc: 0.9942 - val_loss: 0.0313 - val_acc: 0.9900\n",
      "Epoch 10/11\n",
      "60000/60000 [==============================] - 5s 82us/step - loss: 0.0171 - acc: 0.9945 - val_loss: 0.0293 - val_acc: 0.9921\n",
      "Epoch 11/11\n",
      "60000/60000 [==============================] - 5s 82us/step - loss: 0.0153 - acc: 0.9954 - val_loss: 0.0323 - val_acc: 0.9904\n",
      "10000/10000 [==============================] - 1s 74us/step\n",
      "Test loss: 0.03227720898477164\n",
      "Test accuracy: 0.9904\n"
     ]
    },
    {
     "data": {
      "image/png": "[encoded data removed]",
      "text/plain": [
       "<matplotlib.figure.Figure at 0x2aab2940e470>"
      ]
     },
     "metadata": {},
     "output_type": "display_data"
    },
    {
     "data": {
      "image/png": "[encoded data removed]",
      "text/plain": [
       "<matplotlib.figure.Figure at 0x2aac03fcb0b8>"
      ]
     },
     "metadata": {},
     "output_type": "display_data"
    }
   ],
   "source": [
    "train_validate_analyze(model, batch_size=128, epochs=11)"
   ]
  },
  {
   "cell_type": "markdown",
   "metadata": {},
   "source": [
    "This is not a decent results for a relatively small network (small number of parameters). It is very colose to the result reported in LeCun's paper.\n",
    "\n",
    "The graphs shows that it is overfitting at around epoch 7. Before we completely give up on it, we will try to deal with the overfitting."
   ]
  },
  {
   "cell_type": "markdown",
   "metadata": {},
   "source": [
    "### Deal with overfitting"
   ]
  },
  {
   "cell_type": "markdown",
   "metadata": {},
   "source": [
    "To try to get more accuracy out of this network we will add dropout layers to fight overfitting."
   ]
  },
  {
   "cell_type": "code",
   "execution_count": 11,
   "metadata": {},
   "outputs": [],
   "source": [
    "# based on https://colab.research.google.com/drive/1CVm50PGE4vhtB5I_a_yc4h5F-itKOVL9\n",
    "\n",
    "from keras.layers import AveragePooling2D\n",
    "\n",
    "def get_lenet_like_model_with_dropout():\n",
    "    model = Sequential()\n",
    "    model.add(Conv2D(32, kernel_size=(3, 3),\n",
    "                     activation='relu',\n",
    "                     input_shape=input_shape))\n",
    "    model.add(AveragePooling2D())\n",
    "    model.add(Conv2D(16, (3, 3), activation='relu'))\n",
    "    model.add(AveragePooling2D())\n",
    "    model.add(Dropout(0.25))\n",
    "    model.add(Flatten())\n",
    "    model.add(Dense(units=120, activation='relu'))\n",
    "    model.add(Dropout(0.5))\n",
    "    model.add(Dense(units=84, activation='relu'))\n",
    "    model.add(Dropout(0.5))\n",
    "    model.add(Dense(units=NUM_CLASSES, activation = 'softmax'))\n",
    "\n",
    "    model.compile(loss=keras.losses.categorical_crossentropy,\n",
    "                  optimizer=keras.optimizers.Adadelta(),\n",
    "                  metrics=['accuracy'])\n",
    "    \n",
    "    return model"
   ]
  },
  {
   "cell_type": "code",
   "execution_count": 12,
   "metadata": {},
   "outputs": [
    {
     "name": "stdout",
     "output_type": "stream",
     "text": [
      "_________________________________________________________________\n",
      "Layer (type)                 Output Shape              Param #   \n",
      "=================================================================\n",
      "conv2d_5 (Conv2D)            (None, 26, 26, 32)        320       \n",
      "_________________________________________________________________\n",
      "average_pooling2d_3 (Average (None, 13, 13, 32)        0         \n",
      "_________________________________________________________________\n",
      "conv2d_6 (Conv2D)            (None, 11, 11, 16)        4624      \n",
      "_________________________________________________________________\n",
      "average_pooling2d_4 (Average (None, 5, 5, 16)          0         \n",
      "_________________________________________________________________\n",
      "dropout_3 (Dropout)          (None, 5, 5, 16)          0         \n",
      "_________________________________________________________________\n",
      "flatten_3 (Flatten)          (None, 400)               0         \n",
      "_________________________________________________________________\n",
      "dense_6 (Dense)              (None, 120)               48120     \n",
      "_________________________________________________________________\n",
      "dropout_4 (Dropout)          (None, 120)               0         \n",
      "_________________________________________________________________\n",
      "dense_7 (Dense)              (None, 84)                10164     \n",
      "_________________________________________________________________\n",
      "dropout_5 (Dropout)          (None, 84)                0         \n",
      "_________________________________________________________________\n",
      "dense_8 (Dense)              (None, 10)                850       \n",
      "=================================================================\n",
      "Total params: 64,078\n",
      "Trainable params: 64,078\n",
      "Non-trainable params: 0\n",
      "_________________________________________________________________\n",
      "Train on 60000 samples, validate on 10000 samples\n",
      "Epoch 1/11\n",
      "60000/60000 [==============================] - 6s 94us/step - loss: 0.7133 - acc: 0.7707 - val_loss: 0.1561 - val_acc: 0.9543\n",
      "Epoch 2/11\n",
      "60000/60000 [==============================] - 5s 89us/step - loss: 0.2835 - acc: 0.9228 - val_loss: 0.1004 - val_acc: 0.9715\n",
      "Epoch 3/11\n",
      "60000/60000 [==============================] - 5s 90us/step - loss: 0.2190 - acc: 0.9411 - val_loss: 0.0806 - val_acc: 0.9752\n",
      "Epoch 4/11\n",
      "60000/60000 [==============================] - 5s 90us/step - loss: 0.1874 - acc: 0.9505 - val_loss: 0.0697 - val_acc: 0.9795\n",
      "Epoch 5/11\n",
      "60000/60000 [==============================] - 5s 91us/step - loss: 0.1699 - acc: 0.9547 - val_loss: 0.0609 - val_acc: 0.9806\n",
      "Epoch 6/11\n",
      "60000/60000 [==============================] - 5s 90us/step - loss: 0.1551 - acc: 0.9590 - val_loss: 0.0565 - val_acc: 0.9825\n",
      "Epoch 7/11\n",
      "60000/60000 [==============================] - 5s 90us/step - loss: 0.1448 - acc: 0.9623 - val_loss: 0.0545 - val_acc: 0.9826\n",
      "Epoch 8/11\n",
      "60000/60000 [==============================] - 6s 92us/step - loss: 0.1322 - acc: 0.9643 - val_loss: 0.0505 - val_acc: 0.9846\n",
      "Epoch 9/11\n",
      "60000/60000 [==============================] - 6s 92us/step - loss: 0.1297 - acc: 0.9658 - val_loss: 0.0488 - val_acc: 0.9855\n",
      "Epoch 10/11\n",
      "60000/60000 [==============================] - 5s 91us/step - loss: 0.1215 - acc: 0.9682 - val_loss: 0.0457 - val_acc: 0.9851\n",
      "Epoch 11/11\n",
      "60000/60000 [==============================] - 5s 90us/step - loss: 0.1172 - acc: 0.9689 - val_loss: 0.0443 - val_acc: 0.9859\n",
      "10000/10000 [==============================] - 1s 79us/step\n",
      "Test loss: 0.04428803852838464\n",
      "Test accuracy: 0.9859\n"
     ]
    },
    {
     "data": {
      "image/png": "[encoded data removed]",
      "text/plain": [
       "<matplotlib.figure.Figure at 0x2aac50e73780>"
      ]
     },
     "metadata": {},
     "output_type": "display_data"
    },
    {
     "data": {
      "image/png": "[encoded data removed]",
      "text/plain": [
       "<matplotlib.figure.Figure at 0x2aac53eaf470>"
      ]
     },
     "metadata": {},
     "output_type": "display_data"
    }
   ],
   "source": [
    "model = get_lenet_like_model_with_dropout()\n",
    "model.summary()\n",
    "train_validate_analyze(model, batch_size=128, epochs=11)"
   ]
  },
  {
   "cell_type": "markdown",
   "metadata": {},
   "source": [
    "It is not longer overfitting. It is now underfitting.\n",
    "\n",
    "Since it is not overfitting we will push it further with more epochs, before we give up on it."
   ]
  },
  {
   "cell_type": "markdown",
   "metadata": {},
   "source": [
    "### Train longer, with early stopping"
   ]
  },
  {
   "cell_type": "markdown",
   "metadata": {},
   "source": [
    "Now that we are not overfitting we can train for more epochs.\n",
    "\n",
    "However, we don't know how many epochs ahead of time. We will use Keras' [`EarlyStopping` callback](https://keras.io/callbacks/#earlystopping) to decide when to stop.\n",
    "\n",
    "With early stopping in place we can use a high number of epochs and rely on the `EarlyStopping` callback to decide when to stop."
   ]
  },
  {
   "cell_type": "code",
   "execution_count": 20,
   "metadata": {},
   "outputs": [],
   "source": [
    "from keras.callbacks import EarlyStopping\n",
    "\n",
    "callbacks = [EarlyStopping(monitor='val_loss', patience=3, verbose=2)]\n",
    "# Keras 2.2.3 has a new parameter: restore_best_weights. It would improve results a bit.\n",
    "# FAU HPC is running Keras 2.1.x"
   ]
  },
  {
   "cell_type": "code",
   "execution_count": 21,
   "metadata": {
    "scrolled": false
   },
   "outputs": [
    {
     "name": "stdout",
     "output_type": "stream",
     "text": [
      "_________________________________________________________________\n",
      "Layer (type)                 Output Shape              Param #   \n",
      "=================================================================\n",
      "conv2d_11 (Conv2D)           (None, 26, 26, 32)        320       \n",
      "_________________________________________________________________\n",
      "average_pooling2d_9 (Average (None, 13, 13, 32)        0         \n",
      "_________________________________________________________________\n",
      "conv2d_12 (Conv2D)           (None, 11, 11, 16)        4624      \n",
      "_________________________________________________________________\n",
      "average_pooling2d_10 (Averag (None, 5, 5, 16)          0         \n",
      "_________________________________________________________________\n",
      "dropout_12 (Dropout)         (None, 5, 5, 16)          0         \n",
      "_________________________________________________________________\n",
      "flatten_6 (Flatten)          (None, 400)               0         \n",
      "_________________________________________________________________\n",
      "dense_15 (Dense)             (None, 120)               48120     \n",
      "_________________________________________________________________\n",
      "dropout_13 (Dropout)         (None, 120)               0         \n",
      "_________________________________________________________________\n",
      "dense_16 (Dense)             (None, 84)                10164     \n",
      "_________________________________________________________________\n",
      "dropout_14 (Dropout)         (None, 84)                0         \n",
      "_________________________________________________________________\n",
      "dense_17 (Dense)             (None, 10)                850       \n",
      "=================================================================\n",
      "Total params: 64,078\n",
      "Trainable params: 64,078\n",
      "Non-trainable params: 0\n",
      "_________________________________________________________________\n",
      "Train on 60000 samples, validate on 10000 samples\n",
      "Epoch 1/100\n",
      " - 6s - loss: 0.6714 - acc: 0.7833 - val_loss: 0.1536 - val_acc: 0.9578\n",
      "Epoch 2/100\n",
      " - 5s - loss: 0.2721 - acc: 0.9237 - val_loss: 0.0965 - val_acc: 0.9703\n",
      "Epoch 3/100\n",
      " - 5s - loss: 0.2121 - acc: 0.9426 - val_loss: 0.0814 - val_acc: 0.9762\n",
      "Epoch 4/100\n",
      " - 5s - loss: 0.1790 - acc: 0.9518 - val_loss: 0.0699 - val_acc: 0.9790\n",
      "Epoch 5/100\n",
      " - 5s - loss: 0.1526 - acc: 0.9590 - val_loss: 0.0588 - val_acc: 0.9823\n",
      "Epoch 6/100\n",
      " - 5s - loss: 0.1391 - acc: 0.9631 - val_loss: 0.0578 - val_acc: 0.9831\n",
      "Epoch 7/100\n",
      " - 5s - loss: 0.1290 - acc: 0.9655 - val_loss: 0.0507 - val_acc: 0.9854\n",
      "Epoch 8/100\n",
      " - 6s - loss: 0.1208 - acc: 0.9676 - val_loss: 0.0457 - val_acc: 0.9872\n",
      "Epoch 9/100\n",
      " - 5s - loss: 0.1134 - acc: 0.9706 - val_loss: 0.0464 - val_acc: 0.9847\n",
      "Epoch 10/100\n",
      " - 6s - loss: 0.1038 - acc: 0.9727 - val_loss: 0.0475 - val_acc: 0.9856\n",
      "Epoch 11/100\n",
      " - 5s - loss: 0.1013 - acc: 0.9737 - val_loss: 0.0392 - val_acc: 0.9884\n",
      "Epoch 12/100\n",
      " - 5s - loss: 0.0976 - acc: 0.9745 - val_loss: 0.0398 - val_acc: 0.9874\n",
      "Epoch 13/100\n",
      " - 5s - loss: 0.0928 - acc: 0.9754 - val_loss: 0.0408 - val_acc: 0.9891\n",
      "Epoch 14/100\n",
      " - 5s - loss: 0.0884 - acc: 0.9768 - val_loss: 0.0355 - val_acc: 0.9901\n",
      "Epoch 15/100\n",
      " - 5s - loss: 0.0869 - acc: 0.9771 - val_loss: 0.0363 - val_acc: 0.9887\n",
      "Epoch 16/100\n",
      " - 5s - loss: 0.0846 - acc: 0.9774 - val_loss: 0.0366 - val_acc: 0.9891\n",
      "Epoch 17/100\n",
      " - 5s - loss: 0.0845 - acc: 0.9780 - val_loss: 0.0336 - val_acc: 0.9894\n",
      "Epoch 18/100\n",
      " - 5s - loss: 0.0817 - acc: 0.9789 - val_loss: 0.0327 - val_acc: 0.9906\n",
      "Epoch 19/100\n",
      " - 5s - loss: 0.0783 - acc: 0.9799 - val_loss: 0.0320 - val_acc: 0.9908\n",
      "Epoch 20/100\n",
      " - 5s - loss: 0.0769 - acc: 0.9799 - val_loss: 0.0326 - val_acc: 0.9912\n",
      "Epoch 21/100\n",
      " - 5s - loss: 0.0737 - acc: 0.9812 - val_loss: 0.0338 - val_acc: 0.9898\n",
      "Epoch 22/100\n",
      " - 5s - loss: 0.0744 - acc: 0.9806 - val_loss: 0.0326 - val_acc: 0.9909\n",
      "Epoch 00022: early stopping\n",
      "Test loss: 0.03257594064836812\n",
      "Test accuracy: 0.9909\n"
     ]
    },
    {
     "data": {
      "image/png": "[encoded data removed]",
      "text/plain": [
       "<matplotlib.figure.Figure at 0x2aacc2f91160>"
      ]
     },
     "metadata": {},
     "output_type": "display_data"
    },
    {
     "data": {
      "image/png": "[encoded data removed]",
      "text/plain": [
       "<matplotlib.figure.Figure at 0x2aac03fb5518>"
      ]
     },
     "metadata": {},
     "output_type": "display_data"
    }
   ],
   "source": [
    "model = get_lenet_like_model_with_dropout()\n",
    "model.summary()\n",
    "train_validate_analyze(model, batch_size=128, epochs=100, verbose=2,callbacks=callbacks) "
   ]
  },
  {
   "cell_type": "markdown",
   "metadata": {},
   "source": [
    "TODO: add analysis here"
   ]
  },
  {
   "cell_type": "markdown",
   "metadata": {},
   "source": [
    "## Step 5b: VGG-like network"
   ]
  },
  {
   "cell_type": "markdown",
   "metadata": {},
   "source": [
    "In this section we will attempt a network topology similar to the VGG network: a series of convolution layers with the same filter size, with pooling layers in between, followed by large dense layers.\n",
    "\n",
    "The distinguishing feature of this network is the repetition of the same 3 x 3 filter in all convolution layers."
   ]
  },
  {
   "cell_type": "code",
   "execution_count": 34,
   "metadata": {},
   "outputs": [],
   "source": [
    "# based on https://medium.com/@amir_hf8/implementing-vgg13-for-mnist-dataset-in-tensorflow-abc1460e2b93\n",
    "\n",
    "def get_vgg_like_model():\n",
    "    model = Sequential()\n",
    "    model.add(Conv2D(64, kernel_size=(3, 3),\n",
    "                     activation='relu',\n",
    "                     input_shape=input_shape, padding='same'))\n",
    "    model.add(Conv2D(64, (3, 3), activation='relu', padding='same'))\n",
    "    model.add(MaxPooling2D(pool_size=(2, 2), strides=(2,2), padding='same'))\n",
    "    \n",
    "    model.add(Conv2D(128, (3, 3), activation='relu', padding='same'))\n",
    "    model.add(Conv2D(128, (3, 3), activation='relu', padding='same'))\n",
    "    model.add(MaxPooling2D(pool_size=(2, 2), strides=(2,2), padding='same'))\n",
    "\n",
    "    model.add(Conv2D(256, (3, 3), activation='relu', padding='same'))\n",
    "    model.add(Conv2D(256, (3, 3), activation='relu', padding='same'))\n",
    "    model.add(MaxPooling2D(pool_size=(2, 2), strides=(2,2), padding='same'))\n",
    "\n",
    "    model.add(Conv2D(512, (3, 3), activation='relu', padding='same'))\n",
    "    model.add(Conv2D(512, (3, 3), activation='relu', padding='same'))\n",
    "    model.add(MaxPooling2D(pool_size=(2, 2), strides=(2,2), padding='same'))\n",
    "\n",
    "    model.add(Conv2D(512, (3, 3), activation='relu', padding='same'))\n",
    "    model.add(Conv2D(512, (3, 3), activation='relu', padding='same'))\n",
    "    model.add(MaxPooling2D(pool_size=(2, 2), strides=(2,2), padding='same'))\n",
    "\n",
    "    model.add(Flatten())\n",
    "    model.add(Dense(units=4096, activation='relu'))\n",
    "    model.add(Dense(units=4096, activation='relu'))\n",
    "    model.add(Dense(units=1000, activation='relu'))\n",
    "    model.add(Dense(units=NUM_CLASSES, activation = 'softmax'))\n",
    "\n",
    "    model.compile(loss=keras.losses.categorical_crossentropy,\n",
    "                  optimizer=keras.optimizers.Adadelta(),\n",
    "                  metrics=['accuracy'])\n",
    "    \n",
    "    return model"
   ]
  },
  {
   "cell_type": "markdown",
   "metadata": {},
   "source": [
    "Train with early stopping."
   ]
  },
  {
   "cell_type": "code",
   "execution_count": 33,
   "metadata": {},
   "outputs": [
    {
     "name": "stdout",
     "output_type": "stream",
     "text": [
      "_________________________________________________________________\n",
      "Layer (type)                 Output Shape              Param #   \n",
      "=================================================================\n",
      "conv2d_37 (Conv2D)           (None, 28, 28, 64)        640       \n",
      "_________________________________________________________________\n",
      "conv2d_38 (Conv2D)           (None, 28, 28, 64)        36928     \n",
      "_________________________________________________________________\n",
      "max_pooling2d_11 (MaxPooling (None, 14, 14, 64)        0         \n",
      "_________________________________________________________________\n",
      "conv2d_39 (Conv2D)           (None, 14, 14, 128)       73856     \n",
      "_________________________________________________________________\n",
      "conv2d_40 (Conv2D)           (None, 14, 14, 128)       147584    \n",
      "_________________________________________________________________\n",
      "max_pooling2d_12 (MaxPooling (None, 7, 7, 128)         0         \n",
      "_________________________________________________________________\n",
      "conv2d_41 (Conv2D)           (None, 7, 7, 256)         295168    \n",
      "_________________________________________________________________\n",
      "conv2d_42 (Conv2D)           (None, 7, 7, 256)         590080    \n",
      "_________________________________________________________________\n",
      "max_pooling2d_13 (MaxPooling (None, 4, 4, 256)         0         \n",
      "_________________________________________________________________\n",
      "conv2d_43 (Conv2D)           (None, 4, 4, 512)         1180160   \n",
      "_________________________________________________________________\n",
      "conv2d_44 (Conv2D)           (None, 4, 4, 512)         2359808   \n",
      "_________________________________________________________________\n",
      "max_pooling2d_14 (MaxPooling (None, 2, 2, 512)         0         \n",
      "_________________________________________________________________\n",
      "conv2d_45 (Conv2D)           (None, 2, 2, 512)         2359808   \n",
      "_________________________________________________________________\n",
      "conv2d_46 (Conv2D)           (None, 2, 2, 512)         2359808   \n",
      "_________________________________________________________________\n",
      "max_pooling2d_15 (MaxPooling (None, 1, 1, 512)         0         \n",
      "_________________________________________________________________\n",
      "flatten_7 (Flatten)          (None, 512)               0         \n",
      "_________________________________________________________________\n",
      "dense_18 (Dense)             (None, 4096)              2101248   \n",
      "_________________________________________________________________\n",
      "dense_19 (Dense)             (None, 4096)              16781312  \n",
      "_________________________________________________________________\n",
      "dense_20 (Dense)             (None, 1000)              4097000   \n",
      "_________________________________________________________________\n",
      "dense_21 (Dense)             (None, 10)                10010     \n",
      "=================================================================\n",
      "Total params: 32,393,410\n",
      "Trainable params: 32,393,410\n",
      "Non-trainable params: 0\n",
      "_________________________________________________________________\n",
      "Train on 60000 samples, validate on 10000 samples\n",
      "Epoch 1/100\n",
      " - 77s - loss: 2.2081 - acc: 0.1518 - val_loss: 1.2281 - val_acc: 0.5059\n",
      "Epoch 2/100\n",
      " - 74s - loss: 0.4210 - acc: 0.8548 - val_loss: 0.1137 - val_acc: 0.9702\n",
      "Epoch 3/100\n",
      " - 74s - loss: 0.0768 - acc: 0.9802 - val_loss: 0.0513 - val_acc: 0.9866\n",
      "Epoch 4/100\n",
      " - 74s - loss: 0.0445 - acc: 0.9884 - val_loss: 0.0301 - val_acc: 0.9911\n",
      "Epoch 5/100\n",
      " - 74s - loss: 0.0327 - acc: 0.9913 - val_loss: 0.0400 - val_acc: 0.9906\n",
      "Epoch 6/100\n",
      " - 74s - loss: 0.0247 - acc: 0.9936 - val_loss: 0.0353 - val_acc: 0.9905\n",
      "Epoch 7/100\n",
      " - 74s - loss: 0.0172 - acc: 0.9953 - val_loss: 0.0366 - val_acc: 0.9896\n",
      "Epoch 00007: early stopping\n",
      "Test loss: 0.036584632463677554\n",
      "Test accuracy: 0.9896\n"
     ]
    },
    {
     "data": {
      "image/png": "[encoded data removed]",
      "text/plain": [
       "<matplotlib.figure.Figure at 0x2aacc3b51f28>"
      ]
     },
     "metadata": {},
     "output_type": "display_data"
    },
    {
     "data": {
      "image/png": "[encoded data removed]",
      "text/plain": [
       "<matplotlib.figure.Figure at 0x2aacc3b6eda0>"
      ]
     },
     "metadata": {},
     "output_type": "display_data"
    }
   ],
   "source": [
    "model = get_vgg_like_model()\n",
    "model.summary()\n",
    "train_validate_analyze(model, batch_size=128, epochs=100, verbose=2,callbacks=callbacks) "
   ]
  },
  {
   "cell_type": "markdown",
   "metadata": {},
   "source": [
    "This was a bit of a bust. It converges quickly, then stalls, moving in small steps."
   ]
  },
  {
   "cell_type": "code",
   "execution_count": null,
   "metadata": {},
   "outputs": [],
   "source": []
  }
 ],
 "metadata": {
  "kernelspec": {
   "display_name": "Python 3",
   "language": "python",
   "name": "python3"
  },
  "language_info": {
   "codemirror_mode": {
    "name": "ipython",
    "version": 3
   },
   "file_extension": ".py",
   "mimetype": "text/x-python",
   "name": "python",
   "nbconvert_exporter": "python",
   "pygments_lexer": "ipython3",
   "version": "3.6.4"
  },
  "nav_menu": {},
  "toc": {
   "nav_menu": {},
   "number_sections": true,
   "sideBar": true,
   "skip_h1_title": false,
   "title_cell": "Table of Contents",
   "title_sidebar": "Contents",
   "toc_cell": false,
   "toc_position": {},
   "toc_section_display": "block",
   "toc_window_display": false
  }
 },
 "nbformat": 4,
 "nbformat_minor": 2
}
