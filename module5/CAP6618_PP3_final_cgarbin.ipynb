{
 "cells": [
  {
   "cell_type": "markdown",
   "metadata": {},
   "source": [
    "# CAP 6618 - Machine Learning for Computer Vision"
   ]
  },
  {
   "cell_type": "markdown",
   "metadata": {},
   "source": [
    "Christian Garbin\n",
    "Spring 2019"
   ]
  },
  {
   "cell_type": "markdown",
   "metadata": {},
   "source": [
    "# Programming Project 3"
   ]
  },
  {
   "cell_type": "markdown",
   "metadata": {},
   "source": [
    "## Starting point\n",
    "\n",
    "In the experimental notebook we trained a network that achieved 99.13% accuracy on the training set.\n",
    "\n",
    "In this notebook we will attempt to improve it using these techniques:\n",
    "\n",
    "- More layers\n",
    "- Batch normalization\n",
    "- Image augmentation"
   ]
  },
  {
   "cell_type": "markdown",
   "metadata": {},
   "source": [
    "## Current state of the art"
   ]
  },
  {
   "cell_type": "markdown",
   "metadata": {},
   "source": [
    "According to [this site](http://rodrigob.github.io/are_we_there_yet/build/classification_datasets_results.html), the best MNIST accuracy has 0.21% error rate, i.e 99.79% accuracy.\n",
    "\n",
    "According to [LeCun's MNIST page](http://yann.lecun.com/exdb/mnist/), the best accuracy has an error rate of 0.23% (99.77% accuracy). To achieve that a \"committee of 35 conv. net, 1-20-P-40-P-150-10 [elastic distortions]\" was used.\n",
    "\n",
    "Therefore, that's the maximum can we hope to achieve in these experiments."
   ]
  },
  {
   "cell_type": "markdown",
   "metadata": {},
   "source": [
    "# Step 1: Setup"
   ]
  },
  {
   "cell_type": "markdown",
   "metadata": {},
   "source": [
    "First, make sure that you have installed Keras on your computer."
   ]
  },
  {
   "cell_type": "code",
   "execution_count": 1,
   "metadata": {},
   "outputs": [
    {
     "name": "stderr",
     "output_type": "stream",
     "text": [
      "/var/web_services/galaxy/jupyter_conda/lib/python3.6/site-packages/h5py/__init__.py:36: FutureWarning: Conversion of the second argument of issubdtype from `float` to `np.floating` is deprecated. In future, it will be treated as `np.float64 == np.dtype(float).type`.\n",
      "  from ._conv import register_converters as _register_converters\n",
      "Using TensorFlow backend.\n"
     ]
    }
   ],
   "source": [
    "# Code from https://github.com/keras-team/keras \n",
    "\n",
    "from __future__ import print_function\n",
    "import keras\n",
    "from keras.datasets import mnist\n",
    "from keras.models import Sequential\n",
    "from keras.layers import Dense, Dropout, Flatten\n",
    "from keras.layers import Conv2D, MaxPooling2D\n",
    "from keras.optimizers import RMSprop\n",
    "from keras import backend as K"
   ]
  },
  {
   "cell_type": "code",
   "execution_count": 2,
   "metadata": {},
   "outputs": [],
   "source": [
    "%matplotlib inline\n",
    "import matplotlib.pyplot as plt"
   ]
  },
  {
   "cell_type": "markdown",
   "metadata": {},
   "source": [
    "## Step 1a: Auxiliary functions and constants"
   ]
  },
  {
   "cell_type": "markdown",
   "metadata": {},
   "source": [
    "Some data manipulation and visualization functions."
   ]
  },
  {
   "cell_type": "markdown",
   "metadata": {},
   "source": [
    "Visualize Keras training accuracy and loss, given a `History` object collected from calling `fit()`."
   ]
  },
  {
   "cell_type": "code",
   "execution_count": 3,
   "metadata": {},
   "outputs": [],
   "source": [
    "# From https://keras.io/visualization/\n",
    "\n",
    "def plot_keras_history(history):\n",
    "    # Plot training & validation accuracy values\n",
    "    plt.plot(history.history['acc'])\n",
    "    plt.plot(history.history['val_acc'])\n",
    "    plt.title('Model accuracy')\n",
    "    plt.ylabel('Accuracy')\n",
    "    plt.xlabel('Epoch')\n",
    "    plt.legend(['Train', 'Test'], loc='upper left')\n",
    "    plt.show()\n",
    "\n",
    "    # Plot training & validation loss values\n",
    "    plt.plot(history.history['loss'])\n",
    "    plt.plot(history.history['val_loss'])\n",
    "    plt.title('Model loss')\n",
    "    plt.ylabel('Loss')\n",
    "    plt.xlabel('Epoch')\n",
    "    plt.legend(['Train', 'Test'], loc='upper left')\n",
    "    plt.show()"
   ]
  },
  {
   "cell_type": "markdown",
   "metadata": {},
   "source": [
    "Train a model, validate on test data and show training loss/accuracy in graphical format."
   ]
  },
  {
   "cell_type": "code",
   "execution_count": 4,
   "metadata": {},
   "outputs": [],
   "source": [
    "\"\"\"Train a model, validate on test data, show training loss/accuracy in graphical format, save trained model.\n",
    "\n",
    "Parameters:\n",
    "   model_generator (function): the function that creates the Keras model to be trained.\n",
    "   batch_size (int): batch size for training.\n",
    "   epochs (int): maximum number of epochs to train.\n",
    "   verbose (int): Keras' verbosity level.\n",
    "   callbacks (array): Keras' callbacks to use during training.\n",
    "\n",
    "Returns:\n",
    "   The trained model and a .h5 file on the local directory with the trained model.\n",
    "   \n",
    "Note: assumes that train and test data are set in global variables (see code).\n",
    "\"\"\"\n",
    "def train_validate_analyze(model_generator, batch_size, epochs, verbose=1, callbacks=None):\n",
    "    model = model_generator()\n",
    "    model.summary()\n",
    "    \n",
    "    history = model.fit(x_train, y_train,\n",
    "          batch_size=batch_size,\n",
    "          epochs=epochs,\n",
    "          verbose=verbose,\n",
    "          callbacks=callbacks,\n",
    "          validation_data=(x_test, y_test))\n",
    "    \n",
    "    model.save('trained_model_{}.h5'.format(model_generator.__name__.replace('get_','')))\n",
    "\n",
    "    score = model.evaluate(x_test, y_test, verbose=verbose)\n",
    "    print('Test loss:', score[0]) \n",
    "    print('Test accuracy:', score[1])\n",
    "    \n",
    "    plot_keras_history(history)    \n",
    "    \n",
    "    return model"
   ]
  },
  {
   "cell_type": "markdown",
   "metadata": {},
   "source": [
    "Number of classes in the MNIST dataset."
   ]
  },
  {
   "cell_type": "code",
   "execution_count": 5,
   "metadata": {},
   "outputs": [],
   "source": [
    "NUM_CLASSES = 10"
   ]
  },
  {
   "cell_type": "markdown",
   "metadata": {},
   "source": [
    "# Step 2: Load, split and prepare the MNIST dataset"
   ]
  },
  {
   "cell_type": "code",
   "execution_count": 6,
   "metadata": {},
   "outputs": [
    {
     "name": "stdout",
     "output_type": "stream",
     "text": [
      "x_train shape: (60000, 28, 28, 1)\n",
      "60000 train samples\n",
      "10000 test samples\n"
     ]
    }
   ],
   "source": [
    "# Code from https://github.com/keras-team/keras \n",
    "\n",
    "# Re-load and re-shape the dataset\n",
    "\n",
    "# input image dimensions\n",
    "img_rows, img_cols = 28, 28\n",
    "\n",
    "# the data, shuffled and split between train and test sets\n",
    "(x_train, y_train), (x_test, y_test) = mnist.load_data()\n",
    "\n",
    "if K.image_data_format() == 'channels_first':\n",
    "    x_train = x_train.reshape(x_train.shape[0], 1, img_rows, img_cols)\n",
    "    x_test = x_test.reshape(x_test.shape[0], 1, img_rows, img_cols)\n",
    "    input_shape = (1, img_rows, img_cols)\n",
    "else:\n",
    "    x_train = x_train.reshape(x_train.shape[0], img_rows, img_cols, 1)\n",
    "    x_test = x_test.reshape(x_test.shape[0], img_rows, img_cols, 1)\n",
    "    input_shape = (img_rows, img_cols, 1)\n",
    "\n",
    "x_train = x_train.astype('float32')\n",
    "x_test = x_test.astype('float32')\n",
    "x_train /= 255\n",
    "x_test /= 255\n",
    "print('x_train shape:', x_train.shape)\n",
    "print(x_train.shape[0], 'train samples')\n",
    "print(x_test.shape[0], 'test samples')\n",
    "\n",
    "# convert class vectors to binary class matrices\n",
    "y_train = keras.utils.to_categorical(y_train, NUM_CLASSES)\n",
    "y_test = keras.utils.to_categorical(y_test, NUM_CLASSES)"
   ]
  },
  {
   "cell_type": "markdown",
   "metadata": {},
   "source": [
    "# Step 4: Baseline"
   ]
  },
  {
   "cell_type": "markdown",
   "metadata": {},
   "source": [
    "This is the same network from the experimental notebook, repeated here to have a baseline."
   ]
  },
  {
   "cell_type": "code",
   "execution_count": 7,
   "metadata": {},
   "outputs": [],
   "source": [
    "def get_baseline_model():\n",
    "    model = Sequential()\n",
    "    model.add(Conv2D(32, kernel_size=(3, 3),\n",
    "                     activation='relu',\n",
    "                     input_shape=input_shape))\n",
    "    model.add(Conv2D(64, (3, 3), activation='relu'))\n",
    "    model.add(MaxPooling2D(pool_size=(2, 2)))\n",
    "    model.add(Dropout(0.25))\n",
    "    model.add(Flatten())\n",
    "    model.add(Dense(128, activation='relu'))\n",
    "    model.add(Dropout(0.5))\n",
    "    model.add(Dense(NUM_CLASSES, activation='softmax'))\n",
    "\n",
    "    model.compile(loss=keras.losses.categorical_crossentropy,\n",
    "                  optimizer=keras.optimizers.Adadelta(),\n",
    "                  metrics=['accuracy'])\n",
    "    return model"
   ]
  },
  {
   "cell_type": "code",
   "execution_count": 8,
   "metadata": {
    "scrolled": true
   },
   "outputs": [
    {
     "name": "stdout",
     "output_type": "stream",
     "text": [
      "_________________________________________________________________\n",
      "Layer (type)                 Output Shape              Param #   \n",
      "=================================================================\n",
      "conv2d_1 (Conv2D)            (None, 26, 26, 32)        320       \n",
      "_________________________________________________________________\n",
      "conv2d_2 (Conv2D)            (None, 24, 24, 64)        18496     \n",
      "_________________________________________________________________\n",
      "max_pooling2d_1 (MaxPooling2 (None, 12, 12, 64)        0         \n",
      "_________________________________________________________________\n",
      "dropout_1 (Dropout)          (None, 12, 12, 64)        0         \n",
      "_________________________________________________________________\n",
      "flatten_1 (Flatten)          (None, 9216)              0         \n",
      "_________________________________________________________________\n",
      "dense_1 (Dense)              (None, 128)               1179776   \n",
      "_________________________________________________________________\n",
      "dropout_2 (Dropout)          (None, 128)               0         \n",
      "_________________________________________________________________\n",
      "dense_2 (Dense)              (None, 10)                1290      \n",
      "=================================================================\n",
      "Total params: 1,199,882\n",
      "Trainable params: 1,199,882\n",
      "Non-trainable params: 0\n",
      "_________________________________________________________________\n",
      "Train on 60000 samples, validate on 10000 samples\n",
      "Epoch 1/11\n",
      "60000/60000 [==============================] - 12s 204us/step - loss: 0.2644 - acc: 0.9192 - val_loss: 0.0579 - val_acc: 0.9819\n",
      "Epoch 2/11\n",
      "60000/60000 [==============================] - 10s 171us/step - loss: 0.0880 - acc: 0.9743 - val_loss: 0.0411 - val_acc: 0.9855\n",
      "Epoch 3/11\n",
      "60000/60000 [==============================] - 10s 171us/step - loss: 0.0667 - acc: 0.9799 - val_loss: 0.0364 - val_acc: 0.9873\n",
      "Epoch 4/11\n",
      "60000/60000 [==============================] - 10s 171us/step - loss: 0.0555 - acc: 0.9839 - val_loss: 0.0312 - val_acc: 0.9890\n",
      "Epoch 5/11\n",
      "60000/60000 [==============================] - 10s 168us/step - loss: 0.0480 - acc: 0.9855 - val_loss: 0.0301 - val_acc: 0.9895\n",
      "Epoch 6/11\n",
      "60000/60000 [==============================] - 10s 169us/step - loss: 0.0428 - acc: 0.9870 - val_loss: 0.0298 - val_acc: 0.9899\n",
      "Epoch 7/11\n",
      "60000/60000 [==============================] - 10s 170us/step - loss: 0.0382 - acc: 0.9883 - val_loss: 0.0271 - val_acc: 0.9904\n",
      "Epoch 8/11\n",
      "60000/60000 [==============================] - 10s 169us/step - loss: 0.0350 - acc: 0.9892 - val_loss: 0.0291 - val_acc: 0.9907\n",
      "Epoch 9/11\n",
      "60000/60000 [==============================] - 10s 168us/step - loss: 0.0332 - acc: 0.9897 - val_loss: 0.0249 - val_acc: 0.9922\n",
      "Epoch 10/11\n",
      "60000/60000 [==============================] - 10s 170us/step - loss: 0.0316 - acc: 0.9900 - val_loss: 0.0243 - val_acc: 0.9921\n",
      "Epoch 11/11\n",
      "60000/60000 [==============================] - 10s 168us/step - loss: 0.0290 - acc: 0.9913 - val_loss: 0.0268 - val_acc: 0.9911\n",
      "10000/10000 [==============================] - 1s 105us/step\n",
      "Test loss: 0.02676691678702955\n",
      "Test accuracy: 0.9911\n"
     ]
    },
    {
     "data": {
      "image/png": "[encoded data removed]",
      "text/plain": [
       "<matplotlib.figure.Figure at 0x2aab37e6e278>"
      ]
     },
     "metadata": {},
     "output_type": "display_data"
    },
    {
     "data": {
      "image/png": "[encoded data removed]",
      "text/plain": [
       "<matplotlib.figure.Figure at 0x2aab285d1d68>"
      ]
     },
     "metadata": {},
     "output_type": "display_data"
    }
   ],
   "source": [
    "model_baseline = train_validate_analyze(get_baseline_model, batch_size=128, epochs=11)"
   ]
  },
  {
   "cell_type": "markdown",
   "metadata": {},
   "source": [
    "# Step 5: Add more pooling and dense layers"
   ]
  },
  {
   "cell_type": "markdown",
   "metadata": {},
   "source": [
    "## Step 5a: LeNet-5-like network"
   ]
  },
  {
   "cell_type": "markdown",
   "metadata": {},
   "source": [
    "This network adds a second pooling and a second dense layer. It was chosen for a historical reason: it is very close to [LeNet-5 architecture](http://yann.lecun.com/exdb/publis/pdf/lecun-98.pdf).\n",
    "\n",
    "\"Very close\" because this network uses an adaptive optimizer, while LeNet used SGD (I think, not 100% sure - could not find a good reference, but since it is from the later 1990s, it is likely to be using SGD). It also likely did not use ReLU as activation units.\n",
    "\n",
    "Another difference is the image size. LeNet used 32x32 images, while we use 28x28 images.\n",
    "\n",
    "LeNet-5 [achieved 99.05% accuracy](http://yann.lecun.com/exdb/mnist/) without manipulating images."
   ]
  },
  {
   "cell_type": "markdown",
   "metadata": {},
   "source": [
    "TODO: compare with https://engmrk.com/lenet-5-a-classic-cnn-architecture/"
   ]
  },
  {
   "cell_type": "code",
   "execution_count": 9,
   "metadata": {},
   "outputs": [],
   "source": [
    "# based on https://colab.research.google.com/drive/1CVm50PGE4vhtB5I_a_yc4h5F-itKOVL9\n",
    "\n",
    "from keras.layers import AveragePooling2D\n",
    "\n",
    "def get_lenet_like_model():\n",
    "    model = Sequential()\n",
    "    # First layer in LeNet-5 is 5x5, but it uses 32x32 images\n",
    "    # Since we are using 28x28 images, we will reduce the kernel to 3x3 to compensate somewhat\n",
    "    model.add(Conv2D(32, kernel_size=(3, 3), activation='relu', input_shape=input_shape))\n",
    "    model.add(AveragePooling2D(pool_size=(2, 2))) # LeNet uses average pooling, not max pooling\n",
    "    model.add(Conv2D(16, (3, 3), activation='relu'))\n",
    "    model.add(AveragePooling2D(pool_size=(2, 2)))\n",
    "    model.add(Flatten())\n",
    "    model.add(Dense(units=120, activation='relu'))\n",
    "    model.add(Dense(units=84, activation='relu'))\n",
    "    model.add(Dense(units=NUM_CLASSES, activation = 'softmax'))\n",
    "\n",
    "    model.compile(loss=keras.losses.categorical_crossentropy,\n",
    "                  optimizer=keras.optimizers.Adadelta(),\n",
    "                  metrics=['accuracy'])\n",
    "    return model\n"
   ]
  },
  {
   "cell_type": "code",
   "execution_count": 10,
   "metadata": {},
   "outputs": [
    {
     "name": "stdout",
     "output_type": "stream",
     "text": [
      "_________________________________________________________________\n",
      "Layer (type)                 Output Shape              Param #   \n",
      "=================================================================\n",
      "conv2d_3 (Conv2D)            (None, 26, 26, 32)        320       \n",
      "_________________________________________________________________\n",
      "average_pooling2d_1 (Average (None, 13, 13, 32)        0         \n",
      "_________________________________________________________________\n",
      "conv2d_4 (Conv2D)            (None, 11, 11, 16)        4624      \n",
      "_________________________________________________________________\n",
      "average_pooling2d_2 (Average (None, 5, 5, 16)          0         \n",
      "_________________________________________________________________\n",
      "flatten_2 (Flatten)          (None, 400)               0         \n",
      "_________________________________________________________________\n",
      "dense_3 (Dense)              (None, 120)               48120     \n",
      "_________________________________________________________________\n",
      "dense_4 (Dense)              (None, 84)                10164     \n",
      "_________________________________________________________________\n",
      "dense_5 (Dense)              (None, 10)                850       \n",
      "=================================================================\n",
      "Total params: 64,078\n",
      "Trainable params: 64,078\n",
      "Non-trainable params: 0\n",
      "_________________________________________________________________\n",
      "Train on 60000 samples, validate on 10000 samples\n",
      "Epoch 1/11\n",
      "60000/60000 [==============================] - 5s 82us/step - loss: 0.3337 - acc: 0.8965 - val_loss: 0.1217 - val_acc: 0.9650\n",
      "Epoch 2/11\n",
      "60000/60000 [==============================] - 5s 79us/step - loss: 0.0868 - acc: 0.9736 - val_loss: 0.0692 - val_acc: 0.9774\n",
      "Epoch 3/11\n",
      "60000/60000 [==============================] - 5s 78us/step - loss: 0.0601 - acc: 0.9817 - val_loss: 0.0511 - val_acc: 0.9842\n",
      "Epoch 4/11\n",
      "60000/60000 [==============================] - 5s 79us/step - loss: 0.0469 - acc: 0.9851 - val_loss: 0.0462 - val_acc: 0.9852\n",
      "Epoch 5/11\n",
      "60000/60000 [==============================] - 5s 81us/step - loss: 0.0393 - acc: 0.9877 - val_loss: 0.0391 - val_acc: 0.9871\n",
      "Epoch 6/11\n",
      "60000/60000 [==============================] - 5s 83us/step - loss: 0.0324 - acc: 0.9904 - val_loss: 0.0318 - val_acc: 0.9893\n",
      "Epoch 7/11\n",
      "60000/60000 [==============================] - 5s 83us/step - loss: 0.0269 - acc: 0.9919 - val_loss: 0.0336 - val_acc: 0.9891\n",
      "Epoch 8/11\n",
      "60000/60000 [==============================] - 5s 81us/step - loss: 0.0240 - acc: 0.9923 - val_loss: 0.0279 - val_acc: 0.9905\n",
      "Epoch 9/11\n",
      "60000/60000 [==============================] - 5s 80us/step - loss: 0.0204 - acc: 0.9935 - val_loss: 0.0300 - val_acc: 0.9901\n",
      "Epoch 10/11\n",
      "60000/60000 [==============================] - 5s 83us/step - loss: 0.0174 - acc: 0.9950 - val_loss: 0.0313 - val_acc: 0.9906\n",
      "Epoch 11/11\n",
      "60000/60000 [==============================] - 5s 82us/step - loss: 0.0154 - acc: 0.9950 - val_loss: 0.0339 - val_acc: 0.9895\n",
      "10000/10000 [==============================] - 1s 80us/step\n",
      "Test loss: 0.03391366318960099\n",
      "Test accuracy: 0.9895\n"
     ]
    },
    {
     "data": {
      "image/png": "[encoded data removed]",
      "text/plain": [
       "<matplotlib.figure.Figure at 0x2aabbfee1b70>"
      ]
     },
     "metadata": {},
     "output_type": "display_data"
    },
    {
     "data": {
      "image/png": "[encoded data removed]",
      "text/plain": [
       "<matplotlib.figure.Figure at 0x2aab37f68da0>"
      ]
     },
     "metadata": {},
     "output_type": "display_data"
    }
   ],
   "source": [
    "model_lenet_like = train_validate_analyze(get_lenet_like_model, batch_size=128, epochs=11)"
   ]
  },
  {
   "cell_type": "markdown",
   "metadata": {},
   "source": [
    "This is a decent result for a relatively small network (small number of parameters). It is very close to the result reported in LeCun's paper.\n",
    "\n",
    "The graphs shows that it is overfitting at around epoch 7. Before we completely give up on it, we will try to deal with the overfitting."
   ]
  },
  {
   "cell_type": "markdown",
   "metadata": {},
   "source": [
    "### Deal with overfitting"
   ]
  },
  {
   "cell_type": "markdown",
   "metadata": {},
   "source": [
    "To try to get more accuracy out of this network we will add dropout layers to fight overfitting."
   ]
  },
  {
   "cell_type": "code",
   "execution_count": 11,
   "metadata": {},
   "outputs": [],
   "source": [
    "# based on https://colab.research.google.com/drive/1CVm50PGE4vhtB5I_a_yc4h5F-itKOVL9\n",
    "\n",
    "from keras.layers import AveragePooling2D\n",
    "\n",
    "def get_lenet_like_model_with_dropout():\n",
    "    model = Sequential()\n",
    "    model.add(Conv2D(32, kernel_size=(3, 3),\n",
    "                     activation='relu',\n",
    "                     input_shape=input_shape))\n",
    "    model.add(AveragePooling2D())\n",
    "    model.add(Conv2D(16, (3, 3), activation='relu'))\n",
    "    model.add(AveragePooling2D())\n",
    "    model.add(Dropout(0.25))\n",
    "    model.add(Flatten())\n",
    "    model.add(Dense(units=120, activation='relu'))\n",
    "    model.add(Dropout(0.5))\n",
    "    model.add(Dense(units=84, activation='relu'))\n",
    "    model.add(Dropout(0.5))\n",
    "    model.add(Dense(units=NUM_CLASSES, activation = 'softmax'))\n",
    "\n",
    "    model.compile(loss=keras.losses.categorical_crossentropy,\n",
    "                  optimizer=keras.optimizers.Adadelta(),\n",
    "                  metrics=['accuracy'])\n",
    "    \n",
    "    return model"
   ]
  },
  {
   "cell_type": "code",
   "execution_count": 12,
   "metadata": {},
   "outputs": [
    {
     "name": "stdout",
     "output_type": "stream",
     "text": [
      "_________________________________________________________________\n",
      "Layer (type)                 Output Shape              Param #   \n",
      "=================================================================\n",
      "conv2d_5 (Conv2D)            (None, 26, 26, 32)        320       \n",
      "_________________________________________________________________\n",
      "average_pooling2d_3 (Average (None, 13, 13, 32)        0         \n",
      "_________________________________________________________________\n",
      "conv2d_6 (Conv2D)            (None, 11, 11, 16)        4624      \n",
      "_________________________________________________________________\n",
      "average_pooling2d_4 (Average (None, 5, 5, 16)          0         \n",
      "_________________________________________________________________\n",
      "dropout_3 (Dropout)          (None, 5, 5, 16)          0         \n",
      "_________________________________________________________________\n",
      "flatten_3 (Flatten)          (None, 400)               0         \n",
      "_________________________________________________________________\n",
      "dense_6 (Dense)              (None, 120)               48120     \n",
      "_________________________________________________________________\n",
      "dropout_4 (Dropout)          (None, 120)               0         \n",
      "_________________________________________________________________\n",
      "dense_7 (Dense)              (None, 84)                10164     \n",
      "_________________________________________________________________\n",
      "dropout_5 (Dropout)          (None, 84)                0         \n",
      "_________________________________________________________________\n",
      "dense_8 (Dense)              (None, 10)                850       \n",
      "=================================================================\n",
      "Total params: 64,078\n",
      "Trainable params: 64,078\n",
      "Non-trainable params: 0\n",
      "_________________________________________________________________\n",
      "Train on 60000 samples, validate on 10000 samples\n",
      "Epoch 1/11\n",
      "60000/60000 [==============================] - 6s 95us/step - loss: 0.6921 - acc: 0.7791 - val_loss: 0.1513 - val_acc: 0.9560\n",
      "Epoch 2/11\n",
      "60000/60000 [==============================] - 5s 91us/step - loss: 0.2902 - acc: 0.9187 - val_loss: 0.1012 - val_acc: 0.9689\n",
      "Epoch 3/11\n",
      "60000/60000 [==============================] - 5s 90us/step - loss: 0.2214 - acc: 0.9393 - val_loss: 0.0804 - val_acc: 0.9767\n",
      "Epoch 4/11\n",
      "60000/60000 [==============================] - 5s 91us/step - loss: 0.1866 - acc: 0.9496 - val_loss: 0.0680 - val_acc: 0.9798\n",
      "Epoch 5/11\n",
      "60000/60000 [==============================] - 6s 92us/step - loss: 0.1686 - acc: 0.9552 - val_loss: 0.0644 - val_acc: 0.9800\n",
      "Epoch 6/11\n",
      "60000/60000 [==============================] - 6s 93us/step - loss: 0.1538 - acc: 0.9591 - val_loss: 0.0582 - val_acc: 0.9828\n",
      "Epoch 7/11\n",
      "60000/60000 [==============================] - 6s 93us/step - loss: 0.1379 - acc: 0.9632 - val_loss: 0.0516 - val_acc: 0.9850\n",
      "Epoch 8/11\n",
      "60000/60000 [==============================] - 6s 93us/step - loss: 0.1310 - acc: 0.9654 - val_loss: 0.0479 - val_acc: 0.9853\n",
      "Epoch 9/11\n",
      "60000/60000 [==============================] - 6s 94us/step - loss: 0.1220 - acc: 0.9681 - val_loss: 0.0451 - val_acc: 0.9866\n",
      "Epoch 10/11\n",
      "60000/60000 [==============================] - 6s 94us/step - loss: 0.1175 - acc: 0.9689 - val_loss: 0.0455 - val_acc: 0.9867\n",
      "Epoch 11/11\n",
      "60000/60000 [==============================] - 5s 90us/step - loss: 0.1114 - acc: 0.9709 - val_loss: 0.0495 - val_acc: 0.9850\n",
      "10000/10000 [==============================] - 1s 81us/step\n",
      "Test loss: 0.049502689812447355\n",
      "Test accuracy: 0.985\n"
     ]
    },
    {
     "data": {
      "image/png": "[encoded data removed]",
      "text/plain": [
       "<matplotlib.figure.Figure at 0x2aacaceedeb8>"
      ]
     },
     "metadata": {},
     "output_type": "display_data"
    },
    {
     "data": {
      "image/png": "[encoded data removed]",
      "text/plain": [
       "<matplotlib.figure.Figure at 0x2aacacc846a0>"
      ]
     },
     "metadata": {},
     "output_type": "display_data"
    }
   ],
   "source": [
    "model_lenet_like_with_dropout = train_validate_analyze(get_lenet_like_model_with_dropout, batch_size=128, epochs=11)"
   ]
  },
  {
   "cell_type": "markdown",
   "metadata": {},
   "source": [
    "It is no longer overfitting. It is now underfitting.\n",
    "\n",
    "Since it is not overfitting we will push it further with more epochs, before we give up on it."
   ]
  },
  {
   "cell_type": "markdown",
   "metadata": {},
   "source": [
    "### Train longer, with early stopping"
   ]
  },
  {
   "cell_type": "markdown",
   "metadata": {},
   "source": [
    "Now that we are not overfitting we can train for more epochs.\n",
    "\n",
    "However, we don't know how many epochs ahead of time. We will use Keras' [`EarlyStopping` callback](https://keras.io/callbacks/#earlystopping) to decide when to stop.\n",
    "\n",
    "With early stopping in place we can use a high number of epochs and rely on the `EarlyStopping` callback to decide when to stop."
   ]
  },
  {
   "cell_type": "code",
   "execution_count": 13,
   "metadata": {},
   "outputs": [],
   "source": [
    "from keras.callbacks import EarlyStopping\n",
    "\n",
    "callbacks = [EarlyStopping(monitor='val_loss', patience=3, verbose=2)]\n",
    "# Keras 2.2.3 has a new parameter: restore_best_weights. It would improve results a bit.\n",
    "# FAU HPC is running Keras 2.1.x"
   ]
  },
  {
   "cell_type": "code",
   "execution_count": 14,
   "metadata": {
    "scrolled": false
   },
   "outputs": [
    {
     "name": "stdout",
     "output_type": "stream",
     "text": [
      "_________________________________________________________________\n",
      "Layer (type)                 Output Shape              Param #   \n",
      "=================================================================\n",
      "conv2d_7 (Conv2D)            (None, 26, 26, 32)        320       \n",
      "_________________________________________________________________\n",
      "average_pooling2d_5 (Average (None, 13, 13, 32)        0         \n",
      "_________________________________________________________________\n",
      "conv2d_8 (Conv2D)            (None, 11, 11, 16)        4624      \n",
      "_________________________________________________________________\n",
      "average_pooling2d_6 (Average (None, 5, 5, 16)          0         \n",
      "_________________________________________________________________\n",
      "dropout_6 (Dropout)          (None, 5, 5, 16)          0         \n",
      "_________________________________________________________________\n",
      "flatten_4 (Flatten)          (None, 400)               0         \n",
      "_________________________________________________________________\n",
      "dense_9 (Dense)              (None, 120)               48120     \n",
      "_________________________________________________________________\n",
      "dropout_7 (Dropout)          (None, 120)               0         \n",
      "_________________________________________________________________\n",
      "dense_10 (Dense)             (None, 84)                10164     \n",
      "_________________________________________________________________\n",
      "dropout_8 (Dropout)          (None, 84)                0         \n",
      "_________________________________________________________________\n",
      "dense_11 (Dense)             (None, 10)                850       \n",
      "=================================================================\n",
      "Total params: 64,078\n",
      "Trainable params: 64,078\n",
      "Non-trainable params: 0\n",
      "_________________________________________________________________\n",
      "Train on 60000 samples, validate on 10000 samples\n",
      "Epoch 1/100\n",
      " - 5s - loss: 0.6947 - acc: 0.7798 - val_loss: 0.1423 - val_acc: 0.9591\n",
      "Epoch 2/100\n",
      " - 5s - loss: 0.2752 - acc: 0.9222 - val_loss: 0.0995 - val_acc: 0.9683\n",
      "Epoch 3/100\n",
      " - 5s - loss: 0.2058 - acc: 0.9436 - val_loss: 0.0801 - val_acc: 0.9750\n",
      "Epoch 4/100\n",
      " - 5s - loss: 0.1754 - acc: 0.9533 - val_loss: 0.0666 - val_acc: 0.9810\n",
      "Epoch 5/100\n",
      " - 5s - loss: 0.1560 - acc: 0.9587 - val_loss: 0.0601 - val_acc: 0.9827\n",
      "Epoch 6/100\n",
      " - 5s - loss: 0.1380 - acc: 0.9633 - val_loss: 0.0535 - val_acc: 0.9825\n",
      "Epoch 7/100\n",
      " - 5s - loss: 0.1295 - acc: 0.9657 - val_loss: 0.0533 - val_acc: 0.9836\n",
      "Epoch 8/100\n",
      " - 5s - loss: 0.1187 - acc: 0.9679 - val_loss: 0.0461 - val_acc: 0.9851\n",
      "Epoch 9/100\n",
      " - 5s - loss: 0.1135 - acc: 0.9703 - val_loss: 0.0445 - val_acc: 0.9856\n",
      "Epoch 10/100\n",
      " - 5s - loss: 0.1082 - acc: 0.9715 - val_loss: 0.0414 - val_acc: 0.9872\n",
      "Epoch 11/100\n",
      " - 5s - loss: 0.1037 - acc: 0.9726 - val_loss: 0.0463 - val_acc: 0.9867\n",
      "Epoch 12/100\n",
      " - 5s - loss: 0.0989 - acc: 0.9743 - val_loss: 0.0426 - val_acc: 0.9868\n",
      "Epoch 13/100\n",
      " - 5s - loss: 0.0973 - acc: 0.9747 - val_loss: 0.0389 - val_acc: 0.9883\n",
      "Epoch 14/100\n",
      " - 5s - loss: 0.0910 - acc: 0.9765 - val_loss: 0.0395 - val_acc: 0.9888\n",
      "Epoch 15/100\n",
      " - 5s - loss: 0.0880 - acc: 0.9769 - val_loss: 0.0371 - val_acc: 0.9891\n",
      "Epoch 16/100\n",
      " - 5s - loss: 0.0868 - acc: 0.9779 - val_loss: 0.0354 - val_acc: 0.9892\n",
      "Epoch 17/100\n",
      " - 5s - loss: 0.0825 - acc: 0.9785 - val_loss: 0.0348 - val_acc: 0.9898\n",
      "Epoch 18/100\n",
      " - 5s - loss: 0.0796 - acc: 0.9794 - val_loss: 0.0322 - val_acc: 0.9902\n",
      "Epoch 19/100\n",
      " - 5s - loss: 0.0815 - acc: 0.9786 - val_loss: 0.0320 - val_acc: 0.9902\n",
      "Epoch 20/100\n",
      " - 5s - loss: 0.0791 - acc: 0.9799 - val_loss: 0.0314 - val_acc: 0.9909\n",
      "Epoch 21/100\n",
      " - 5s - loss: 0.0779 - acc: 0.9799 - val_loss: 0.0352 - val_acc: 0.9892\n",
      "Epoch 22/100\n",
      " - 5s - loss: 0.0790 - acc: 0.9803 - val_loss: 0.0314 - val_acc: 0.9905\n",
      "Epoch 23/100\n",
      " - 5s - loss: 0.0744 - acc: 0.9803 - val_loss: 0.0310 - val_acc: 0.9905\n",
      "Epoch 24/100\n",
      " - 5s - loss: 0.0728 - acc: 0.9816 - val_loss: 0.0305 - val_acc: 0.9909\n",
      "Epoch 25/100\n",
      " - 5s - loss: 0.0701 - acc: 0.9818 - val_loss: 0.0272 - val_acc: 0.9918\n",
      "Epoch 26/100\n",
      " - 5s - loss: 0.0688 - acc: 0.9825 - val_loss: 0.0293 - val_acc: 0.9914\n",
      "Epoch 27/100\n",
      " - 5s - loss: 0.0687 - acc: 0.9827 - val_loss: 0.0289 - val_acc: 0.9911\n",
      "Epoch 28/100\n",
      " - 5s - loss: 0.0681 - acc: 0.9827 - val_loss: 0.0308 - val_acc: 0.9912\n",
      "Epoch 00028: early stopping\n",
      "Test loss: 0.030806400398634286\n",
      "Test accuracy: 0.9912\n"
     ]
    },
    {
     "data": {
      "image/png": "[encoded data removed]",
      "text/plain": [
       "<matplotlib.figure.Figure at 0x2aacaff265c0>"
      ]
     },
     "metadata": {},
     "output_type": "display_data"
    },
    {
     "data": {
      "image/png": "[encoded data removed]",
      "text/plain": [
       "<matplotlib.figure.Figure at 0x2aacc2a0ceb8>"
      ]
     },
     "metadata": {},
     "output_type": "display_data"
    }
   ],
   "source": [
    "model_lenet_like_early_stopping = train_validate_analyze(get_lenet_like_model_with_dropout, batch_size=128, epochs=100, verbose=2,callbacks=callbacks) "
   ]
  },
  {
   "cell_type": "markdown",
   "metadata": {},
   "source": [
    "TODO: add analysis here"
   ]
  },
  {
   "cell_type": "markdown",
   "metadata": {},
   "source": [
    "## Step 5b: VGG-like network"
   ]
  },
  {
   "cell_type": "markdown",
   "metadata": {},
   "source": [
    "In this section we will attempt a network topology similar to the VGG network: a series of convolution layers with the same filter size, with pooling layers in between, followed by large dense layers.\n",
    "\n",
    "The distinguishing feature of this network is the repetition of the same 3 x 3 filter in all convolution layers."
   ]
  },
  {
   "cell_type": "code",
   "execution_count": 15,
   "metadata": {},
   "outputs": [],
   "source": [
    "# based on https://medium.com/@amir_hf8/implementing-vgg13-for-mnist-dataset-in-tensorflow-abc1460e2b93\n",
    "\n",
    "def get_vgg_like_model():\n",
    "    model = Sequential()\n",
    "    model.add(Conv2D(64, kernel_size=(3, 3),\n",
    "                     activation='relu',\n",
    "                     input_shape=input_shape, padding='same'))\n",
    "    model.add(Conv2D(64, (3, 3), activation='relu', padding='same'))\n",
    "    model.add(MaxPooling2D(pool_size=(2, 2), strides=(2,2), padding='same'))\n",
    "    \n",
    "    model.add(Conv2D(128, (3, 3), activation='relu', padding='same'))\n",
    "    model.add(Conv2D(128, (3, 3), activation='relu', padding='same'))\n",
    "    model.add(MaxPooling2D(pool_size=(2, 2), strides=(2,2), padding='same'))\n",
    "\n",
    "    model.add(Conv2D(256, (3, 3), activation='relu', padding='same'))\n",
    "    model.add(Conv2D(256, (3, 3), activation='relu', padding='same'))\n",
    "    model.add(MaxPooling2D(pool_size=(2, 2), strides=(2,2), padding='same'))\n",
    "\n",
    "    model.add(Conv2D(512, (3, 3), activation='relu', padding='same'))\n",
    "    model.add(Conv2D(512, (3, 3), activation='relu', padding='same'))\n",
    "    model.add(MaxPooling2D(pool_size=(2, 2), strides=(2,2), padding='same'))\n",
    "\n",
    "    model.add(Conv2D(512, (3, 3), activation='relu', padding='same'))\n",
    "    model.add(Conv2D(512, (3, 3), activation='relu', padding='same'))\n",
    "    model.add(MaxPooling2D(pool_size=(2, 2), strides=(2,2), padding='same'))\n",
    "\n",
    "    model.add(Flatten())\n",
    "    model.add(Dense(units=4096, activation='relu'))\n",
    "    model.add(Dense(units=4096, activation='relu'))\n",
    "    model.add(Dense(units=1000, activation='relu'))\n",
    "    model.add(Dense(units=NUM_CLASSES, activation = 'softmax'))\n",
    "\n",
    "    model.compile(loss=keras.losses.categorical_crossentropy,\n",
    "                  optimizer=keras.optimizers.Adadelta(),\n",
    "                  metrics=['accuracy'])\n",
    "    \n",
    "    return model"
   ]
  },
  {
   "cell_type": "markdown",
   "metadata": {},
   "source": [
    "Train with early stopping."
   ]
  },
  {
   "cell_type": "code",
   "execution_count": 16,
   "metadata": {},
   "outputs": [
    {
     "name": "stdout",
     "output_type": "stream",
     "text": [
      "_________________________________________________________________\n",
      "Layer (type)                 Output Shape              Param #   \n",
      "=================================================================\n",
      "conv2d_9 (Conv2D)            (None, 28, 28, 64)        640       \n",
      "_________________________________________________________________\n",
      "conv2d_10 (Conv2D)           (None, 28, 28, 64)        36928     \n",
      "_________________________________________________________________\n",
      "max_pooling2d_2 (MaxPooling2 (None, 14, 14, 64)        0         \n",
      "_________________________________________________________________\n",
      "conv2d_11 (Conv2D)           (None, 14, 14, 128)       73856     \n",
      "_________________________________________________________________\n",
      "conv2d_12 (Conv2D)           (None, 14, 14, 128)       147584    \n",
      "_________________________________________________________________\n",
      "max_pooling2d_3 (MaxPooling2 (None, 7, 7, 128)         0         \n",
      "_________________________________________________________________\n",
      "conv2d_13 (Conv2D)           (None, 7, 7, 256)         295168    \n",
      "_________________________________________________________________\n",
      "conv2d_14 (Conv2D)           (None, 7, 7, 256)         590080    \n",
      "_________________________________________________________________\n",
      "max_pooling2d_4 (MaxPooling2 (None, 4, 4, 256)         0         \n",
      "_________________________________________________________________\n",
      "conv2d_15 (Conv2D)           (None, 4, 4, 512)         1180160   \n",
      "_________________________________________________________________\n",
      "conv2d_16 (Conv2D)           (None, 4, 4, 512)         2359808   \n",
      "_________________________________________________________________\n",
      "max_pooling2d_5 (MaxPooling2 (None, 2, 2, 512)         0         \n",
      "_________________________________________________________________\n",
      "conv2d_17 (Conv2D)           (None, 2, 2, 512)         2359808   \n",
      "_________________________________________________________________\n",
      "conv2d_18 (Conv2D)           (None, 2, 2, 512)         2359808   \n",
      "_________________________________________________________________\n",
      "max_pooling2d_6 (MaxPooling2 (None, 1, 1, 512)         0         \n",
      "_________________________________________________________________\n",
      "flatten_5 (Flatten)          (None, 512)               0         \n",
      "_________________________________________________________________\n",
      "dense_12 (Dense)             (None, 4096)              2101248   \n",
      "_________________________________________________________________\n",
      "dense_13 (Dense)             (None, 4096)              16781312  \n",
      "_________________________________________________________________\n",
      "dense_14 (Dense)             (None, 1000)              4097000   \n",
      "_________________________________________________________________\n",
      "dense_15 (Dense)             (None, 10)                10010     \n",
      "=================================================================\n",
      "Total params: 32,393,410\n",
      "Trainable params: 32,393,410\n",
      "Non-trainable params: 0\n",
      "_________________________________________________________________\n",
      "Train on 60000 samples, validate on 10000 samples\n",
      "Epoch 1/100\n",
      " - 77s - loss: 1.7112 - acc: 0.3397 - val_loss: 0.1903 - val_acc: 0.9513\n",
      "Epoch 2/100\n",
      " - 74s - loss: 0.1324 - acc: 0.9661 - val_loss: 0.0692 - val_acc: 0.9818\n",
      "Epoch 3/100\n",
      " - 74s - loss: 0.0599 - acc: 0.9849 - val_loss: 0.0384 - val_acc: 0.9906\n",
      "Epoch 4/100\n",
      " - 74s - loss: 0.0379 - acc: 0.9899 - val_loss: 0.0409 - val_acc: 0.9907\n",
      "Epoch 5/100\n",
      " - 74s - loss: 0.0276 - acc: 0.9930 - val_loss: 0.0254 - val_acc: 0.9926\n",
      "Epoch 6/100\n",
      " - 74s - loss: 0.0204 - acc: 0.9945 - val_loss: 0.0423 - val_acc: 0.9902\n",
      "Epoch 7/100\n",
      " - 74s - loss: 0.0156 - acc: 0.9959 - val_loss: 0.0345 - val_acc: 0.9914\n",
      "Epoch 8/100\n",
      " - 74s - loss: 0.0127 - acc: 0.9965 - val_loss: 0.0295 - val_acc: 0.9927\n",
      "Epoch 00008: early stopping\n",
      "Test loss: 0.029548846164323187\n",
      "Test accuracy: 0.9927\n"
     ]
    },
    {
     "data": {
      "image/png": "[encoded data removed]",
      "text/plain": [
       "<matplotlib.figure.Figure at 0x2aacc3bda6a0>"
      ]
     },
     "metadata": {},
     "output_type": "display_data"
    },
    {
     "data": {
      "image/png": "[encoded data removed]",
      "text/plain": [
       "<matplotlib.figure.Figure at 0x2aacc3c2bc88>"
      ]
     },
     "metadata": {},
     "output_type": "display_data"
    }
   ],
   "source": [
    "model_vgg_like = train_validate_analyze(get_vgg_like_model, batch_size=128, epochs=100, verbose=2,callbacks=callbacks) "
   ]
  },
  {
   "cell_type": "markdown",
   "metadata": {},
   "source": [
    "TODO: Analysis"
   ]
  },
  {
   "cell_type": "markdown",
   "metadata": {},
   "source": [
    "# Step 6: Select the best model"
   ]
  },
  {
   "cell_type": "markdown",
   "metadata": {},
   "source": [
    "# Step 7: Analyze the best model"
   ]
  },
  {
   "cell_type": "markdown",
   "metadata": {},
   "source": [
    "## Step 7a: Visualize the model"
   ]
  },
  {
   "cell_type": "code",
   "execution_count": 17,
   "metadata": {},
   "outputs": [
    {
     "name": "stdout",
     "output_type": "stream",
     "text": [
      "\"dot\" with args ['-Tps', '/tmp/tmpw7t3dw5o'] returned code: 1\n",
      "\n",
      "stdout, stderr:\n",
      " b''\n",
      "b'Error: /usr/lib64/graphviz/config6 is zero sized, or other read error.\\nError: /usr/lib64/graphviz/config6 is zero sized, or other read error.\\nFormat: \"ps\" not recognized. Use one of:\\n'\n",
      "\n"
     ]
    },
    {
     "ename": "ImportError",
     "evalue": "Failed to import pydot. You must install pydot and graphviz for `pydotprint` to work.",
     "output_type": "error",
     "traceback": [
      "\u001b[0;31m---------------------------------------------------------------------------\u001b[0m",
      "\u001b[0;31mAssertionError\u001b[0m                            Traceback (most recent call last)",
      "\u001b[0;32m/var/web_services/galaxy/jupyter_conda/lib/python3.6/site-packages/keras/utils/vis_utils.py\u001b[0m in \u001b[0;36m_check_pydot\u001b[0;34m()\u001b[0m\n\u001b[1;32m     26\u001b[0m         \u001b[0;31m# to check the pydot/graphviz installation.\u001b[0m\u001b[0;34m\u001b[0m\u001b[0;34m\u001b[0m\u001b[0m\n\u001b[0;32m---> 27\u001b[0;31m         \u001b[0mpydot\u001b[0m\u001b[0;34m.\u001b[0m\u001b[0mDot\u001b[0m\u001b[0;34m.\u001b[0m\u001b[0mcreate\u001b[0m\u001b[0;34m(\u001b[0m\u001b[0mpydot\u001b[0m\u001b[0;34m.\u001b[0m\u001b[0mDot\u001b[0m\u001b[0;34m(\u001b[0m\u001b[0;34m)\u001b[0m\u001b[0;34m)\u001b[0m\u001b[0;34m\u001b[0m\u001b[0m\n\u001b[0m\u001b[1;32m     28\u001b[0m     \u001b[0;32mexcept\u001b[0m \u001b[0mException\u001b[0m\u001b[0;34m:\u001b[0m\u001b[0;34m\u001b[0m\u001b[0m\n",
      "\u001b[0;32m~/.local/lib/python3.6/site-packages/pydot.py\u001b[0m in \u001b[0;36mcreate\u001b[0;34m(self, prog, format, encoding)\u001b[0m\n\u001b[1;32m   1944\u001b[0m \u001b[0;34m\u001b[0m\u001b[0m\n\u001b[0;32m-> 1945\u001b[0;31m         \u001b[0;32massert\u001b[0m \u001b[0mprocess\u001b[0m\u001b[0;34m.\u001b[0m\u001b[0mreturncode\u001b[0m \u001b[0;34m==\u001b[0m \u001b[0;36m0\u001b[0m\u001b[0;34m,\u001b[0m \u001b[0mprocess\u001b[0m\u001b[0;34m.\u001b[0m\u001b[0mreturncode\u001b[0m\u001b[0;34m\u001b[0m\u001b[0m\n\u001b[0m\u001b[1;32m   1946\u001b[0m \u001b[0;34m\u001b[0m\u001b[0m\n",
      "\u001b[0;31mAssertionError\u001b[0m: 1",
      "\nDuring handling of the above exception, another exception occurred:\n",
      "\u001b[0;31mImportError\u001b[0m                               Traceback (most recent call last)",
      "\u001b[0;32m<ipython-input-17-8fca0bef752c>\u001b[0m in \u001b[0;36m<module>\u001b[0;34m()\u001b[0m\n\u001b[1;32m      7\u001b[0m \u001b[0;34m\u001b[0m\u001b[0m\n\u001b[1;32m      8\u001b[0m \u001b[0;31m# Sizing code from https://stackoverflow.com/a/54965459\u001b[0m\u001b[0;34m\u001b[0m\u001b[0;34m\u001b[0m\u001b[0m\n\u001b[0;32m----> 9\u001b[0;31m \u001b[0mdot_model\u001b[0m \u001b[0;34m=\u001b[0m \u001b[0mmodel_to_dot\u001b[0m\u001b[0;34m(\u001b[0m\u001b[0mmodel_lenet_like_with_dropout\u001b[0m\u001b[0;34m,\u001b[0m \u001b[0mshow_layer_names\u001b[0m\u001b[0;34m=\u001b[0m\u001b[0;32mFalse\u001b[0m\u001b[0;34m,\u001b[0m \u001b[0mshow_shapes\u001b[0m\u001b[0;34m=\u001b[0m\u001b[0;32mTrue\u001b[0m\u001b[0;34m)\u001b[0m\u001b[0;34m\u001b[0m\u001b[0m\n\u001b[0m\u001b[1;32m     10\u001b[0m \u001b[0mdot_model\u001b[0m\u001b[0;34m.\u001b[0m\u001b[0mset_size\u001b[0m\u001b[0;34m(\u001b[0m\u001b[0;34m'6x4'\u001b[0m\u001b[0;34m)\u001b[0m \u001b[0;31m# size in inches\u001b[0m\u001b[0;34m\u001b[0m\u001b[0m\n\u001b[1;32m     11\u001b[0m \u001b[0mSVG\u001b[0m\u001b[0;34m(\u001b[0m\u001b[0mdot_model\u001b[0m\u001b[0;34m.\u001b[0m\u001b[0mcreate\u001b[0m\u001b[0;34m(\u001b[0m\u001b[0mprog\u001b[0m\u001b[0;34m=\u001b[0m\u001b[0;34m'dot'\u001b[0m\u001b[0;34m,\u001b[0m \u001b[0mformat\u001b[0m\u001b[0;34m=\u001b[0m\u001b[0;34m'svg'\u001b[0m\u001b[0;34m)\u001b[0m\u001b[0;34m)\u001b[0m\u001b[0;34m\u001b[0m\u001b[0m\n",
      "\u001b[0;32m/var/web_services/galaxy/jupyter_conda/lib/python3.6/site-packages/keras/utils/vis_utils.py\u001b[0m in \u001b[0;36mmodel_to_dot\u001b[0;34m(model, show_shapes, show_layer_names, rankdir)\u001b[0m\n\u001b[1;32m     54\u001b[0m     \u001b[0;32mfrom\u001b[0m \u001b[0;34m.\u001b[0m\u001b[0;34m.\u001b[0m\u001b[0mmodels\u001b[0m \u001b[0;32mimport\u001b[0m \u001b[0mSequential\u001b[0m\u001b[0;34m\u001b[0m\u001b[0m\n\u001b[1;32m     55\u001b[0m \u001b[0;34m\u001b[0m\u001b[0m\n\u001b[0;32m---> 56\u001b[0;31m     \u001b[0m_check_pydot\u001b[0m\u001b[0;34m(\u001b[0m\u001b[0;34m)\u001b[0m\u001b[0;34m\u001b[0m\u001b[0m\n\u001b[0m\u001b[1;32m     57\u001b[0m     \u001b[0mdot\u001b[0m \u001b[0;34m=\u001b[0m \u001b[0mpydot\u001b[0m\u001b[0;34m.\u001b[0m\u001b[0mDot\u001b[0m\u001b[0;34m(\u001b[0m\u001b[0;34m)\u001b[0m\u001b[0;34m\u001b[0m\u001b[0m\n\u001b[1;32m     58\u001b[0m     \u001b[0mdot\u001b[0m\u001b[0;34m.\u001b[0m\u001b[0mset\u001b[0m\u001b[0;34m(\u001b[0m\u001b[0;34m'rankdir'\u001b[0m\u001b[0;34m,\u001b[0m \u001b[0mrankdir\u001b[0m\u001b[0;34m)\u001b[0m\u001b[0;34m\u001b[0m\u001b[0m\n",
      "\u001b[0;32m/var/web_services/galaxy/jupyter_conda/lib/python3.6/site-packages/keras/utils/vis_utils.py\u001b[0m in \u001b[0;36m_check_pydot\u001b[0;34m()\u001b[0m\n\u001b[1;32m     29\u001b[0m         \u001b[0;31m# pydot raises a generic Exception here,\u001b[0m\u001b[0;34m\u001b[0m\u001b[0;34m\u001b[0m\u001b[0m\n\u001b[1;32m     30\u001b[0m         \u001b[0;31m# so no specific class can be caught.\u001b[0m\u001b[0;34m\u001b[0m\u001b[0;34m\u001b[0m\u001b[0m\n\u001b[0;32m---> 31\u001b[0;31m         raise ImportError('Failed to import pydot. You must install pydot'\n\u001b[0m\u001b[1;32m     32\u001b[0m                           ' and graphviz for `pydotprint` to work.')\n\u001b[1;32m     33\u001b[0m \u001b[0;34m\u001b[0m\u001b[0m\n",
      "\u001b[0;31mImportError\u001b[0m: Failed to import pydot. You must install pydot and graphviz for `pydotprint` to work."
     ]
    }
   ],
   "source": [
    "# Requires pydot and graphviz - will **NOT** work in FAU's HPC as of March/2019\n",
    "#  pip install pydot\n",
    "#  pit install graphviz\n",
    "\n",
    "from IPython.display import SVG\n",
    "from keras.utils.vis_utils import model_to_dot\n",
    "\n",
    "# Sizing code from https://stackoverflow.com/a/54965459\n",
    "dot_model = model_to_dot(model_lenet_like_with_dropout, show_layer_names=False, show_shapes=True)\n",
    "dot_model.set_size('6x4') # size in inches\n",
    "SVG(dot_model.create(prog='dot', format='svg'))"
   ]
  },
  {
   "cell_type": "code",
   "execution_count": null,
   "metadata": {},
   "outputs": [],
   "source": []
  }
 ],
 "metadata": {
  "kernelspec": {
   "display_name": "Python 3",
   "language": "python",
   "name": "python3"
  },
  "language_info": {
   "codemirror_mode": {
    "name": "ipython",
    "version": 3
   },
   "file_extension": ".py",
   "mimetype": "text/x-python",
   "name": "python",
   "nbconvert_exporter": "python",
   "pygments_lexer": "ipython3",
   "version": "3.6.4"
  },
  "nav_menu": {},
  "toc": {
   "nav_menu": {},
   "number_sections": true,
   "sideBar": true,
   "skip_h1_title": false,
   "title_cell": "Table of Contents",
   "title_sidebar": "Contents",
   "toc_cell": false,
   "toc_position": {},
   "toc_section_display": "block",
   "toc_window_display": false
  }
 },
 "nbformat": 4,
 "nbformat_minor": 2
}
