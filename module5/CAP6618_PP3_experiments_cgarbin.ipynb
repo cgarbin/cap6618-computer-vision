{
 "cells": [
  {
   "cell_type": "markdown",
   "metadata": {},
   "source": [
    "# CAP 6618 - Machine Learning for Computer Vision"
   ]
  },
  {
   "cell_type": "markdown",
   "metadata": {},
   "source": [
    "Christian Garbin\n",
    "Spring 2019"
   ]
  },
  {
   "cell_type": "markdown",
   "metadata": {},
   "source": [
    "# Programming Project 3\n",
    "See guidelines on Canvas for details."
   ]
  },
  {
   "cell_type": "markdown",
   "metadata": {},
   "source": [
    "# Step 1: Setup"
   ]
  },
  {
   "cell_type": "markdown",
   "metadata": {},
   "source": [
    "First, make sure that you have installed Keras on your computer."
   ]
  },
  {
   "cell_type": "code",
   "execution_count": 1,
   "metadata": {},
   "outputs": [
    {
     "name": "stderr",
     "output_type": "stream",
     "text": [
      "/var/web_services/galaxy/jupyter_conda/lib/python3.6/site-packages/h5py/__init__.py:36: FutureWarning: Conversion of the second argument of issubdtype from `float` to `np.floating` is deprecated. In future, it will be treated as `np.float64 == np.dtype(float).type`.\n",
      "  from ._conv import register_converters as _register_converters\n",
      "Using TensorFlow backend.\n"
     ]
    }
   ],
   "source": [
    "# Code from https://github.com/keras-team/keras \n",
    "\n",
    "from __future__ import print_function\n",
    "import keras\n",
    "from keras.datasets import mnist\n",
    "from keras.models import Sequential\n",
    "from keras.layers import Dense, Dropout, Flatten\n",
    "from keras.layers import Conv2D, MaxPooling2D\n",
    "from keras.optimizers import RMSprop\n",
    "from keras import backend as K"
   ]
  },
  {
   "cell_type": "code",
   "execution_count": 2,
   "metadata": {},
   "outputs": [],
   "source": [
    "%matplotlib inline\n",
    "import matplotlib.pyplot as plt"
   ]
  },
  {
   "cell_type": "markdown",
   "metadata": {},
   "source": [
    "## Step 1a: Auxiliary functions"
   ]
  },
  {
   "cell_type": "markdown",
   "metadata": {},
   "source": [
    "Some data manipulation and visualization functions."
   ]
  },
  {
   "cell_type": "markdown",
   "metadata": {},
   "source": [
    "Visualize Keras training accuracy and loss, given a `History` object collected from calling `fit()`."
   ]
  },
  {
   "cell_type": "code",
   "execution_count": 3,
   "metadata": {},
   "outputs": [],
   "source": [
    "# From https://keras.io/visualization/\n",
    "\n",
    "def plot_keras_history(history):\n",
    "    # Plot training & validation accuracy values\n",
    "    plt.plot(history.history['acc'])\n",
    "    plt.plot(history.history['val_acc'])\n",
    "    plt.title('Model accuracy')\n",
    "    plt.ylabel('Accuracy')\n",
    "    plt.xlabel('Epoch')\n",
    "    plt.legend(['Train', 'Test'], loc='upper left')\n",
    "    plt.show()\n",
    "\n",
    "    # Plot training & validation loss values\n",
    "    plt.plot(history.history['loss'])\n",
    "    plt.plot(history.history['val_loss'])\n",
    "    plt.title('Model loss')\n",
    "    plt.ylabel('Loss')\n",
    "    plt.xlabel('Epoch')\n",
    "    plt.legend(['Train', 'Test'], loc='upper left')\n",
    "    plt.show()"
   ]
  },
  {
   "cell_type": "markdown",
   "metadata": {},
   "source": [
    "# Step 2: Load (and split) the MNIST dataset"
   ]
  },
  {
   "cell_type": "code",
   "execution_count": 4,
   "metadata": {},
   "outputs": [
    {
     "name": "stdout",
     "output_type": "stream",
     "text": [
      "60000 train samples\n",
      "10000 test samples\n"
     ]
    }
   ],
   "source": [
    "# Code from https://github.com/keras-team/keras \n",
    "\n",
    "# the data, shuffled and split between train and test sets\n",
    "(x_train, y_train), (x_test, y_test) = mnist.load_data()\n",
    "\n",
    "x_train = x_train.reshape(60000, 784)\n",
    "x_test = x_test.reshape(10000, 784)\n",
    "x_train = x_train.astype('float32')\n",
    "x_test = x_test.astype('float32')\n",
    "x_train /= 255\n",
    "x_test /= 255\n",
    "print(x_train.shape[0], 'train samples')\n",
    "print(x_test.shape[0], 'test samples')"
   ]
  },
  {
   "cell_type": "markdown",
   "metadata": {},
   "source": [
    "# Step 3: Prepare the data"
   ]
  },
  {
   "cell_type": "code",
   "execution_count": 5,
   "metadata": {},
   "outputs": [],
   "source": [
    "# Code from https://github.com/keras-team/keras \n",
    "\n",
    "num_classes = 10\n",
    "\n",
    "# convert class vectors to binary class matrices\n",
    "y_train = keras.utils.to_categorical(y_train, num_classes)\n",
    "y_test = keras.utils.to_categorical(y_test, num_classes)"
   ]
  },
  {
   "cell_type": "markdown",
   "metadata": {},
   "source": [
    "# Step 4: Build the first model (deep MLP) in Keras  "
   ]
  },
  {
   "cell_type": "code",
   "execution_count": 6,
   "metadata": {},
   "outputs": [
    {
     "name": "stdout",
     "output_type": "stream",
     "text": [
      "_________________________________________________________________\n",
      "Layer (type)                 Output Shape              Param #   \n",
      "=================================================================\n",
      "dense_1 (Dense)              (None, 512)               401920    \n",
      "_________________________________________________________________\n",
      "dropout_1 (Dropout)          (None, 512)               0         \n",
      "_________________________________________________________________\n",
      "dense_2 (Dense)              (None, 512)               262656    \n",
      "_________________________________________________________________\n",
      "dropout_2 (Dropout)          (None, 512)               0         \n",
      "_________________________________________________________________\n",
      "dense_3 (Dense)              (None, 10)                5130      \n",
      "=================================================================\n",
      "Total params: 669,706\n",
      "Trainable params: 669,706\n",
      "Non-trainable params: 0\n",
      "_________________________________________________________________\n"
     ]
    }
   ],
   "source": [
    "# Code from https://github.com/keras-team/keras \n",
    "\n",
    "model1 = Sequential()\n",
    "model1.add(Dense(512, activation='relu', input_shape=(784,)))\n",
    "model1.add(Dropout(0.2))\n",
    "model1.add(Dense(512, activation='relu'))\n",
    "model1.add(Dropout(0.2))\n",
    "model1.add(Dense(num_classes, activation='softmax'))\n",
    "\n",
    "model1.compile(loss='categorical_crossentropy',\n",
    "              optimizer=RMSprop(),\n",
    "              metrics=['accuracy'])\n",
    "\n",
    "model1.summary()"
   ]
  },
  {
   "cell_type": "markdown",
   "metadata": {},
   "source": [
    "# Step 5: Train the first network  "
   ]
  },
  {
   "cell_type": "markdown",
   "metadata": {},
   "source": [
    "12 epochs, mini-batch size = 128 <br/>\n",
    "This will take ~10 seconds per epoch on a CPU."
   ]
  },
  {
   "cell_type": "code",
   "execution_count": 7,
   "metadata": {},
   "outputs": [
    {
     "name": "stdout",
     "output_type": "stream",
     "text": [
      "Train on 60000 samples, validate on 10000 samples\n",
      "Epoch 1/12\n",
      "60000/60000 [==============================] - 4s 69us/step - loss: 0.2463 - acc: 0.9237 - val_loss: 0.1137 - val_acc: 0.9648\n",
      "Epoch 2/12\n",
      "60000/60000 [==============================] - 2s 32us/step - loss: 0.1027 - acc: 0.9684 - val_loss: 0.0752 - val_acc: 0.9778\n",
      "Epoch 3/12\n",
      "60000/60000 [==============================] - 2s 32us/step - loss: 0.0738 - acc: 0.9777 - val_loss: 0.0747 - val_acc: 0.9787\n",
      "Epoch 4/12\n",
      "60000/60000 [==============================] - 2s 33us/step - loss: 0.0597 - acc: 0.9820 - val_loss: 0.0753 - val_acc: 0.9788\n",
      "Epoch 5/12\n",
      "60000/60000 [==============================] - 2s 31us/step - loss: 0.0513 - acc: 0.9846 - val_loss: 0.0751 - val_acc: 0.9801\n",
      "Epoch 6/12\n",
      "60000/60000 [==============================] - 2s 33us/step - loss: 0.0414 - acc: 0.9878 - val_loss: 0.0765 - val_acc: 0.9814\n",
      "Epoch 7/12\n",
      "60000/60000 [==============================] - 2s 33us/step - loss: 0.0396 - acc: 0.9883 - val_loss: 0.0838 - val_acc: 0.9804\n",
      "Epoch 8/12\n",
      "60000/60000 [==============================] - 2s 33us/step - loss: 0.0329 - acc: 0.9908 - val_loss: 0.0873 - val_acc: 0.9812\n",
      "Epoch 9/12\n",
      "60000/60000 [==============================] - 2s 32us/step - loss: 0.0326 - acc: 0.9905 - val_loss: 0.0987 - val_acc: 0.9794\n",
      "Epoch 10/12\n",
      "60000/60000 [==============================] - 2s 33us/step - loss: 0.0295 - acc: 0.9918 - val_loss: 0.0802 - val_acc: 0.9839\n",
      "Epoch 11/12\n",
      "60000/60000 [==============================] - 2s 33us/step - loss: 0.0250 - acc: 0.9927 - val_loss: 0.0848 - val_acc: 0.9834\n",
      "Epoch 12/12\n",
      "60000/60000 [==============================] - 2s 33us/step - loss: 0.0247 - acc: 0.9926 - val_loss: 0.0833 - val_acc: 0.9838\n"
     ]
    }
   ],
   "source": [
    "# Code from https://github.com/keras-team/keras \n",
    "\n",
    "batch_size = 128\n",
    "epochs = 12\n",
    "history1 = model1.fit(x_train, y_train,\n",
    "                    batch_size=batch_size,\n",
    "                    epochs=epochs,\n",
    "                    verbose=1,\n",
    "                    validation_data=(x_test, y_test))"
   ]
  },
  {
   "cell_type": "markdown",
   "metadata": {},
   "source": [
    "# Step 6: Evaluate performance on test set"
   ]
  },
  {
   "cell_type": "code",
   "execution_count": 8,
   "metadata": {},
   "outputs": [
    {
     "name": "stdout",
     "output_type": "stream",
     "text": [
      "Test loss: 0.08333979719318782\n",
      "Test accuracy: 0.9838\n"
     ]
    }
   ],
   "source": [
    "score1 = model1.evaluate(x_test, y_test, verbose=0)\n",
    "print('Test loss:', score1[0])\n",
    "print('Test accuracy:', score1[1])"
   ]
  },
  {
   "cell_type": "markdown",
   "metadata": {},
   "source": [
    "# Step 7: Build the second model (CNN) in Keras  "
   ]
  },
  {
   "cell_type": "code",
   "execution_count": 9,
   "metadata": {},
   "outputs": [
    {
     "name": "stdout",
     "output_type": "stream",
     "text": [
      "x_train shape: (60000, 28, 28, 1)\n",
      "60000 train samples\n",
      "10000 test samples\n"
     ]
    }
   ],
   "source": [
    "# Code from https://github.com/keras-team/keras \n",
    "\n",
    "# Re-load and re-shape the dataset\n",
    "\n",
    "# input image dimensions\n",
    "img_rows, img_cols = 28, 28\n",
    "\n",
    "# the data, shuffled and split between train and test sets\n",
    "(x_train, y_train), (x_test, y_test) = mnist.load_data()\n",
    "\n",
    "if K.image_data_format() == 'channels_first':\n",
    "    x_train = x_train.reshape(x_train.shape[0], 1, img_rows, img_cols)\n",
    "    x_test = x_test.reshape(x_test.shape[0], 1, img_rows, img_cols)\n",
    "    input_shape = (1, img_rows, img_cols)\n",
    "else:\n",
    "    x_train = x_train.reshape(x_train.shape[0], img_rows, img_cols, 1)\n",
    "    x_test = x_test.reshape(x_test.shape[0], img_rows, img_cols, 1)\n",
    "    input_shape = (img_rows, img_cols, 1)\n",
    "\n",
    "x_train = x_train.astype('float32')\n",
    "x_test = x_test.astype('float32')\n",
    "x_train /= 255\n",
    "x_test /= 255\n",
    "print('x_train shape:', x_train.shape)\n",
    "print(x_train.shape[0], 'train samples')\n",
    "print(x_test.shape[0], 'test samples')\n",
    "\n",
    "# convert class vectors to binary class matrices\n",
    "y_train = keras.utils.to_categorical(y_train, num_classes)\n",
    "y_test = keras.utils.to_categorical(y_test, num_classes)"
   ]
  },
  {
   "cell_type": "markdown",
   "metadata": {},
   "source": [
    "Create the model for this section."
   ]
  },
  {
   "cell_type": "code",
   "execution_count": 10,
   "metadata": {},
   "outputs": [],
   "source": [
    "# To print the model only once\n",
    "first_time = True\n",
    "\n",
    "def get_model():\n",
    "    global first_time\n",
    "\n",
    "    # Code from https://github.com/keras-team/keras \n",
    "    num_classes = 10\n",
    "\n",
    "    model = Sequential()\n",
    "    model.add(Conv2D(32, kernel_size=(3, 3),\n",
    "                     activation='relu',\n",
    "                     input_shape=input_shape))\n",
    "    model.add(Conv2D(64, (3, 3), activation='relu'))\n",
    "    model.add(MaxPooling2D(pool_size=(2, 2)))\n",
    "    model.add(Dropout(0.25))\n",
    "    model.add(Flatten())\n",
    "    model.add(Dense(128, activation='relu'))\n",
    "    model.add(Dropout(0.5))\n",
    "    model.add(Dense(num_classes, activation='softmax'))\n",
    "\n",
    "    model.compile(loss=keras.losses.categorical_crossentropy,\n",
    "                  optimizer=keras.optimizers.Adadelta(),\n",
    "                  metrics=['accuracy'])\n",
    "\n",
    "    if first_time:\n",
    "        model.summary()\n",
    "        first_time = False\n",
    "        \n",
    "    return model"
   ]
  },
  {
   "cell_type": "markdown",
   "metadata": {},
   "source": [
    "Train the mode, validate on test data and display some pieces of data to anaylize it."
   ]
  },
  {
   "cell_type": "code",
   "execution_count": 11,
   "metadata": {},
   "outputs": [],
   "source": [
    "def train_validate_analyze(batch_size, epochs):\n",
    "    # Always create a new model. Calling fit() twice on a model resumes training, so\n",
    "    # to compare configurations we need a new model, to ensure it starts from scratch.\n",
    "    model = get_model()\n",
    "\n",
    "    history = model.fit(x_train, y_train,\n",
    "          batch_size=batch_size,\n",
    "          epochs=epochs,\n",
    "          verbose=1,\n",
    "          validation_data=(x_test, y_test))\n",
    "    \n",
    "    score = model.evaluate(x_test, y_test, verbose=1)\n",
    "    print('Test loss:', score[0]) \n",
    "    print('Test accuracy:', score[1])\n",
    "    \n",
    "    plot_keras_history(history)"
   ]
  },
  {
   "cell_type": "markdown",
   "metadata": {},
   "source": [
    "# Step 8: Train, validate and analyze the second network  "
   ]
  },
  {
   "cell_type": "markdown",
   "metadata": {},
   "source": [
    "12 epochs, mini-batch size = 128 <br/>\n",
    "<b>WARNING:</b> This will take 3-5 minutes per epoch on a CPU! You might want to reduce the value of varibale 'epochs' before training the first time and/or save the resulting model after the training is over."
   ]
  },
  {
   "cell_type": "code",
   "execution_count": 12,
   "metadata": {},
   "outputs": [
    {
     "name": "stdout",
     "output_type": "stream",
     "text": [
      "_________________________________________________________________\n",
      "Layer (type)                 Output Shape              Param #   \n",
      "=================================================================\n",
      "conv2d_1 (Conv2D)            (None, 26, 26, 32)        320       \n",
      "_________________________________________________________________\n",
      "conv2d_2 (Conv2D)            (None, 24, 24, 64)        18496     \n",
      "_________________________________________________________________\n",
      "max_pooling2d_1 (MaxPooling2 (None, 12, 12, 64)        0         \n",
      "_________________________________________________________________\n",
      "dropout_3 (Dropout)          (None, 12, 12, 64)        0         \n",
      "_________________________________________________________________\n",
      "flatten_1 (Flatten)          (None, 9216)              0         \n",
      "_________________________________________________________________\n",
      "dense_4 (Dense)              (None, 128)               1179776   \n",
      "_________________________________________________________________\n",
      "dropout_4 (Dropout)          (None, 128)               0         \n",
      "_________________________________________________________________\n",
      "dense_5 (Dense)              (None, 10)                1290      \n",
      "=================================================================\n",
      "Total params: 1,199,882\n",
      "Trainable params: 1,199,882\n",
      "Non-trainable params: 0\n",
      "_________________________________________________________________\n",
      "Train on 60000 samples, validate on 10000 samples\n",
      "Epoch 1/12\n",
      "60000/60000 [==============================] - 7s 114us/step - loss: 0.2589 - acc: 0.9209 - val_loss: 0.0620 - val_acc: 0.9788\n",
      "Epoch 2/12\n",
      "60000/60000 [==============================] - 4s 72us/step - loss: 0.0867 - acc: 0.9744 - val_loss: 0.0468 - val_acc: 0.9840\n",
      "Epoch 3/12\n",
      "60000/60000 [==============================] - 4s 72us/step - loss: 0.0649 - acc: 0.9805 - val_loss: 0.0349 - val_acc: 0.9884\n",
      "Epoch 4/12\n",
      "60000/60000 [==============================] - 4s 72us/step - loss: 0.0538 - acc: 0.9841 - val_loss: 0.0297 - val_acc: 0.9895\n",
      "Epoch 5/12\n",
      "60000/60000 [==============================] - 4s 72us/step - loss: 0.0458 - acc: 0.9865 - val_loss: 0.0288 - val_acc: 0.9911\n",
      "Epoch 6/12\n",
      "60000/60000 [==============================] - 4s 72us/step - loss: 0.0407 - acc: 0.9877 - val_loss: 0.0310 - val_acc: 0.9901\n",
      "Epoch 7/12\n",
      "60000/60000 [==============================] - 4s 72us/step - loss: 0.0376 - acc: 0.9883 - val_loss: 0.0292 - val_acc: 0.9911\n",
      "Epoch 8/12\n",
      "60000/60000 [==============================] - 4s 72us/step - loss: 0.0343 - acc: 0.9895 - val_loss: 0.0278 - val_acc: 0.9905\n",
      "Epoch 9/12\n",
      "60000/60000 [==============================] - 4s 72us/step - loss: 0.0325 - acc: 0.9905 - val_loss: 0.0279 - val_acc: 0.9908\n",
      "Epoch 10/12\n",
      "60000/60000 [==============================] - 4s 72us/step - loss: 0.0290 - acc: 0.9909 - val_loss: 0.0291 - val_acc: 0.9911\n",
      "Epoch 11/12\n",
      "60000/60000 [==============================] - 4s 72us/step - loss: 0.0267 - acc: 0.9917 - val_loss: 0.0246 - val_acc: 0.9928\n",
      "Epoch 12/12\n",
      "60000/60000 [==============================] - 4s 71us/step - loss: 0.0255 - acc: 0.9920 - val_loss: 0.0250 - val_acc: 0.9925\n",
      "10000/10000 [==============================] - 1s 61us/step\n",
      "Test loss: 0.025043110915532088\n",
      "Test accuracy: 0.9925\n"
     ]
    },
    {
     "data": {
      "image/png": "[encoded data removed]",
      "text/plain": [
       "<matplotlib.figure.Figure at 0x2aab37e61a90>"
      ]
     },
     "metadata": {},
     "output_type": "display_data"
    },
    {
     "data": {
      "image/png": "[encoded data removed]",
      "text/plain": [
       "<matplotlib.figure.Figure at 0x2aab29410438>"
      ]
     },
     "metadata": {},
     "output_type": "display_data"
    }
   ],
   "source": [
    "train_validate_analyze(128, 12)"
   ]
  },
  {
   "cell_type": "markdown",
   "metadata": {},
   "source": [
    "# Step 9: Fine-tune the network"
   ]
  },
  {
   "cell_type": "markdown",
   "metadata": {},
   "source": [
    "The graphs above show that training and test accuracy are still convering. That is a sign the network is not overfitting and we could train it for longer.\n",
    "\n",
    "Therefore, as a first attempt to improve the accuracy we will train it for more epochs."
   ]
  },
  {
   "cell_type": "markdown",
   "metadata": {},
   "source": [
    "## Step 9a: Train longer to find where it overfits"
   ]
  },
  {
   "cell_type": "code",
   "execution_count": 13,
   "metadata": {
    "scrolled": false
   },
   "outputs": [
    {
     "name": "stdout",
     "output_type": "stream",
     "text": [
      "Train on 60000 samples, validate on 10000 samples\n",
      "Epoch 1/20\n",
      "60000/60000 [==============================] - 5s 75us/step - loss: 0.2677 - acc: 0.9171 - val_loss: 0.0551 - val_acc: 0.9834\n",
      "Epoch 2/20\n",
      "60000/60000 [==============================] - 4s 72us/step - loss: 0.0889 - acc: 0.9732 - val_loss: 0.0415 - val_acc: 0.9870\n",
      "Epoch 3/20\n",
      "60000/60000 [==============================] - 4s 72us/step - loss: 0.0665 - acc: 0.9808 - val_loss: 0.0359 - val_acc: 0.9870\n",
      "Epoch 4/20\n",
      "60000/60000 [==============================] - 4s 71us/step - loss: 0.0545 - acc: 0.9834 - val_loss: 0.0330 - val_acc: 0.9878\n",
      "Epoch 5/20\n",
      "60000/60000 [==============================] - 4s 72us/step - loss: 0.0490 - acc: 0.9856 - val_loss: 0.0299 - val_acc: 0.9896\n",
      "Epoch 6/20\n",
      "60000/60000 [==============================] - 4s 71us/step - loss: 0.0417 - acc: 0.9873 - val_loss: 0.0284 - val_acc: 0.9899\n",
      "Epoch 7/20\n",
      "60000/60000 [==============================] - 4s 72us/step - loss: 0.0400 - acc: 0.9882 - val_loss: 0.0256 - val_acc: 0.9914\n",
      "Epoch 8/20\n",
      "60000/60000 [==============================] - 4s 72us/step - loss: 0.0353 - acc: 0.9889 - val_loss: 0.0266 - val_acc: 0.9905\n",
      "Epoch 9/20\n",
      "60000/60000 [==============================] - 4s 72us/step - loss: 0.0313 - acc: 0.9906 - val_loss: 0.0290 - val_acc: 0.9910\n",
      "Epoch 10/20\n",
      "60000/60000 [==============================] - 4s 72us/step - loss: 0.0296 - acc: 0.9906 - val_loss: 0.0273 - val_acc: 0.9920\n",
      "Epoch 11/20\n",
      "60000/60000 [==============================] - 4s 71us/step - loss: 0.0283 - acc: 0.9916 - val_loss: 0.0273 - val_acc: 0.9907\n",
      "Epoch 12/20\n",
      "60000/60000 [==============================] - 4s 71us/step - loss: 0.0273 - acc: 0.9916 - val_loss: 0.0249 - val_acc: 0.9913\n",
      "Epoch 13/20\n",
      "60000/60000 [==============================] - 4s 72us/step - loss: 0.0264 - acc: 0.9920 - val_loss: 0.0271 - val_acc: 0.9915\n",
      "Epoch 14/20\n",
      "60000/60000 [==============================] - 4s 72us/step - loss: 0.0256 - acc: 0.9916 - val_loss: 0.0278 - val_acc: 0.9908\n",
      "Epoch 15/20\n",
      "60000/60000 [==============================] - 4s 72us/step - loss: 0.0235 - acc: 0.9925 - val_loss: 0.0257 - val_acc: 0.9907\n",
      "Epoch 16/20\n",
      "60000/60000 [==============================] - 4s 72us/step - loss: 0.0239 - acc: 0.9928 - val_loss: 0.0298 - val_acc: 0.9907\n",
      "Epoch 17/20\n",
      "60000/60000 [==============================] - 4s 72us/step - loss: 0.0223 - acc: 0.9931 - val_loss: 0.0261 - val_acc: 0.9913\n",
      "Epoch 18/20\n",
      "60000/60000 [==============================] - 4s 72us/step - loss: 0.0232 - acc: 0.9930 - val_loss: 0.0229 - val_acc: 0.9930\n",
      "Epoch 19/20\n",
      "60000/60000 [==============================] - 4s 72us/step - loss: 0.0224 - acc: 0.9927 - val_loss: 0.0327 - val_acc: 0.9907\n",
      "Epoch 20/20\n",
      "60000/60000 [==============================] - 4s 72us/step - loss: 0.0215 - acc: 0.9931 - val_loss: 0.0254 - val_acc: 0.9918\n",
      "10000/10000 [==============================] - 1s 62us/step\n",
      "Test loss: 0.025385509729010526\n",
      "Test accuracy: 0.9918\n"
     ]
    },
    {
     "data": {
      "image/png": "[encoded data removed]",
      "text/plain": [
       "<matplotlib.figure.Figure at 0x2aae8aface10>"
      ]
     },
     "metadata": {},
     "output_type": "display_data"
    },
    {
     "data": {
      "image/png": "[encoded data removed]",
      "text/plain": [
       "<matplotlib.figure.Figure at 0x2aab93fa35c0>"
      ]
     },
     "metadata": {},
     "output_type": "display_data"
    }
   ],
   "source": [
    "train_validate_analyze(128, epochs=20)"
   ]
  },
  {
   "cell_type": "markdown",
   "metadata": {},
   "source": [
    "At around epoch 11 (the graph starts at zero) the network starts to overfit."
   ]
  },
  {
   "cell_type": "markdown",
   "metadata": {},
   "source": [
    "## Step 9b: Train up to the best epoch"
   ]
  },
  {
   "cell_type": "markdown",
   "metadata": {},
   "source": [
    "Now we will train up to that epoch."
   ]
  },
  {
   "cell_type": "code",
   "execution_count": 14,
   "metadata": {},
   "outputs": [
    {
     "name": "stdout",
     "output_type": "stream",
     "text": [
      "Train on 60000 samples, validate on 10000 samples\n",
      "Epoch 1/11\n",
      "60000/60000 [==============================] - 5s 77us/step - loss: 0.2656 - acc: 0.9186 - val_loss: 0.0587 - val_acc: 0.9805\n",
      "Epoch 2/11\n",
      "60000/60000 [==============================] - 4s 72us/step - loss: 0.0869 - acc: 0.9738 - val_loss: 0.0378 - val_acc: 0.9870\n",
      "Epoch 3/11\n",
      "60000/60000 [==============================] - 4s 73us/step - loss: 0.0674 - acc: 0.9801 - val_loss: 0.0384 - val_acc: 0.9876\n",
      "Epoch 4/11\n",
      "60000/60000 [==============================] - 4s 73us/step - loss: 0.0537 - acc: 0.9841 - val_loss: 0.0327 - val_acc: 0.9894\n",
      "Epoch 5/11\n",
      "60000/60000 [==============================] - 4s 73us/step - loss: 0.0470 - acc: 0.9855 - val_loss: 0.0309 - val_acc: 0.9893\n",
      "Epoch 6/11\n",
      "60000/60000 [==============================] - 4s 73us/step - loss: 0.0408 - acc: 0.9876 - val_loss: 0.0286 - val_acc: 0.9905\n",
      "Epoch 7/11\n",
      "60000/60000 [==============================] - 4s 72us/step - loss: 0.0380 - acc: 0.9884 - val_loss: 0.0277 - val_acc: 0.9912\n",
      "Epoch 8/11\n",
      "60000/60000 [==============================] - 4s 72us/step - loss: 0.0358 - acc: 0.9889 - val_loss: 0.0280 - val_acc: 0.9908\n",
      "Epoch 9/11\n",
      "60000/60000 [==============================] - 4s 73us/step - loss: 0.0306 - acc: 0.9905 - val_loss: 0.0287 - val_acc: 0.9915\n",
      "Epoch 10/11\n",
      "60000/60000 [==============================] - 4s 73us/step - loss: 0.0295 - acc: 0.9909 - val_loss: 0.0261 - val_acc: 0.9918\n",
      "Epoch 11/11\n",
      "60000/60000 [==============================] - 4s 72us/step - loss: 0.0273 - acc: 0.9914 - val_loss: 0.0254 - val_acc: 0.9916\n",
      "10000/10000 [==============================] - 1s 62us/step\n",
      "Test loss: 0.025396050290306085\n",
      "Test accuracy: 0.9916\n"
     ]
    },
    {
     "data": {
      "image/png": "[encoded data removed]",
      "text/plain": [
       "<matplotlib.figure.Figure at 0x2aab93f505f8>"
      ]
     },
     "metadata": {},
     "output_type": "display_data"
    },
    {
     "data": {
      "image/png": "[encoded data removed]",
      "text/plain": [
       "<matplotlib.figure.Figure at 0x2aae8b37b898>"
      ]
     },
     "metadata": {},
     "output_type": "display_data"
    }
   ],
   "source": [
    "train_validate_analyze(128, epochs=11)"
   ]
  },
  {
   "cell_type": "markdown",
   "metadata": {},
   "source": [
    "A bit worse than the overfitted network, but not we reached the point of where small training tweaks affect only the third significant digit in the accuracy metric.\n",
    "\n",
    "It looks like we reached the \"good enough\" point for this network architecture.\n",
    "\n",
    "From now on we will use this network as a baseline and run other experiments. The baseline accuracy is then is between 99.3% and 99.1%."
   ]
  },
  {
   "cell_type": "markdown",
   "metadata": {},
   "source": [
    "## What is out there"
   ]
  },
  {
   "cell_type": "markdown",
   "metadata": {},
   "source": [
    "According to [this site](http://rodrigob.github.io/are_we_there_yet/build/classification_datasets_results.html), the best MNIST accuracy has 0.21% error rate, i.e 99.79% accuracy."
   ]
  },
  {
   "cell_type": "markdown",
   "metadata": {},
   "source": [
    "# Step 10: Build your best solution (and explain each step) "
   ]
  },
  {
   "cell_type": "markdown",
   "metadata": {},
   "source": [
    "## Use a separate notebook"
   ]
  }
 ],
 "metadata": {
  "kernelspec": {
   "display_name": "Python 3",
   "language": "python",
   "name": "python3"
  },
  "language_info": {
   "codemirror_mode": {
    "name": "ipython",
    "version": 3
   },
   "file_extension": ".py",
   "mimetype": "text/x-python",
   "name": "python",
   "nbconvert_exporter": "python",
   "pygments_lexer": "ipython3",
   "version": "3.6.4"
  },
  "nav_menu": {},
  "toc": {
   "nav_menu": {},
   "number_sections": true,
   "sideBar": true,
   "skip_h1_title": false,
   "title_cell": "Table of Contents",
   "title_sidebar": "Contents",
   "toc_cell": false,
   "toc_position": {},
   "toc_section_display": "block",
   "toc_window_display": false
  }
 },
 "nbformat": 4,
 "nbformat_minor": 2
}
