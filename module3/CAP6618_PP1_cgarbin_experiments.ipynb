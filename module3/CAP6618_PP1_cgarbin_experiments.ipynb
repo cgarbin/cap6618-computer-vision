{
 "cells": [
  {
   "cell_type": "markdown",
   "metadata": {},
   "source": [
    "# CAP 6618 - Machine Learning for Computer Vision"
   ]
  },
  {
   "cell_type": "markdown",
   "metadata": {},
   "source": [
    "## Programming Project 1\n",
    "See guidelines on Canvas for details."
   ]
  },
  {
   "cell_type": "markdown",
   "metadata": {},
   "source": [
    "# Step 1: Setup"
   ]
  },
  {
   "cell_type": "markdown",
   "metadata": {},
   "source": [
    "First, let's make sure this notebook works well in both python 2 and 3, import a few common modules, ensure MatplotLib plots figures inline and prepare a function to save the figures:"
   ]
  },
  {
   "cell_type": "code",
   "execution_count": 1,
   "metadata": {},
   "outputs": [],
   "source": [
    "# To support both python 2 and python 3\n",
    "from __future__ import division, print_function, unicode_literals\n",
    "\n",
    "# Common imports\n",
    "import numpy as np\n",
    "import os\n",
    "\n",
    "# to make this notebook's output stable across runs\n",
    "np.random.seed(42)\n",
    "\n",
    "# To plot pretty figures\n",
    "%matplotlib inline\n",
    "import matplotlib\n",
    "import matplotlib.pyplot as plt\n",
    "plt.rcParams['axes.labelsize'] = 14\n",
    "plt.rcParams['xtick.labelsize'] = 12\n",
    "plt.rcParams['ytick.labelsize'] = 12\n",
    "\n",
    "# Where to save the figures\n",
    "PROJECT_ROOT_DIR = \".\"\n",
    "CHAPTER_ID = \"classification\"\n",
    "\n",
    "def save_fig(fig_id, tight_layout=True):\n",
    "    image_dir = os.path.join(PROJECT_ROOT_DIR, \"images\", CHAPTER_ID)\n",
    "    if not os.path.exists(image_dir):\n",
    "        os.makedirs(image_dir)\n",
    "\n",
    "    path = os.path.join(image_dir, fig_id + \".png\")\n",
    "    print(\"Saving figure\", fig_id)\n",
    "    if tight_layout:\n",
    "        plt.tight_layout()\n",
    "    plt.savefig(path, format='png', dpi=300)"
   ]
  },
  {
   "cell_type": "markdown",
   "metadata": {},
   "source": [
    "# Step 2: Load the MNIST dataset"
   ]
  },
  {
   "cell_type": "markdown",
   "metadata": {},
   "source": [
    "**Warning**: `fetch_mldata()` is deprecated since Scikit-Learn 0.20. You should use `fetch_openml()` instead. However, it returns the unsorted MNIST dataset, whereas `fetch_mldata()` returned the dataset sorted by target (the training set and the test test were sorted separately). In general, this is fine, but if you want to get the exact same results as before, you need to sort the dataset using the following function:"
   ]
  },
  {
   "cell_type": "code",
   "execution_count": 2,
   "metadata": {},
   "outputs": [],
   "source": [
    "def sort_by_target(mnist):\n",
    "    reorder_train = np.array(sorted([(target, i) for i, target in enumerate(mnist.target[:60000])]))[:, 1]\n",
    "    reorder_test = np.array(sorted([(target, i) for i, target in enumerate(mnist.target[60000:])]))[:, 1]\n",
    "    mnist.data[:60000] = mnist.data[reorder_train]\n",
    "    mnist.target[:60000] = mnist.target[reorder_train]\n",
    "    mnist.data[60000:] = mnist.data[reorder_test + 60000]\n",
    "    mnist.target[60000:] = mnist.target[reorder_test + 60000]"
   ]
  },
  {
   "cell_type": "code",
   "execution_count": 3,
   "metadata": {},
   "outputs": [
    {
     "data": {
      "text/plain": [
       "(array([[0., 0., 0., ..., 0., 0., 0.],\n",
       "        [0., 0., 0., ..., 0., 0., 0.],\n",
       "        [0., 0., 0., ..., 0., 0., 0.],\n",
       "        ...,\n",
       "        [0., 0., 0., ..., 0., 0., 0.],\n",
       "        [0., 0., 0., ..., 0., 0., 0.],\n",
       "        [0., 0., 0., ..., 0., 0., 0.]]),\n",
       " array([0, 0, 0, ..., 9, 9, 9], dtype=int8))"
      ]
     },
     "execution_count": 3,
     "metadata": {},
     "output_type": "execute_result"
    }
   ],
   "source": [
    "try:\n",
    "    from sklearn.datasets import fetch_openml\n",
    "    mnist = fetch_openml('mnist_784', version=1, cache=True)\n",
    "    mnist.target = mnist.target.astype(np.int8) # fetch_openml() returns targets as strings\n",
    "    sort_by_target(mnist) # fetch_openml() returns an unsorted dataset\n",
    "except ImportError:\n",
    "    from sklearn.datasets import fetch_mldata\n",
    "    mnist = fetch_mldata('MNIST original')\n",
    "mnist[\"data\"], mnist[\"target\"]"
   ]
  },
  {
   "cell_type": "code",
   "execution_count": 4,
   "metadata": {},
   "outputs": [],
   "source": [
    "X, y = mnist[\"data\"], mnist[\"target\"]"
   ]
  },
  {
   "cell_type": "markdown",
   "metadata": {},
   "source": [
    "# Step 3: Visualize (and play with) the MNIST dataset"
   ]
  },
  {
   "cell_type": "code",
   "execution_count": 5,
   "metadata": {},
   "outputs": [
    {
     "data": {
      "text/plain": [
       "(70000, 784)"
      ]
     },
     "execution_count": 5,
     "metadata": {},
     "output_type": "execute_result"
    }
   ],
   "source": [
    "X.shape"
   ]
  },
  {
   "cell_type": "code",
   "execution_count": 6,
   "metadata": {},
   "outputs": [
    {
     "data": {
      "text/plain": [
       "(70000,)"
      ]
     },
     "execution_count": 6,
     "metadata": {},
     "output_type": "execute_result"
    }
   ],
   "source": [
    "y.shape"
   ]
  },
  {
   "cell_type": "code",
   "execution_count": 7,
   "metadata": {},
   "outputs": [
    {
     "name": "stdout",
     "output_type": "stream",
     "text": [
      "Saving figure some_digit_plot\n"
     ]
    },
    {
     "data": {
      "image/png": "[encoded data removed]",
      "text/plain": [
       "<Figure size 432x288 with 1 Axes>"
      ]
     },
     "metadata": {
      "needs_background": "light"
     },
     "output_type": "display_data"
    }
   ],
   "source": [
    "#select and display some digit from the dataset\n",
    "import matplotlib\n",
    "import matplotlib.pyplot as plt\n",
    "\n",
    "some_digit_index = 7201\n",
    "some_digit = X[some_digit_index]\n",
    "some_digit_image = some_digit.reshape(28, 28)\n",
    "plt.imshow(some_digit_image, cmap = matplotlib.cm.binary,\n",
    "           interpolation=\"nearest\")\n",
    "plt.axis(\"off\")\n",
    "\n",
    "save_fig(\"some_digit_plot\")\n",
    "plt.show()"
   ]
  },
  {
   "cell_type": "code",
   "execution_count": 8,
   "metadata": {},
   "outputs": [
    {
     "name": "stdout",
     "output_type": "stream",
     "text": [
      "The ground truth label for the digit above is:  1\n"
     ]
    }
   ],
   "source": [
    "#print some digit's label\n",
    "print('The ground truth label for the digit above is: ',y[some_digit_index])"
   ]
  },
  {
   "cell_type": "markdown",
   "metadata": {},
   "source": [
    "#### Assignment question 4a\n",
    "\n",
    "Check if the data set is well balanced, i.e. the classes are similarly represented."
   ]
  },
  {
   "cell_type": "code",
   "execution_count": 51,
   "metadata": {},
   "outputs": [
    {
     "data": {
      "image/png": "[encoded data removed]",
      "text/plain": [
       "<Figure size 432x288 with 2 Axes>"
      ]
     },
     "metadata": {
      "needs_background": "light"
     },
     "output_type": "display_data"
    }
   ],
   "source": [
    "plt.figure()\n",
    "plt.subplot(121); plt.hist(y_train); plt.ylabel('Train set - number of digits in each class')\n",
    "plt.subplot(122); plt.hist(y_test); plt.ylabel('Test set - number of digits in each class')\n",
    "plt.tight_layout()\n",
    "plt.show()"
   ]
  },
  {
   "cell_type": "markdown",
   "metadata": {},
   "source": [
    "# Step 4: Split the dataset"
   ]
  },
  {
   "cell_type": "code",
   "execution_count": 9,
   "metadata": {},
   "outputs": [],
   "source": [
    "#Split dataset\n",
    "X_train, X_test, y_train, y_test = X[:60000], X[60000:], y[:60000], y[60000:]"
   ]
  },
  {
   "cell_type": "markdown",
   "metadata": {},
   "source": [
    "#### Assignment question 4b\n",
    "\n",
    "Stratified shuffling vs. random permutation: since the train and test datasets are large and balanced, with similar frequency for all classes, random permutation is enough in this case. Stratified sample would make a difference in imbalaced datasets."
   ]
  },
  {
   "cell_type": "code",
   "execution_count": 10,
   "metadata": {},
   "outputs": [],
   "source": [
    "#random shuffle\n",
    "import numpy as np\n",
    "\n",
    "shuffle_index = np.random.permutation(60000)\n",
    "X_train, y_train = X_train[shuffle_index], y_train[shuffle_index]"
   ]
  },
  {
   "cell_type": "markdown",
   "metadata": {},
   "source": [
    "# Step 5: Classification using \"Built-in classifier 1\" and default parameters "
   ]
  },
  {
   "cell_type": "markdown",
   "metadata": {},
   "source": [
    "#### Assignment question 4c\n",
    "\n",
    "This step uses a stochastic gradient descent classifier, i.e. it uses the gradient descent algorithm to optimize a loss function. At each step it will attempt to reduce the error (as defined by the loss function) by moving in the opposite direction of the gradient.\n",
    "\n",
    "These are the most important parameters that affect this classifier:\n",
    "\n",
    "1. Regularization/penalty: changes how the classifier generalizes (reduces overifiting). The first parameter to play with if the clasissifier performs well in training/validation, but performs badly in testing/prediction.\n",
    "1. Learning rate: affects the speed of the convergence, or in some cases, if the classifier converges at all. It can be a defined value or an adaptive rate, one that will change when the classifier is not improving.\n",
    "1. The number of iterations: how many times the classifier will go over the training data. Prevents the classifier from spending lots of computing resources without commensurable improvements in results.\n",
    "\n",
    "Other parameters that may be of interest are:\n",
    "\n",
    "1. The loss function: most of the time the standard RMSE (root mean square error) will be enough, but for some datasets other loss functions may be more useful.\n",
    "1. The regularization/penalty constant: adjusts how sensitive the classifier is to the regularization terms. Most of the time the small default value is enough, but it may need to be increased in case of severe overfitting.\n",
    "1. Early stopping: stops the optimization process if the classifier is not improving after a certain number of iterations. It is particularly useful for computation-intensive classifiers.\n"
   ]
  },
  {
   "cell_type": "code",
   "execution_count": 11,
   "metadata": {},
   "outputs": [
    {
     "name": "stdout",
     "output_type": "stream",
     "text": [
      "SGDClassifier(alpha=0.0001, average=False, class_weight=None,\n",
      "       early_stopping=False, epsilon=0.1, eta0=0.0, fit_intercept=True,\n",
      "       l1_ratio=0.15, learning_rate='optimal', loss='hinge', max_iter=5,\n",
      "       n_iter=None, n_iter_no_change=5, n_jobs=None, penalty='l2',\n",
      "       power_t=0.5, random_state=42, shuffle=True, tol=-inf,\n",
      "       validation_fraction=0.1, verbose=0, warm_start=False)\n",
      "CPU times: user 4.02 s, sys: 23.4 ms, total: 4.05 s\n",
      "Wall time: 4.1 s\n"
     ]
    }
   ],
   "source": [
    "%%time\n",
    "\n",
    "from sklearn.linear_model import SGDClassifier\n",
    "\n",
    "#build and fit linear model\n",
    "# \"Under the hood, Scikit-Learn actually trained 10 binary classifiers, got their decision\n",
    "# scores for the image, and selected the class with the highest score\"\n",
    "sgd_clf = SGDClassifier(max_iter=5, tol=-np.infty, random_state=42)\n",
    "fit_results = sgd_clf.fit(X_train, y_train)\n",
    "print(fit_results) # need to explicitly print results because of %%time"
   ]
  },
  {
   "cell_type": "code",
   "execution_count": 12,
   "metadata": {},
   "outputs": [
    {
     "data": {
      "text/plain": [
       "array([1], dtype=int8)"
      ]
     },
     "execution_count": 12,
     "metadata": {},
     "output_type": "execute_result"
    }
   ],
   "source": [
    "#test model by making a prediction on some_digit\n",
    "sgd_clf.predict([some_digit])"
   ]
  },
  {
   "cell_type": "code",
   "execution_count": 13,
   "metadata": {},
   "outputs": [
    {
     "data": {
      "text/plain": [
       "array([[-660561.16495471,  169164.71870837, -144815.5052832 ,\n",
       "         -69500.1526722 , -172916.94934103, -248951.73204392,\n",
       "        -280541.23990047,  -72041.70140166, -173346.54197882,\n",
       "           2718.11617764]])"
      ]
     },
     "execution_count": 13,
     "metadata": {},
     "output_type": "execute_result"
    }
   ],
   "source": [
    "#inspect decision function\n",
    "some_digit_scores = sgd_clf.decision_function([some_digit])\n",
    "some_digit_scores"
   ]
  },
  {
   "cell_type": "code",
   "execution_count": 14,
   "metadata": {},
   "outputs": [
    {
     "data": {
      "text/plain": [
       "1"
      ]
     },
     "execution_count": 14,
     "metadata": {},
     "output_type": "execute_result"
    }
   ],
   "source": [
    "#select (the index of the) max value among scores\n",
    "np.argmax(some_digit_scores)"
   ]
  },
  {
   "cell_type": "markdown",
   "metadata": {},
   "source": [
    "#### Assignment question 4d\n",
    "\n",
    "Cross-validation score parameters:\n",
    "    \n",
    "1. The classifier to be evaluated.\n",
    "1. The training dataset.\n",
    "1. The training labels (matching the training dataset samples).\n",
    "1. The number of folds to use for splitting. It will fit (train) the classifier in n-1 of the folds and validation (test) on the remaining folder. This is repeated for all combination of training and validation folders.\n",
    "1. The metric (\"scoring\") to apply to the classifier. Since we are working with a multilabel classification problem on a well-balanced dataset, \"accuracy\" is an adequate metric."
   ]
  },
  {
   "cell_type": "code",
   "execution_count": 15,
   "metadata": {},
   "outputs": [
    {
     "data": {
      "text/plain": [
       "array([0.84063187, 0.84899245, 0.86652998])"
      ]
     },
     "execution_count": 15,
     "metadata": {},
     "output_type": "execute_result"
    }
   ],
   "source": [
    "from sklearn.model_selection import cross_val_score\n",
    "\n",
    "# Performs k-fold (3, in this case) cross-validation: train with k-1 folds, validate on the remaining fold\n",
    "cross_val_score(sgd_clf, X_train, y_train, cv=3, scoring=\"accuracy\")"
   ]
  },
  {
   "cell_type": "code",
   "execution_count": 16,
   "metadata": {},
   "outputs": [
    {
     "data": {
      "text/plain": [
       "array([[5604,    2,   81,   25,    8,   44,   32,    9,  115,    3],\n",
       "       [   1, 6292,   72,   54,   20,   22,    8,    8,  262,    3],\n",
       "       [  59,   73, 5016,  218,   68,   25,   82,   58,  344,   15],\n",
       "       [  40,   16,  148, 5315,   19,  199,   23,   41,  297,   33],\n",
       "       [  24,   26,  145,   39, 4746,   22,   63,   49,  502,  226],\n",
       "       [  73,   25,   74,  375,   62, 3868,   91,   22,  771,   60],\n",
       "       [  50,   19,  128,   13,   84,  105, 5369,    8,  140,    2],\n",
       "       [  65,   19,   69,  117,  100,   18,    2, 5641,  112,  122],\n",
       "       [  47,   96,  127,  196,   77,  135,   30,   23, 5088,   32],\n",
       "       [  58,   45,   59,  199,  233,   59,    2,  385,  725, 4184]])"
      ]
     },
     "execution_count": 16,
     "metadata": {},
     "output_type": "execute_result"
    }
   ],
   "source": [
    "from sklearn.model_selection import cross_val_predict\n",
    "from sklearn.metrics import confusion_matrix\n",
    "\n",
    "y_train_pred = cross_val_predict(sgd_clf, X_train, y_train, cv=3)\n",
    "conf_mx = confusion_matrix(y_train, y_train_pred)\n",
    "conf_mx\n",
    "\n",
    "# Confusion matrix reminder:\n",
    "#  - Rows = actual class\n",
    "#  - Columns = predicted class"
   ]
  },
  {
   "cell_type": "code",
   "execution_count": 17,
   "metadata": {},
   "outputs": [
    {
     "data": {
      "image/png": "[encoded data removed]",
      "text/plain": [
       "<Figure size 576x576 with 2 Axes>"
      ]
     },
     "metadata": {
      "needs_background": "light"
     },
     "output_type": "display_data"
    }
   ],
   "source": [
    "def plot_confusion_matrix(matrix):\n",
    "    \"\"\"If you prefer color and a colorbar\"\"\"\n",
    "    fig = plt.figure(figsize=(8,8))\n",
    "    ax = fig.add_subplot(111)\n",
    "    cax = ax.matshow(matrix)\n",
    "    fig.colorbar(cax)\n",
    "plot_confusion_matrix(conf_mx)"
   ]
  },
  {
   "cell_type": "code",
   "execution_count": 18,
   "metadata": {},
   "outputs": [
    {
     "name": "stdout",
     "output_type": "stream",
     "text": [
      "Saving figure confusion_matrix_plot\n"
     ]
    },
    {
     "data": {
      "image/png": "[encoded data removed]",
      "text/plain": [
       "<Figure size 288x288 with 1 Axes>"
      ]
     },
     "metadata": {
      "needs_background": "light"
     },
     "output_type": "display_data"
    }
   ],
   "source": [
    "plt.matshow(conf_mx, cmap=plt.cm.gray)\n",
    "save_fig(\"confusion_matrix_plot\", tight_layout=False)\n",
    "plt.show()\n",
    "\n",
    "# What this plot shows:\n",
    "#    - Most of the images are in the diagonal = classified correctly\n",
    "#    - 5s look slightly darker = either few 5s or classifier performs worse on them\n",
    "#\n",
    "# NOTE: this may change in future runs - review after executing code again"
   ]
  },
  {
   "cell_type": "code",
   "execution_count": 19,
   "metadata": {},
   "outputs": [],
   "source": [
    "# Normalize the values to compare error rates, not absolute number (penalizes classes with more instances)\n",
    "row_sums = conf_mx.sum(axis=1, keepdims=True)\n",
    "norm_conf_mx = conf_mx / row_sums"
   ]
  },
  {
   "cell_type": "code",
   "execution_count": 20,
   "metadata": {},
   "outputs": [
    {
     "name": "stdout",
     "output_type": "stream",
     "text": [
      "Saving figure confusion_matrix_errors_plot\n"
     ]
    },
    {
     "data": {
      "image/png": "[encoded data removed]",
      "text/plain": [
       "<Figure size 288x288 with 1 Axes>"
      ]
     },
     "metadata": {
      "needs_background": "light"
     },
     "output_type": "display_data"
    }
   ],
   "source": [
    "# Fill the diagonal with zero to keep only errors\n",
    "np.fill_diagonal(norm_conf_mx, 0)\n",
    "\n",
    "plt.matshow(norm_conf_mx, cmap=plt.cm.gray)\n",
    "save_fig(\"confusion_matrix_errors_plot\", tight_layout=False)\n",
    "plt.show()\n",
    "\n",
    "# What this plot shows:\n",
    "#    - Column for 8 is bright = many 8s misclassified\n",
    "#         Bright spot for row 5: several 5s misclassified as 8s\n",
    "#    - Column for 0, 1, 6, 7 are dark = most classified correctly\n",
    "#\n",
    "# There is also a bright spot in the intersection of column 8 with\n",
    "# row 9, indicating that 9s are being classified as 8. Similarly for\n",
    "# row 4, column 8. Not as bad as 5 vs. 8, but still bright.\n",
    "#\n",
    "# NOTE: this may change in future runs - review after executing code again"
   ]
  },
  {
   "cell_type": "code",
   "execution_count": 21,
   "metadata": {},
   "outputs": [],
   "source": [
    "def plot_digits(instances, images_per_row=10, **options):\n",
    "    size = 28\n",
    "    images_per_row = min(len(instances), images_per_row)\n",
    "    images = [instance.reshape(size,size) for instance in instances]\n",
    "    n_rows = (len(instances) - 1) // images_per_row + 1\n",
    "    row_images = []\n",
    "    n_empty = n_rows * images_per_row - len(instances)\n",
    "    images.append(np.zeros((size, size * n_empty)))\n",
    "    for row in range(n_rows):\n",
    "        rimages = images[row * images_per_row : (row + 1) * images_per_row]\n",
    "        row_images.append(np.concatenate(rimages, axis=1))\n",
    "    image = np.concatenate(row_images, axis=0)\n",
    "    plt.imshow(image, cmap = matplotlib.cm.binary, **options)\n",
    "    plt.axis(\"off\")"
   ]
  },
  {
   "cell_type": "code",
   "execution_count": 22,
   "metadata": {
    "scrolled": true
   },
   "outputs": [
    {
     "name": "stdout",
     "output_type": "stream",
     "text": [
      "Saving figure error_analysis_digits_plot\n"
     ]
    },
    {
     "data": {
      "image/png": "[encoded data removed]",
      "text/plain": [
       "<Figure size 576x576 with 4 Axes>"
      ]
     },
     "metadata": {
      "needs_background": "light"
     },
     "output_type": "display_data"
    }
   ],
   "source": [
    "# Plot high misclassifications to analyze them\n",
    "\n",
    "# Largest errors - adjust if previous cells shows different errors\n",
    "cl_a, cl_b = 5, 8\n",
    "\n",
    "# Class a - correctly classified as a\n",
    "X_aa = X_train[(y_train == cl_a) & (y_train_pred == cl_a)]\n",
    "# Class a - incorrectly classified as b\n",
    "X_ab = X_train[(y_train == cl_a) & (y_train_pred == cl_b)]\n",
    "# Class b - incorrectly classified as a\n",
    "X_ba = X_train[(y_train == cl_b) & (y_train_pred == cl_a)]\n",
    "# Class b - correctly classified as b\n",
    "X_bb = X_train[(y_train == cl_b) & (y_train_pred == cl_b)]\n",
    "\n",
    "plt.figure(figsize=(8,8))\n",
    "plt.subplot(221); plot_digits(X_aa[:25], images_per_row=5)\n",
    "plt.subplot(222); plot_digits(X_ab[:25], images_per_row=5)\n",
    "plt.subplot(223); plot_digits(X_ba[:25], images_per_row=5)\n",
    "plt.subplot(224); plot_digits(X_bb[:25], images_per_row=5)\n",
    "save_fig(\"error_analysis_digits_plot\")\n",
    "plt.show()\n",
    "\n",
    "# Plot arrangement\n",
    "\n",
    "#  X_aa  X_ab\n",
    "#  X_ba  X_bb\n",
    "\n",
    "#  actual A classified as A     actual A classified as B\n",
    "#  actual B classified as A     actual B classified as B\n",
    "\n",
    "# Simplifying:\n",
    "#  Left column:     Right column:\n",
    "#    classified A     classified B\n"
   ]
  },
  {
   "cell_type": "markdown",
   "metadata": {},
   "source": [
    "### Analysis based on the book\n",
    "\n",
    "These are obvious errors. Why is the classifier making them?\n",
    "\n",
    "1. The classifier we are using, `SGDClassifier`, is a linear classifier.\n",
    "1. As such, it assigns a weight per class for each pixel. \n",
    "1. When it sees a new image, it sums up the weighted pixel intensities to get a score for each class.\n",
    "1. Numbers that differ only by a few pixels have a higher risk of being misclassified\n"
   ]
  },
  {
   "cell_type": "code",
   "execution_count": 23,
   "metadata": {},
   "outputs": [
    {
     "data": {
      "text/plain": [
       "0.8613"
      ]
     },
     "execution_count": 23,
     "metadata": {},
     "output_type": "execute_result"
    }
   ],
   "source": [
    "# Evaluate accuracy on test set\n",
    "from sklearn.metrics import accuracy_score\n",
    "y_pred = sgd_clf.predict(X_test)\n",
    "accuracy_score(y_test, y_pred)"
   ]
  },
  {
   "cell_type": "markdown",
   "metadata": {},
   "source": [
    "# Step 6: Classification using \"Built-in classifier 2\" and default parameters "
   ]
  },
  {
   "cell_type": "markdown",
   "metadata": {},
   "source": [
    "#### Assignment question 4e\n",
    "\n",
    "This section uses a `RandomForestClassifier`. It is a set of decision tree classifiers, combined into one output by averaging the output of each decision tree.\n",
    "\n",
    "Parameters that significantly affect this classifier are:\n",
    "\n",
    "1. Number of estimators: the number of trees in the estimator. Too few of them may result in low variance, but high bias (underfitting). Too many of them may increase variance, but reduce bias (overfitting).\n",
    "1. The maximum depth can help choose between variance and bias."
   ]
  },
  {
   "cell_type": "code",
   "execution_count": 24,
   "metadata": {},
   "outputs": [
    {
     "data": {
      "text/plain": [
       "array([1], dtype=int8)"
      ]
     },
     "execution_count": 24,
     "metadata": {},
     "output_type": "execute_result"
    }
   ],
   "source": [
    "from sklearn.ensemble import RandomForestClassifier\n",
    "forest_clf = RandomForestClassifier(n_estimators=10, random_state=42)\n",
    "forest_clf.fit(X_train, y_train)\n",
    "forest_clf.predict([some_digit])"
   ]
  },
  {
   "cell_type": "code",
   "execution_count": 25,
   "metadata": {},
   "outputs": [
    {
     "data": {
      "text/plain": [
       "array([[0., 1., 0., 0., 0., 0., 0., 0., 0., 0.]])"
      ]
     },
     "execution_count": 25,
     "metadata": {},
     "output_type": "execute_result"
    }
   ],
   "source": [
    "forest_clf.predict_proba([some_digit])"
   ]
  },
  {
   "cell_type": "code",
   "execution_count": 26,
   "metadata": {},
   "outputs": [
    {
     "data": {
      "text/plain": [
       "array([0.94041192, 0.93879694, 0.93949092])"
      ]
     },
     "execution_count": 26,
     "metadata": {},
     "output_type": "execute_result"
    }
   ],
   "source": [
    "cross_val_score(forest_clf, X_train, y_train, cv=3, scoring=\"accuracy\")"
   ]
  },
  {
   "cell_type": "code",
   "execution_count": 27,
   "metadata": {},
   "outputs": [
    {
     "data": {
      "text/plain": [
       "array([[5804,    1,   11,    9,    8,   14,   32,    3,   38,    3],\n",
       "       [   1, 6616,   39,   23,   13,    6,    9,   19,   10,    6],\n",
       "       [  48,   31, 5633,   50,   49,   16,   27,   41,   54,    9],\n",
       "       [  20,   17,  137, 5645,   16,  124,    7,   45,   88,   32],\n",
       "       [  18,   17,   33,   11, 5526,    4,   35,   19,   26,  153],\n",
       "       [  52,   21,   27,  202,   39, 4938,   43,    6,   62,   31],\n",
       "       [  56,   17,   21,    9,   27,   66, 5695,    0,   23,    4],\n",
       "       [  12,   38,   96,   26,   69,   10,    1, 5912,   15,   86],\n",
       "       [  28,   60,   99,  153,   59,   98,   33,   15, 5229,   77],\n",
       "       [  33,   18,   24,   98,  164,   44,   10,  114,   68, 5376]])"
      ]
     },
     "execution_count": 27,
     "metadata": {},
     "output_type": "execute_result"
    }
   ],
   "source": [
    "y_train_pred = cross_val_predict(forest_clf, X_train, y_train, cv=3)\n",
    "conf_mx = confusion_matrix(y_train, y_train_pred)\n",
    "conf_mx"
   ]
  },
  {
   "cell_type": "code",
   "execution_count": 28,
   "metadata": {},
   "outputs": [
    {
     "name": "stdout",
     "output_type": "stream",
     "text": [
      "Saving figure confusion_matrix_plot\n"
     ]
    },
    {
     "data": {
      "image/png": "[encoded data removed]",
      "text/plain": [
       "<Figure size 288x288 with 1 Axes>"
      ]
     },
     "metadata": {
      "needs_background": "light"
     },
     "output_type": "display_data"
    }
   ],
   "source": [
    "plt.matshow(conf_mx, cmap=plt.cm.gray)\n",
    "save_fig(\"confusion_matrix_plot\", tight_layout=False)\n",
    "plt.show()"
   ]
  },
  {
   "cell_type": "code",
   "execution_count": 29,
   "metadata": {},
   "outputs": [],
   "source": [
    "row_sums = conf_mx.sum(axis=1, keepdims=True)\n",
    "norm_conf_mx = conf_mx / row_sums"
   ]
  },
  {
   "cell_type": "code",
   "execution_count": 30,
   "metadata": {},
   "outputs": [
    {
     "name": "stdout",
     "output_type": "stream",
     "text": [
      "Saving figure confusion_matrix_errors_plot\n"
     ]
    },
    {
     "data": {
      "image/png": "[encoded data removed]",
      "text/plain": [
       "<Figure size 288x288 with 1 Axes>"
      ]
     },
     "metadata": {
      "needs_background": "light"
     },
     "output_type": "display_data"
    }
   ],
   "source": [
    "np.fill_diagonal(norm_conf_mx, 0)\n",
    "plt.matshow(norm_conf_mx, cmap=plt.cm.gray)\n",
    "save_fig(\"confusion_matrix_errors_plot\", tight_layout=False)\n",
    "plt.show()"
   ]
  },
  {
   "cell_type": "code",
   "execution_count": 31,
   "metadata": {},
   "outputs": [
    {
     "name": "stdout",
     "output_type": "stream",
     "text": [
      "Saving figure error_analysis_digits_plot\n"
     ]
    },
    {
     "data": {
      "image/png": "[encoded data removed]",
      "text/plain": [
       "<Figure size 576x576 with 4 Axes>"
      ]
     },
     "metadata": {
      "needs_background": "light"
     },
     "output_type": "display_data"
    }
   ],
   "source": [
    "cl_a, cl_b = 3, 5\n",
    "X_aa = X_train[(y_train == cl_a) & (y_train_pred == cl_a)]\n",
    "X_ab = X_train[(y_train == cl_a) & (y_train_pred == cl_b)]\n",
    "X_ba = X_train[(y_train == cl_b) & (y_train_pred == cl_a)]\n",
    "X_bb = X_train[(y_train == cl_b) & (y_train_pred == cl_b)]\n",
    "\n",
    "plt.figure(figsize=(8,8))\n",
    "plt.subplot(221); plot_digits(X_aa[:25], images_per_row=5)\n",
    "plt.subplot(222); plot_digits(X_ab[:25], images_per_row=5)\n",
    "plt.subplot(223); plot_digits(X_ba[:25], images_per_row=5)\n",
    "plt.subplot(224); plot_digits(X_bb[:25], images_per_row=5)\n",
    "save_fig(\"error_analysis_digits_plot\")\n",
    "plt.show()"
   ]
  },
  {
   "cell_type": "code",
   "execution_count": 32,
   "metadata": {},
   "outputs": [
    {
     "data": {
      "text/plain": [
       "0.9472"
      ]
     },
     "execution_count": 32,
     "metadata": {},
     "output_type": "execute_result"
    }
   ],
   "source": [
    "#Evaluate accuracy on test set\n",
    "y_pred = forest_clf.predict(X_test)\n",
    "accuracy_score(y_test, y_pred)"
   ]
  },
  {
   "cell_type": "markdown",
   "metadata": {},
   "source": [
    "# Step 7: Investigate the impact of data normalization / standardization"
   ]
  },
  {
   "cell_type": "markdown",
   "metadata": {},
   "source": [
    "#### Assignment question 4f\n",
    "\n",
    "This code scales the training set and trains the classifier on that data.\n",
    "\n",
    "It allows us to compare the results of the classifier before we scale the training data (cells above) and after we scale it."
   ]
  },
  {
   "cell_type": "markdown",
   "metadata": {},
   "source": [
    "#### Assignment question 4g\n",
    "\n",
    "Scaling the training data or not affects some classifiers and does not affect others.\n",
    "\n",
    "Classifiers that calculate formulas that use the actual feature data (the actual value of each feature) are affected by scaling because some features (usually the ones with high values) can dominate features with smaller values. This may unduly give more weight to a feature simply because it has a higher absolute value.\n",
    "\n",
    "Some classifiers are not affected by scaling. These are the ones that do not perform calculations using the feature values.\n",
    "\n",
    "Random forester is one such classifier. It's not affect much by scaling. In this case in paticular, scaling the features reduced overall accuracy."
   ]
  },
  {
   "cell_type": "code",
   "execution_count": 33,
   "metadata": {},
   "outputs": [
    {
     "data": {
      "text/plain": [
       "array([0.91011798, 0.90874544, 0.906636  ])"
      ]
     },
     "execution_count": 33,
     "metadata": {},
     "output_type": "execute_result"
    }
   ],
   "source": [
    "from sklearn.preprocessing import StandardScaler\n",
    "scaler = StandardScaler()\n",
    "X_train_scaled = scaler.fit_transform(X_train.astype(np.float64))\n",
    "cross_val_score(sgd_clf, X_train_scaled, y_train, cv=3, scoring=\"accuracy\")"
   ]
  },
  {
   "cell_type": "code",
   "execution_count": 34,
   "metadata": {},
   "outputs": [
    {
     "data": {
      "text/plain": [
       "array([[5805,    1,   11,    9,    8,   13,   32,    3,   38,    3],\n",
       "       [   1, 6616,   39,   23,   13,    6,    9,   19,   10,    6],\n",
       "       [  49,   30, 5638,   49,   47,   16,   28,   41,   53,    7],\n",
       "       [  20,   17,  135, 5646,   16,  123,    7,   45,   90,   32],\n",
       "       [  18,   17,   33,   11, 5526,    4,   35,   19,   26,  153],\n",
       "       [  52,   21,   27,  201,   40, 4939,   43,    6,   62,   30],\n",
       "       [  56,   17,   21,    9,   27,   68, 5692,    0,   24,    4],\n",
       "       [  12,   39,   97,   26,   69,    9,    1, 5911,   15,   86],\n",
       "       [  29,   60,   98,  153,   57,  100,   33,   15, 5229,   77],\n",
       "       [  34,   18,   23,   98,  164,   45,   10,  115,   68, 5374]])"
      ]
     },
     "execution_count": 34,
     "metadata": {},
     "output_type": "execute_result"
    }
   ],
   "source": [
    "y_train_pred = cross_val_predict(forest_clf, X_train_scaled, y_train, cv=3)\n",
    "conf_mx = confusion_matrix(y_train, y_train_pred)\n",
    "conf_mx"
   ]
  },
  {
   "cell_type": "code",
   "execution_count": 35,
   "metadata": {},
   "outputs": [
    {
     "name": "stdout",
     "output_type": "stream",
     "text": [
      "Saving figure confusion_matrix_plot\n"
     ]
    },
    {
     "data": {
      "image/png": "[encoded data removed]",
      "text/plain": [
       "<Figure size 288x288 with 1 Axes>"
      ]
     },
     "metadata": {
      "needs_background": "light"
     },
     "output_type": "display_data"
    }
   ],
   "source": [
    "plt.matshow(conf_mx, cmap=plt.cm.gray)\n",
    "save_fig(\"confusion_matrix_plot\", tight_layout=False)\n",
    "plt.show()"
   ]
  },
  {
   "cell_type": "code",
   "execution_count": 36,
   "metadata": {},
   "outputs": [],
   "source": [
    "row_sums = conf_mx.sum(axis=1, keepdims=True)\n",
    "norm_conf_mx = conf_mx / row_sums"
   ]
  },
  {
   "cell_type": "code",
   "execution_count": 37,
   "metadata": {},
   "outputs": [
    {
     "name": "stdout",
     "output_type": "stream",
     "text": [
      "Saving figure confusion_matrix_errors_plot\n"
     ]
    },
    {
     "data": {
      "image/png": "[encoded data removed]",
      "text/plain": [
       "<Figure size 288x288 with 1 Axes>"
      ]
     },
     "metadata": {
      "needs_background": "light"
     },
     "output_type": "display_data"
    }
   ],
   "source": [
    "np.fill_diagonal(norm_conf_mx, 0)\n",
    "plt.matshow(norm_conf_mx, cmap=plt.cm.gray)\n",
    "save_fig(\"confusion_matrix_errors_plot\", tight_layout=False)\n",
    "plt.show()"
   ]
  },
  {
   "cell_type": "code",
   "execution_count": 38,
   "metadata": {},
   "outputs": [
    {
     "name": "stdout",
     "output_type": "stream",
     "text": [
      "Saving figure error_analysis_digits_plot\n"
     ]
    },
    {
     "data": {
      "image/png": "[encoded data removed]",
      "text/plain": [
       "<Figure size 576x576 with 4 Axes>"
      ]
     },
     "metadata": {
      "needs_background": "light"
     },
     "output_type": "display_data"
    }
   ],
   "source": [
    "cl_a, cl_b = 5, 3\n",
    "X_aa = X_train[(y_train == cl_a) & (y_train_pred == cl_a)]\n",
    "X_ab = X_train[(y_train == cl_a) & (y_train_pred == cl_b)]\n",
    "X_ba = X_train[(y_train == cl_b) & (y_train_pred == cl_a)]\n",
    "X_bb = X_train[(y_train == cl_b) & (y_train_pred == cl_b)]\n",
    "\n",
    "plt.figure(figsize=(8,8))\n",
    "plt.subplot(221); plot_digits(X_aa[:25], images_per_row=5)\n",
    "plt.subplot(222); plot_digits(X_ab[:25], images_per_row=5)\n",
    "plt.subplot(223); plot_digits(X_ba[:25], images_per_row=5)\n",
    "plt.subplot(224); plot_digits(X_bb[:25], images_per_row=5)\n",
    "save_fig(\"error_analysis_digits_plot\")\n",
    "plt.show()"
   ]
  },
  {
   "cell_type": "code",
   "execution_count": 39,
   "metadata": {},
   "outputs": [
    {
     "data": {
      "text/plain": [
       "0.2983"
      ]
     },
     "execution_count": 39,
     "metadata": {},
     "output_type": "execute_result"
    }
   ],
   "source": [
    "#Evaluate accuracy on test set\n",
    "X_test_scaled = scaler.fit_transform(X_test.astype(np.float64))\n",
    "y_pred = forest_clf.predict(X_test_scaled)\n",
    "accuracy_score(y_test, y_pred)"
   ]
  },
  {
   "cell_type": "markdown",
   "metadata": {},
   "source": [
    "#### Assignment question 4g\n",
    "\n",
    "The cell above is performing prediction on the scaled data. This is incorrect. We want to verify the behavior of the classifier on the actual value of the samples, as they would be presented to the classifier in real life."
   ]
  },
  {
   "cell_type": "code",
   "execution_count": 40,
   "metadata": {},
   "outputs": [
    {
     "data": {
      "text/plain": [
       "0.9472"
      ]
     },
     "execution_count": 40,
     "metadata": {},
     "output_type": "execute_result"
    }
   ],
   "source": [
    "#Evaluate accuracy on test set\n",
    "y_pred = forest_clf.predict(X_test)\n",
    "accuracy_score(y_test, y_pred)"
   ]
  },
  {
   "cell_type": "markdown",
   "metadata": {},
   "source": [
    "# Step 8: Build, train, and evaluate a third classifier"
   ]
  },
  {
   "cell_type": "markdown",
   "metadata": {},
   "source": [
    "Make results of this section predictable across runs. Not all classifiers accept a `random_state` parameter."
   ]
  },
  {
   "cell_type": "code",
   "execution_count": 41,
   "metadata": {},
   "outputs": [],
   "source": [
    "np.random.seed(42)"
   ]
  },
  {
   "cell_type": "markdown",
   "metadata": {},
   "source": [
    "Try several classifiers to pick to work with.\n",
    "\n",
    "Uncomment one of the classifiers below at a time."
   ]
  },
  {
   "cell_type": "code",
   "execution_count": 42,
   "metadata": {},
   "outputs": [
    {
     "name": "stdout",
     "output_type": "stream",
     "text": [
      "GaussianNB(priors=None, var_smoothing=1e-09)\n",
      "CPU times: user 569 ms, sys: 232 ms, total: 801 ms\n",
      "Wall time: 806 ms\n"
     ]
    }
   ],
   "source": [
    "%%time\n",
    "\n",
    "# Use a generic name for the classifier (step8_clf) so we can update it without changing the rest of the code\n",
    "\n",
    "# All times reported below are on a MacBook 2017 i7 2.9 GHz\n",
    "# Training times are from .fit() and accuracy and test time are from cross_val_score()\n",
    "# All times and percentages are approximate\n",
    "\n",
    "# Fast training time 20s, good accuracy 97%, long test time 54min\n",
    "# Training time is fast because it's not really \"training\" - calculations happen at test time\n",
    "# Using n_jobs=-1 to parallelize reduces test time to 12min\n",
    "# from sklearn.neighbors import KNeighborsClassifier\n",
    "# #step8_clf = KNeighborsClassifier(n_neighbors=3) # uses only one CPU (54min)\n",
    "# step8_clf = KNeighborsClassifier(n_neighbors=3, n_jobs=-1) # parallelize as much as possible (12min)\n",
    "\n",
    "# Really, really slow training time 5h+, accuracy is low 17%, looong test time 5h+\n",
    "# Needs some serious dimensionality reduction to be useful\n",
    "# from sklearn.svm import SVC\n",
    "# step8_clf = SVC(gamma=\"scale\") # defaults to RBF kernel\n",
    "\n",
    "# Fast training time 2min, low accuracy 73%, test time 2min\n",
    "# Perhaps could be tuned to improve accuracy\n",
    "# from sklearn.ensemble import AdaBoostClassifier\n",
    "# step8_clf = AdaBoostClassifier()\n",
    "\n",
    "# Super fast training time 2s, terrible accuracy 55%, test time 5s\n",
    "# Doesn't seem to have any tunable hyperparameter that would help improve it\n",
    "from sklearn.naive_bayes import GaussianNB\n",
    "step8_clf = GaussianNB()\n",
    "\n",
    "# Slow training time 29min, accuracy is OK, but not great 93%, test time 54min\n",
    "# from xgboost import XGBClassifier\n",
    "# #step8_clf = XGBClassifier()\n",
    "# Increasing number of jobs reduces training time to 26min and test time to 52min (not much)\n",
    "# step8_clf = XGBClassifier(n_jobs=4) # parallelized (4 = number of cores in this machine)\n",
    "\n",
    "# Takes 2mn to train, but ends with \"failed to converge\" message, test time is 5min and accuracy is 87%\n",
    "# from sklearn.svm import LinearSVC\n",
    "# step8_clf = LinearSVC()\n",
    "# # Setting max_iter=100000 takes about 2h of training and 3h of test time, with accuracy 82%\n",
    "# #step8_clf = LinearSVC(max_iter=100000)\n",
    "\n",
    "# Train the classifier\n",
    "fit_results = step8_clf.fit(X_train, y_train)\n",
    "print(fit_results) # need to explicitly print results because of %%time"
   ]
  },
  {
   "cell_type": "code",
   "execution_count": 43,
   "metadata": {},
   "outputs": [
    {
     "name": "stdout",
     "output_type": "stream",
     "text": [
      "CPU times: user 1.89 ms, sys: 1.28 ms, total: 3.16 ms\n",
      "Wall time: 1.95 ms\n"
     ]
    },
    {
     "data": {
      "text/plain": [
       "array([1], dtype=int8)"
      ]
     },
     "execution_count": 43,
     "metadata": {},
     "output_type": "execute_result"
    }
   ],
   "source": [
    "%%time\n",
    "\n",
    "#test model by making a prediction on some_digit\n",
    "step8_clf.predict([some_digit])"
   ]
  },
  {
   "cell_type": "code",
   "execution_count": 44,
   "metadata": {},
   "outputs": [
    {
     "name": "stdout",
     "output_type": "stream",
     "text": [
      "Using prediction probability\n",
      "[[0.00000000e+000 1.00000000e+000 0.00000000e+000 0.00000000e+000\n",
      "  0.00000000e+000 0.00000000e+000 0.00000000e+000 3.21543517e-310\n",
      "  2.34970768e-245 8.74068225e-172]]\n"
     ]
    }
   ],
   "source": [
    "# Check how sure the classifier is\n",
    "# Since we are playing with classifiers in this section, check what the classifier supports first\n",
    "# Code is courtesy of https://scikit-learn.org/stable/auto_examples/classification/plot_classifier_comparison.html\n",
    "if hasattr(step8_clf, \"decision_function\"):\n",
    "    print(\"Using decision function\")\n",
    "    some_digit_scores = step8_clf.decision_function([some_digit])\n",
    "else:\n",
    "    print(\"Using prediction probability\")\n",
    "    some_digit_scores = step8_clf.predict_proba([some_digit])\n",
    "print(some_digit_scores)"
   ]
  },
  {
   "cell_type": "code",
   "execution_count": 45,
   "metadata": {},
   "outputs": [
    {
     "data": {
      "text/plain": [
       "1"
      ]
     },
     "execution_count": 45,
     "metadata": {},
     "output_type": "execute_result"
    }
   ],
   "source": [
    "#select (the index of the) max value among scores\n",
    "# TODO: this code may fail if we fall into the \"decision_function\" branch above - test and fix\n",
    "np.argmax(some_digit_scores)"
   ]
  },
  {
   "cell_type": "code",
   "execution_count": 50,
   "metadata": {},
   "outputs": [
    {
     "name": "stdout",
     "output_type": "stream",
     "text": [
      "[0.56158768 0.55517776 0.55993399]\n",
      "CPU times: user 3.87 s, sys: 1.53 s, total: 5.4 s\n",
      "Wall time: 5.44 s\n"
     ]
    }
   ],
   "source": [
    "%%time\n",
    "from sklearn.model_selection import cross_val_score\n",
    "\n",
    "# Performs k-fold (3, in this case) cross-validation: train with k-1 folds, validate on the remaining fold\n",
    "scores = cross_val_score(step8_clf, X_train, y_train, cv=3, scoring=\"accuracy\")\n",
    "print(scores)"
   ]
  },
  {
   "cell_type": "code",
   "execution_count": 47,
   "metadata": {},
   "outputs": [
    {
     "name": "stdout",
     "output_type": "stream",
     "text": [
      "[[5315   12   36   21    9   17  156    5  259   93]\n",
      " [   4 6371   15   35    2   11   77    4  149   74]\n",
      " [ 638  187 1679  493   31   47 1442   16 1338   87]\n",
      " [ 459  353   49 2266   16   12  272   52 2036  616]\n",
      " [ 180   65   49   32  988   36  504   25 1227 2736]\n",
      " [ 710  164   34  123   34  330  269   12 3203  542]\n",
      " [  71  139   32    7    6   27 5512    0  116    8]\n",
      " [  30   51    8   59   59   14   15 1920  194 3915]\n",
      " [ 118  907   25   52   22   45   96    7 3567 1012]\n",
      " [  34   62   18    7   39    5    5   88  105 5586]]\n",
      "CPU times: user 172 ms, sys: 193 ms, total: 365 ms\n",
      "Wall time: 4.11 s\n"
     ]
    }
   ],
   "source": [
    "%%time\n",
    "\n",
    "from sklearn.model_selection import cross_val_predict\n",
    "from sklearn.metrics import confusion_matrix\n",
    "\n",
    "y_train_pred = cross_val_predict(step8_clf, X_train, y_train, cv=3, n_jobs=-1)\n",
    "conf_mx = confusion_matrix(y_train, y_train_pred)\n",
    "print(conf_mx)\n",
    "\n",
    "# Confusion matrix reminder:\n",
    "#  - Rows = actual class\n",
    "#  - Columns = predicted class"
   ]
  },
  {
   "cell_type": "code",
   "execution_count": 48,
   "metadata": {},
   "outputs": [
    {
     "name": "stdout",
     "output_type": "stream",
     "text": [
      "Saving figure confusion_matrix_plot\n"
     ]
    },
    {
     "data": {
      "image/png": "[encoded data removed]",
      "text/plain": [
       "<Figure size 288x288 with 1 Axes>"
      ]
     },
     "metadata": {
      "needs_background": "light"
     },
     "output_type": "display_data"
    }
   ],
   "source": [
    "plt.matshow(conf_mx, cmap=plt.cm.gray)\n",
    "save_fig(\"confusion_matrix_plot\", tight_layout=False)\n",
    "plt.show()\n",
    "\n",
    "# What this plot shows:\n",
    "#    - Most of the images are in the diagonal = classified correctly\n",
    "#    - Darker spots = either few samples for that digit or classifier performs worse on them"
   ]
  },
  {
   "cell_type": "markdown",
   "metadata": {},
   "source": [
    "# Step 9: Perform hyperparameter optimization (if applicable)"
   ]
  },
  {
   "cell_type": "markdown",
   "metadata": {},
   "source": [
    "Refer to final notebook."
   ]
  },
  {
   "cell_type": "markdown",
   "metadata": {},
   "source": [
    "# Step 10: Build your best solution (and explain each step) "
   ]
  },
  {
   "cell_type": "markdown",
   "metadata": {},
   "source": [
    "## Use a separate notebook"
   ]
  }
 ],
 "metadata": {
  "kernelspec": {
   "display_name": "Python 3",
   "language": "python",
   "name": "python3"
  },
  "language_info": {
   "codemirror_mode": {
    "name": "ipython",
    "version": 3
   },
   "file_extension": ".py",
   "mimetype": "text/x-python",
   "name": "python",
   "nbconvert_exporter": "python",
   "pygments_lexer": "ipython3",
   "version": "3.6.4"
  },
  "nav_menu": {},
  "toc": {
   "navigate_menu": true,
   "number_sections": true,
   "sideBar": true,
   "threshold": 6,
   "toc_cell": false,
   "toc_section_display": "block",
   "toc_window_display": false
  },
  "varInspector": {
   "cols": {
    "lenName": 16,
    "lenType": 16,
    "lenVar": 40
   },
   "kernels_config": {
    "python": {
     "delete_cmd_postfix": "",
     "delete_cmd_prefix": "del ",
     "library": "var_list.py",
     "varRefreshCmd": "print(var_dic_list())"
    },
    "r": {
     "delete_cmd_postfix": ") ",
     "delete_cmd_prefix": "rm(",
     "library": "var_list.r",
     "varRefreshCmd": "cat(var_dic_list()) "
    }
   },
   "position": {
    "height": "270px",
    "left": "1398px",
    "right": "20px",
    "top": "187px",
    "width": "465px"
   },
   "types_to_exclude": [
    "module",
    "function",
    "builtin_function_or_method",
    "instance",
    "_Feature"
   ],
   "window_display": true
  }
 },
 "nbformat": 4,
 "nbformat_minor": 2
}
