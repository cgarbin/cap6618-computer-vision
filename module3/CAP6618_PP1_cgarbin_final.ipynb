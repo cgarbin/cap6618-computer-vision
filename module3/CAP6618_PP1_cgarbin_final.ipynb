{
 "cells": [
  {
   "cell_type": "markdown",
   "metadata": {},
   "source": [
    "CAP6618 Spring 2018\n",
    "Assignment 3\n",
    "Christian Garbin"
   ]
  },
  {
   "cell_type": "markdown",
   "metadata": {},
   "source": [
    "This notebook uses scikit-learn's ```KNeighborsClassifier``` to classify digits from the MNIST dataset. ```KNeighborsClassifier``` was chosen based on the experiments detailed in the accompanying report.\n",
    "\n",
    "The code in this notebook is mostly adapted from the assignment notebook, which in turn was based on the code in A. Géron's \"Hands-On Machine Learning with Scikit-Learn and TensorFlow\".\n",
    "\n",
    "**This notebook assumes Python 3**."
   ]
  },
  {
   "cell_type": "markdown",
   "metadata": {},
   "source": [
    "# Organization"
   ]
  },
  {
   "cell_type": "markdown",
   "metadata": {},
   "source": [
    "This notebook is organized in these sections, in the order they appear:\n",
    "\n",
    "1. Setup of global imports and parameters\n",
    "2. Load and inspect the dataset\n",
    "3. Training and evaluation of the selected classifier, with the final hyperparameters\n",
    "4. Optimization of the selected classifier to choose hyperparameters\n",
    "\n",
    "Logically section 4 has to be done before section 3. However, showing training and evaluation of the final classifier first resulted in a better (IMO) flow of the notebook. It makes the pipeline more visible, without adding the complication of optimization. Once the pipeline is visible, we can layer on top of it the \"branches\", such as the optimization part."
   ]
  },
  {
   "cell_type": "markdown",
   "metadata": {},
   "source": [
    "# Setup"
   ]
  },
  {
   "cell_type": "markdown",
   "metadata": {},
   "source": [
    "Libraries and Jupyter global configuration options."
   ]
  },
  {
   "cell_type": "code",
   "execution_count": 1,
   "metadata": {},
   "outputs": [],
   "source": [
    "import numpy as np\n",
    "import matplotlib\n",
    "import matplotlib.pyplot as plt\n",
    "\n",
    "%matplotlib inline"
   ]
  },
  {
   "cell_type": "markdown",
   "metadata": {},
   "source": [
    "To make the notebook reproducible."
   ]
  },
  {
   "cell_type": "code",
   "execution_count": 2,
   "metadata": {},
   "outputs": [],
   "source": [
    "np.random.seed(42)"
   ]
  },
  {
   "cell_type": "markdown",
   "metadata": {},
   "source": [
    "# MNIST dataset"
   ]
  },
  {
   "cell_type": "markdown",
   "metadata": {},
   "source": [
    "Load and split the MNIST dataset."
   ]
  },
  {
   "cell_type": "code",
   "execution_count": 3,
   "metadata": {},
   "outputs": [],
   "source": [
    "def sort_by_target(mnist):\n",
    "    reorder_train = np.array(sorted([(target, i) for i, target in enumerate(mnist.target[:60000])]))[:, 1]\n",
    "    reorder_test = np.array(sorted([(target, i) for i, target in enumerate(mnist.target[60000:])]))[:, 1]\n",
    "    mnist.data[:60000] = mnist.data[reorder_train]\n",
    "    mnist.target[:60000] = mnist.target[reorder_train]\n",
    "    mnist.data[60000:] = mnist.data[reorder_test + 60000]\n",
    "    mnist.target[60000:] = mnist.target[reorder_test + 60000]"
   ]
  },
  {
   "cell_type": "code",
   "execution_count": 4,
   "metadata": {},
   "outputs": [],
   "source": [
    "try:\n",
    "    from sklearn.datasets import fetch_openml\n",
    "    mnist = fetch_openml('mnist_784', version=1, cache=True)\n",
    "    mnist.target = mnist.target.astype(np.int8) # fetch_openml() returns targets as strings\n",
    "    sort_by_target(mnist) # fetch_openml() returns an unsorted dataset\n",
    "except ImportError:\n",
    "    from sklearn.datasets import fetch_mldata\n",
    "    mnist = fetch_mldata('MNIST original')"
   ]
  },
  {
   "cell_type": "code",
   "execution_count": 5,
   "metadata": {},
   "outputs": [],
   "source": [
    "X, y = mnist[\"data\"], mnist[\"target\"]"
   ]
  },
  {
   "cell_type": "markdown",
   "metadata": {},
   "source": [
    "The MNIST dataset is already split into train and test set. The first 60,000 samples are the train set, the last 10,000 are the test set. It has to be split this way because of how the dataset was created. Do **not** shuffle it first. Refer to [LeCun's page](http://yann.lecun.com/exdb/mnist/) for details."
   ]
  },
  {
   "cell_type": "code",
   "execution_count": 6,
   "metadata": {},
   "outputs": [],
   "source": [
    "X_train, X_test, y_train, y_test = X[:60000], X[60000:], y[:60000], y[60000:]"
   ]
  },
  {
   "cell_type": "markdown",
   "metadata": {},
   "source": [
    "Shuffle the train set because some classifiers work better with shuffled data. It's mostly needed for classifiers that can get stuck in a local minimum ([reference](https://stats.stackexchange.com/a/311318)), which is not the case with the current classifier. Added here in case this notebook is updated to use another classifier."
   ]
  },
  {
   "cell_type": "code",
   "execution_count": 7,
   "metadata": {},
   "outputs": [],
   "source": [
    "shuffle_index = np.random.permutation(60000)\n",
    "X_train, y_train = X_train[shuffle_index], y_train[shuffle_index]"
   ]
  },
  {
   "cell_type": "markdown",
   "metadata": {},
   "source": [
    "## Visualizing the dataset"
   ]
  },
  {
   "cell_type": "markdown",
   "metadata": {},
   "source": [
    "The most basic check to perform in a data set is class imbalance.\n",
    "\n",
    "The histograms below plots the number of occurrences of each digit in the train and test set.\n",
    "\n",
    "We can see that the data set is generally well balanced. Some digits are more represented than others, but not by a large margin. We can also see than the train and test set are balanced between them, with similar digit frequencies."
   ]
  },
  {
   "cell_type": "code",
   "execution_count": 23,
   "metadata": {},
   "outputs": [
    {
     "data": {
      "image/png": "[encoded data removed]",
      "text/plain": [
       "<Figure size 432x288 with 2 Axes>"
      ]
     },
     "metadata": {
      "needs_background": "light"
     },
     "output_type": "display_data"
    }
   ],
   "source": [
    "plt.subplot(121); plt.hist(y_train); plt.ylabel('Train set - number of digits in each class')\n",
    "plt.subplot(122); plt.hist(y_test); plt.ylabel('Test set - number of digits in each class')\n",
    "plt.tight_layout()\n",
    "plt.show()"
   ]
  },
  {
   "cell_type": "markdown",
   "metadata": {},
   "source": [
    "# Training and evaluating\n",
    "\n",
    "In this section the classifier is trained and evluated. The following sections tune the classifier."
   ]
  },
  {
   "cell_type": "markdown",
   "metadata": {},
   "source": [
    "## Training"
   ]
  },
  {
   "cell_type": "markdown",
   "metadata": {},
   "source": [
    "Using `KneighborsClassifier` based on its combination of train time, test time and accuracy.\n",
    "\n",
    "Note that to achieve a manageable test time we are using `n_jobs=-1`, to parallelize the work as much as possible.\n",
    "\n",
    "Also note that the time spent in `.fit(...)` for this classifier is deceiving. This classifier does not have a proper training phase. All the work is done at test time (e.g. in `cross_val_score`)."
   ]
  },
  {
   "cell_type": "code",
   "execution_count": 9,
   "metadata": {},
   "outputs": [
    {
     "name": "stdout",
     "output_type": "stream",
     "text": [
      "KNeighborsClassifier(algorithm='auto', leaf_size=30, metric='minkowski',\n",
      "           metric_params=None, n_jobs=-1, n_neighbors=3, p=2,\n",
      "           weights='uniform')\n",
      "CPU times: user 20.3 s, sys: 194 ms, total: 20.5 s\n",
      "Wall time: 20.6 s\n"
     ]
    }
   ],
   "source": [
    "%%time\n",
    "\n",
    "from sklearn.neighbors import KNeighborsClassifier\n",
    "clf = KNeighborsClassifier(n_neighbors=3, n_jobs=-1)\n",
    "\n",
    "fit_results = clf.fit(X_train, y_train)\n",
    "print(fit_results)  # Need to explicitly print results because of %%time"
   ]
  },
  {
   "cell_type": "markdown",
   "metadata": {},
   "source": [
    "## Evaluating"
   ]
  },
  {
   "cell_type": "markdown",
   "metadata": {},
   "source": [
    "Now perform a thorough evaluation with cross-validation. \n",
    "\n",
    "This will take a while to run (about 12 minutes on a MacBook i7 2.9 GHz)."
   ]
  },
  {
   "cell_type": "code",
   "execution_count": 10,
   "metadata": {},
   "outputs": [
    {
     "name": "stdout",
     "output_type": "stream",
     "text": [
      "[0.96855629 0.97059853 0.97084563]\n",
      "CPU times: user 24.6 s, sys: 1.34 s, total: 25.9 s\n",
      "Wall time: 11min 55s\n"
     ]
    }
   ],
   "source": [
    "%%time\n",
    "from sklearn.model_selection import cross_val_score\n",
    "\n",
    "scores = cross_val_score(clf, X_train, y_train, cv=3, scoring=\"accuracy\")\n",
    "print(scores)"
   ]
  },
  {
   "cell_type": "markdown",
   "metadata": {},
   "source": [
    "Go into details of performance with a confusion matrix."
   ]
  },
  {
   "cell_type": "code",
   "execution_count": 11,
   "metadata": {},
   "outputs": [
    {
     "name": "stdout",
     "output_type": "stream",
     "text": [
      "[[5881    5    3    0    1    6   17    3    3    4]\n",
      " [   2 6708   11    0    3    1    2   11    2    2]\n",
      " [  35   57 5746   14    8    3    8   73    8    6]\n",
      " [   5   19   39 5904    0   62    4   31   43   24]\n",
      " [   4   48    1    1 5647    0   13    9    3  116]\n",
      " [  23    9    6   64    5 5212   62    8   10   22]\n",
      " [  27   15    1    1    7   20 5846    0    1    0]\n",
      " [   3   56   16    2   20    3    0 6108    2   55]\n",
      " [  25   72   34   85   30   83   22   13 5423   64]\n",
      " [  19   15    5   40   62   12    4   59    8 5725]]\n",
      "CPU times: user 179 ms, sys: 187 ms, total: 366 ms\n",
      "Wall time: 11min 24s\n"
     ]
    }
   ],
   "source": [
    "%%time\n",
    "\n",
    "from sklearn.model_selection import cross_val_predict\n",
    "from sklearn.metrics import confusion_matrix\n",
    "\n",
    "# Predict every single instance in the training data\n",
    "y_train_pred = cross_val_predict(clf, X_train, y_train, cv=3, n_jobs=-1)\n",
    "conf_mx = confusion_matrix(y_train, y_train_pred)\n",
    "print(conf_mx)"
   ]
  },
  {
   "cell_type": "markdown",
   "metadata": {},
   "source": [
    "Visualizing the confusion matrix as a heatmap."
   ]
  },
  {
   "cell_type": "code",
   "execution_count": 12,
   "metadata": {},
   "outputs": [
    {
     "data": {
      "image/png": "[encoded data removed]",
      "text/plain": [
       "<Figure size 288x288 with 1 Axes>"
      ]
     },
     "metadata": {
      "needs_background": "light"
     },
     "output_type": "display_data"
    }
   ],
   "source": [
    "plt.matshow(conf_mx, cmap=plt.cm.gray)\n",
    "plt.show()"
   ]
  },
  {
   "cell_type": "markdown",
   "metadata": {},
   "source": [
    "The picture above gives a general idea of how well each number is classified (lighter colors = higher values = better classification). For example, the digit one is generally classified correctly, while the digit eight has more classification errors.\n",
    "\n",
    "Confirming the visual inspection with some math:"
   ]
  },
  {
   "cell_type": "code",
   "execution_count": 13,
   "metadata": {},
   "outputs": [
    {
     "name": "stdout",
     "output_type": "stream",
     "text": [
      "Digit one accuracy:   0.9949569860575497\n",
      "Digit eight accuracy: 0.926850111092121\n"
     ]
    }
   ],
   "source": [
    "print(\"Digit one accuracy:   {}\".format(conf_mx[1][1]/sum(conf_mx[1])))\n",
    "print(\"Digit eight accuracy: {}\".format(conf_mx[8][8]/sum(conf_mx[8])))"
   ]
  },
  {
   "cell_type": "markdown",
   "metadata": {},
   "source": [
    "To see where the misclassifications happen we will remove the diagonal (correct classifications)."
   ]
  },
  {
   "cell_type": "code",
   "execution_count": 14,
   "metadata": {},
   "outputs": [
    {
     "data": {
      "image/png": "[encoded data removed]",
      "text/plain": [
       "<Figure size 288x288 with 1 Axes>"
      ]
     },
     "metadata": {
      "needs_background": "light"
     },
     "output_type": "display_data"
    }
   ],
   "source": [
    "# Normalize each row so one class doesn't dominate the values, skewing the heatmap\n",
    "# This is not strictly necessary in this case because MNIST classes are well-balanced\n",
    "# It's good practice nevertheless\n",
    "row_sums = conf_mx.sum(axis=1, keepdims=True)\n",
    "conf_mx_misclassifications = conf_mx / row_sums\n",
    "\n",
    "# Remove correct classifications (leaves only misclassifications in the matrix)\n",
    "np.fill_diagonal(conf_mx_misclassifications, 0)  \n",
    "\n",
    "plt.matshow(conf_mx_misclassifications, cmap=plt.cm.gray)\n",
    "plt.show()"
   ]
  },
  {
   "cell_type": "markdown",
   "metadata": {},
   "source": [
    "In this matrix lighter colors = higher values = higher misclassification ratios.\n",
    "\n",
    "The brighest spot happens in the intersection of digit 4 (row) and digit 9 (column). That means the classifier is classifying a (relatively) large number of 4s as 9s.\n",
    "\n",
    "There is also a bright (although not as bright) spot in the intersection of digit 9 (row) and digit 4 (column), indicating that some 9s are misclassified as 4s."
   ]
  },
  {
   "cell_type": "markdown",
   "metadata": {},
   "source": [
    "Show examples of 4s and 9s that are correctly and incorrectly classified.\n",
    "\n",
    "First, find the samples that are correctly and incorrecly classified."
   ]
  },
  {
   "cell_type": "code",
   "execution_count": 15,
   "metadata": {},
   "outputs": [],
   "source": [
    "cl_a, cl_b = 4, 9\n",
    "\n",
    "# All cl_a digits that are correctly classified (predicted)\n",
    "X_aa = X_train[(y_train == cl_a) & (y_train_pred == cl_a)]\n",
    "\n",
    "# All cl_a digits that are mistakenly classified as cl_b\n",
    "X_ab = X_train[(y_train == cl_a) & (y_train_pred == cl_b)]\n",
    "\n",
    "# All cl_b digits mistakenly classified as cl_a\n",
    "X_ba = X_train[(y_train == cl_b) & (y_train_pred == cl_a)]\n",
    "\n",
    "# All cl_b digits that are correctly classified\n",
    "X_bb = X_train[(y_train == cl_b) & (y_train_pred == cl_b)]"
   ]
  },
  {
   "cell_type": "markdown",
   "metadata": {},
   "source": [
    "Now plot them. The plot below will show a sample of 4s and 9s as:\n",
    "\n",
    "|Classifed as 4|Classified as 9|\n",
    "|----|----|\n",
    "| 4s correctly classified as 4s | 4s incorrecly classified as 9s |\n",
    "| 9s incorrectly classified as 4s | 9s correctly classified as 9s |\n"
   ]
  },
  {
   "cell_type": "code",
   "execution_count": 16,
   "metadata": {},
   "outputs": [
    {
     "data": {
      "image/png": "[encoded data removed]",
      "text/plain": [
       "<Figure size 576x576 with 4 Axes>"
      ]
     },
     "metadata": {
      "needs_background": "light"
     },
     "output_type": "display_data"
    }
   ],
   "source": [
    "def plot_digits(instances, images_per_row=10, **options):\n",
    "    size = 28\n",
    "    images_per_row = min(len(instances), images_per_row)\n",
    "    images = [instance.reshape(size,size) for instance in instances]\n",
    "    n_rows = (len(instances) - 1) // images_per_row + 1\n",
    "    row_images = []\n",
    "    n_empty = n_rows * images_per_row - len(instances)\n",
    "    images.append(np.zeros((size, size * n_empty)))\n",
    "    for row in range(n_rows):\n",
    "        rimages = images[row * images_per_row : (row + 1) * images_per_row]\n",
    "        row_images.append(np.concatenate(rimages, axis=1))\n",
    "    image = np.concatenate(row_images, axis=0)\n",
    "    plt.imshow(image, cmap = matplotlib.cm.binary, **options)\n",
    "    plt.axis(\"off\")\n",
    "\n",
    "plt.figure(figsize=(8,8))\n",
    "plt.subplot(221); plot_digits(X_aa[:25], images_per_row=5)\n",
    "plt.subplot(222); plot_digits(X_ab[:25], images_per_row=5)\n",
    "plt.subplot(223); plot_digits(X_ba[:25], images_per_row=5)\n",
    "plt.subplot(224); plot_digits(X_bb[:25], images_per_row=5)\n",
    "plt.show()"
   ]
  },
  {
   "cell_type": "markdown",
   "metadata": {},
   "source": [
    "The misclassified 9s seem to be, for the most part, the ones where the loop is not completely closed. The correctly classified 9s have a well-formed top loop. The classifier seems to give a significant amount of weight to that aspect.\n",
    "\n",
    "The misclassified 4s are harder to understand. A few of them could pass as a 9 even for humans, at least elicit a second look. Others, on the other hand, could be easily classified as 4s. It looks like the misclassified ones are \"thinner\", with fewer pixels carrying information. Appying some discriminator algorith, e.g. PCA, could help enhance the features, making it easier for the classifier to differentiate them."
   ]
  },
  {
   "cell_type": "markdown",
   "metadata": {},
   "source": [
    "### Accuracy on the test set"
   ]
  },
  {
   "cell_type": "code",
   "execution_count": 17,
   "metadata": {},
   "outputs": [
    {
     "name": "stdout",
     "output_type": "stream",
     "text": [
      "0.9705\n",
      "CPU times: user 18min 58s, sys: 2.08 s, total: 19min\n",
      "Wall time: 2min 26s\n"
     ]
    }
   ],
   "source": [
    "%%time\n",
    "from sklearn.metrics import accuracy_score\n",
    "\n",
    "y_pred = clf.predict(X_test)\n",
    "accuracy = accuracy_score(y_test, y_pred)\n",
    "print(accuracy)  # Need to explicitly print because of %%time"
   ]
  },
  {
   "cell_type": "markdown",
   "metadata": {},
   "source": [
    "# Optimizing"
   ]
  },
  {
   "cell_type": "markdown",
   "metadata": {},
   "source": [
    "This section covers two aspects of optimization:\n",
    "\n",
    "- Runtime optimization: although not directly related to the model itself, optimizing runtime allow us to experiment faster, and thus trying more hyperparameters in a shorter time.\n",
    "- Feature manipulation, more specifially, feature normalization (scaling).\n",
    "- Hyperameters, i.e. parameters that affect the behavior of the classifier."
   ]
  },
  {
   "cell_type": "markdown",
   "metadata": {},
   "source": [
    "## Runtime optimization"
   ]
  },
  {
   "cell_type": "markdown",
   "metadata": {},
   "source": [
    "Most of the classifiers in scikit familiy support a `n_jobs` parameter for parallel execution. The default value is usually 1 (one), which translates to \"no parallelization at all\".\n",
    "\n",
    "In most of the cases, settting `n_jobs` to -1 is equivalent to asking for \"as many jobs in parallel as it makes sense for this CPU capabilities\".\n",
    "\n",
    "The `KNeighborsClassifier` in this experiment was tested with the default value (one) and with -1. The results, for a MacBook i7 2.9 GHz, were:\n",
    "\n",
    "- Default value: `cross_val_score` takes about 52 minutes.\n",
    "- -1: `cross_val_score` takes about 12 minutes.\n",
    "\n",
    "Based on that experiment, all tests in this notebook were performed with `n_jobs` set to -1."
   ]
  },
  {
   "cell_type": "markdown",
   "metadata": {},
   "source": [
    "## Feature normalization (scaling)"
   ]
  },
  {
   "cell_type": "markdown",
   "metadata": {},
   "source": [
    "Before trying any optimization, we need to check if normalizing the features has any effect in the classifier.\n",
    "\n",
    "The calculations used by some classifiers can be affected by large differences in feature values.\n",
    "\n",
    "KNN uses the feature values to calculate distances between samples. Because there is a large variance of values between pixels in an MNIST sample (from 0 to 255), we will check if normalizing the samples affect the KNN algorithm by scaling the images.\n",
    "\n",
    "The tests below show that accuracy decreases when features are scaled (somewhat surprinsigly - to be investigated later). "
   ]
  },
  {
   "cell_type": "code",
   "execution_count": 18,
   "metadata": {},
   "outputs": [
    {
     "name": "stdout",
     "output_type": "stream",
     "text": [
      "[0.94111178 0.94319716 0.9459919 ]\n",
      "CPU times: user 24.3 s, sys: 2 s, total: 26.4 s\n",
      "Wall time: 10min 26s\n"
     ]
    }
   ],
   "source": [
    "%%time\n",
    "\n",
    "from sklearn.preprocessing import StandardScaler\n",
    "scaler = StandardScaler()\n",
    "X_train_scaled = scaler.fit_transform(X_train.astype(np.float64))\n",
    "\n",
    "scores = cross_val_score(clf, X_train_scaled, y_train, cv=3, scoring=\"accuracy\")\n",
    "print(scores)"
   ]
  },
  {
   "cell_type": "markdown",
   "metadata": {},
   "source": [
    "## Hyperparameters"
   ]
  },
  {
   "cell_type": "markdown",
   "metadata": {},
   "source": [
    "Two important parameters for a KNN classifier are\n",
    "\n",
    "- Number of neighbors to include in the distance (similarity) calculations - the `n_neighbors` parameter\n",
    "- How the distance between two samples is calculated - `metric` parameter\n",
    "\n",
    "In this section we will try different values for these parameters."
   ]
  },
  {
   "cell_type": "markdown",
   "metadata": {},
   "source": [
    "### Number of neighbors"
   ]
  },
  {
   "cell_type": "markdown",
   "metadata": {},
   "source": [
    "The tests below show that\n",
    "\n",
    "* Decreasing the number of neighbors does not affect the accuracy by much.\n",
    "* Increasing the number of neighbors lowers the accuracy.\n",
    "* In both cases the test time is about the same. This is somewhat surprising, since adding more neighbors would increase the time to calculate the distance. However, in this case the number of features (784 pixels per image) and the large number of samples likely dominate the run time (dimensionality reduction would make a difference here).\n",
    "\n",
    "Therefore we will keep using a relative small, but not too small, number of neighbors."
   ]
  },
  {
   "cell_type": "code",
   "execution_count": 19,
   "metadata": {},
   "outputs": [
    {
     "name": "stdout",
     "output_type": "stream",
     "text": [
      "[0.96965607 0.97144857 0.96984548]\n",
      "CPU times: user 40.2 s, sys: 1.13 s, total: 41.3 s\n",
      "Wall time: 11min 10s\n"
     ]
    }
   ],
   "source": [
    "%%time\n",
    "\n",
    "clf = KNeighborsClassifier(n_neighbors=1, n_jobs=-1)\n",
    "clf.fit(X_train, y_train)\n",
    "\n",
    "scores = cross_val_score(clf, X_train, y_train, cv=3, scoring=\"accuracy\")\n",
    "print(scores)"
   ]
  },
  {
   "cell_type": "code",
   "execution_count": 20,
   "metadata": {},
   "outputs": [
    {
     "name": "stdout",
     "output_type": "stream",
     "text": [
      "[0.95205959 0.95454773 0.95249287]\n",
      "CPU times: user 39.8 s, sys: 1.31 s, total: 41.1 s\n",
      "Wall time: 11min 10s\n"
     ]
    }
   ],
   "source": [
    "%%time\n",
    "\n",
    "clf = KNeighborsClassifier(n_neighbors=30, n_jobs=-1)\n",
    "clf.fit(X_train, y_train)\n",
    "\n",
    "scores = cross_val_score(clf, X_train, y_train, cv=3, scoring=\"accuracy\")\n",
    "print(scores)"
   ]
  },
  {
   "cell_type": "markdown",
   "metadata": {},
   "source": [
    "### Distance algorithm (metric)"
   ]
  },
  {
   "cell_type": "markdown",
   "metadata": {},
   "source": [
    "For this hyperparameter optimization we attempted to use \"Manhattan\" as the distance (the default value, used above, is Euclidean distance). This measure was used because [this article](https://arxiv.org/pdf/1708.04321.pdf) shows in table 1 that the Manhattan distance often performs well (although the tests are not necessarily in the same domain, of image classification).\n",
    "\n",
    "The test below show that average accuracy decreases by a small margin and the test time remains about the same.\n",
    "\n",
    "Therefore we will keep using Euclidean distance (the default value) for the distance calculation."
   ]
  },
  {
   "cell_type": "code",
   "execution_count": 21,
   "metadata": {},
   "outputs": [
    {
     "name": "stdout",
     "output_type": "stream",
     "text": [
      "[0.96205759 0.96534827 0.96294444]\n",
      "CPU times: user 39.5 s, sys: 1.16 s, total: 40.6 s\n",
      "Wall time: 10min 41s\n"
     ]
    }
   ],
   "source": [
    "%%time\n",
    "\n",
    "clf = KNeighborsClassifier(n_neighbors=3, n_jobs=-1, metric=\"manhattan\")\n",
    "clf.fit(X_train, y_train)\n",
    "\n",
    "scores = cross_val_score(clf, X_train, y_train, cv=3, scoring=\"accuracy\")\n",
    "print(scores)"
   ]
  }
 ],
 "metadata": {
  "kernelspec": {
   "display_name": "Python 3",
   "language": "python",
   "name": "python3"
  },
  "language_info": {
   "codemirror_mode": {
    "name": "ipython",
    "version": 3
   },
   "file_extension": ".py",
   "mimetype": "text/x-python",
   "name": "python",
   "nbconvert_exporter": "python",
   "pygments_lexer": "ipython3",
   "version": "3.6.4"
  }
 },
 "nbformat": 4,
 "nbformat_minor": 2
}
