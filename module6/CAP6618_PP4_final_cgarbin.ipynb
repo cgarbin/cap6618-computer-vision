{
 "cells": [
  {
   "cell_type": "markdown",
   "metadata": {},
   "source": [
    "# CAP 6618 - Machine Learning for Computer Vision"
   ]
  },
  {
   "cell_type": "markdown",
   "metadata": {},
   "source": [
    "Christian Garbin\n",
    "Spring 2019"
   ]
  },
  {
   "cell_type": "markdown",
   "metadata": {},
   "source": [
    "# Programming Project 4\n",
    "See guidelines on Canvas for details."
   ]
  },
  {
   "cell_type": "markdown",
   "metadata": {},
   "source": [
    "This notebook is structured as follows:\n",
    "\n",
    "1. Section 1 has the basic setup for the notebok, e.g. libraries used in several cells\n",
    "1. Section 2 has functions to load and prepare the dataset\n",
    "1. Section 3 rebuilds the network selected in the _experiments_ notebook, to have a clean baseline\n",
    "1. Section 4 attempts another approach at transfer learning to improve the results from section 1"
   ]
  },
  {
   "cell_type": "markdown",
   "metadata": {},
   "source": [
    "## 1. Basic setup"
   ]
  },
  {
   "cell_type": "code",
   "execution_count": 1,
   "metadata": {},
   "outputs": [],
   "source": [
    "%matplotlib inline\n",
    "\n",
    "import numpy as np\n",
    "import matplotlib.pyplot as plt"
   ]
  },
  {
   "cell_type": "markdown",
   "metadata": {},
   "source": [
    "To protect against running on FAU's HPC (as of April 2019). We need at least Keras 2.2, where VGG networks support the native CIFAR-10 shape of (32, 32)."
   ]
  },
  {
   "cell_type": "code",
   "execution_count": 2,
   "metadata": {},
   "outputs": [
    {
     "name": "stderr",
     "output_type": "stream",
     "text": [
      "Using TensorFlow backend.\n"
     ]
    }
   ],
   "source": [
    "import keras\n",
    "\n",
    "if keras.__version__.startswith('2.1'):\n",
    "    print('ERROR: This notebook requires at least Keras 2.2')"
   ]
  },
  {
   "cell_type": "markdown",
   "metadata": {},
   "source": [
    "## 2. Load and prepare the dataset"
   ]
  },
  {
   "cell_type": "code",
   "execution_count": 3,
   "metadata": {},
   "outputs": [],
   "source": [
    "from keras.datasets import cifar10\n",
    "from keras.utils import to_categorical\n",
    "\n",
    "def load_dataset():\n",
    "    (x_train, y_train), (x_test, y_test) = cifar10.load_data()\n",
    "    print('x_train shape:', x_train.shape)\n",
    "    print('Loaded {} train and {} test samples'.format(x_train.shape[0], x_test.shape[0]))\n",
    "\n",
    "    # Keras' CIFAR-10 is stored as integer\n",
    "    # Later pieces of code need the data in float type\n",
    "    x_train = x_train.astype('float32')\n",
    "    x_test = x_test.astype('float32')\n",
    "    \n",
    "    # Since we are using a neural network, we need to convert the categories from labels\n",
    "    # (numbers) to a hot-encoded vector\n",
    "    # See https://machinelearningmastery.com/why-one-hot-encode-data-in-machine-learning/\n",
    "    # on why we need to hot-encode in this case\n",
    "    num_classes = len(np.unique(y_train))\n",
    "    print('Hot-enconding {} classes'.format(num_classes))\n",
    "    y_train = to_categorical(y_train, num_classes)\n",
    "    y_test = to_categorical(y_test, num_classes)\n",
    "    \n",
    "    # Most examples using CIFAR-10 have the lines of code below as part of loading and\n",
    "    # preparing the dataset. Since we are using a pretrained network, we will use the\n",
    "    # network's `preprocess_input()` instead. It will take care of it and anything\n",
    "    # else that was done to the image at training time for that network.\n",
    "    # x_train /= 255\n",
    "    # x_test /= 255\n",
    "          \n",
    "    return x_train, y_train, x_test, y_test"
   ]
  },
  {
   "cell_type": "markdown",
   "metadata": {},
   "source": [
    "## 3. Network from the _experiments_ notebook (bottleneck transfer learning)"
   ]
  },
  {
   "cell_type": "markdown",
   "metadata": {},
   "source": [
    "In the _experiments_ notebook we used [bottleneck transfer learning](https://blog.keras.io/building-powerful-image-classification-models-using-very-little-data.html). \n",
    "\n",
    "In this transfer learning method, we extract features from the convolution layers and use them to train another network (usually composed of dense layers).\n",
    "\n",
    "This section reproduces the bottleneck transfer from the _experiments_ notebook to create a baseline."
   ]
  },
  {
   "cell_type": "markdown",
   "metadata": {},
   "source": [
    "### 3.1 Load the base network, without the dense layers"
   ]
  },
  {
   "cell_type": "markdown",
   "metadata": {},
   "source": [
    "The base network is Keras' pretrained VGG16.\n",
    "\n",
    "Contrary to what we did in the _experiments_ notebook, we specify an `input_shape` that matches the CIFAR-10 images. This is needed for the section where we train the base model together with a new top layer. To \"glue\" them together we need exact dimensions for the last layer of the base model (to serve as `input_shape` for the new top layer)."
   ]
  },
  {
   "cell_type": "code",
   "execution_count": 4,
   "metadata": {},
   "outputs": [
    {
     "name": "stdout",
     "output_type": "stream",
     "text": [
      "_________________________________________________________________\n",
      "Layer (type)                 Output Shape              Param #   \n",
      "=================================================================\n",
      "input_1 (InputLayer)         (None, 32, 32, 3)         0         \n",
      "_________________________________________________________________\n",
      "block1_conv1 (Conv2D)        (None, 32, 32, 64)        1792      \n",
      "_________________________________________________________________\n",
      "block1_conv2 (Conv2D)        (None, 32, 32, 64)        36928     \n",
      "_________________________________________________________________\n",
      "block1_pool (MaxPooling2D)   (None, 16, 16, 64)        0         \n",
      "_________________________________________________________________\n",
      "block2_conv1 (Conv2D)        (None, 16, 16, 128)       73856     \n",
      "_________________________________________________________________\n",
      "block2_conv2 (Conv2D)        (None, 16, 16, 128)       147584    \n",
      "_________________________________________________________________\n",
      "block2_pool (MaxPooling2D)   (None, 8, 8, 128)         0         \n",
      "_________________________________________________________________\n",
      "block3_conv1 (Conv2D)        (None, 8, 8, 256)         295168    \n",
      "_________________________________________________________________\n",
      "block3_conv2 (Conv2D)        (None, 8, 8, 256)         590080    \n",
      "_________________________________________________________________\n",
      "block3_conv3 (Conv2D)        (None, 8, 8, 256)         590080    \n",
      "_________________________________________________________________\n",
      "block3_pool (MaxPooling2D)   (None, 4, 4, 256)         0         \n",
      "_________________________________________________________________\n",
      "block4_conv1 (Conv2D)        (None, 4, 4, 512)         1180160   \n",
      "_________________________________________________________________\n",
      "block4_conv2 (Conv2D)        (None, 4, 4, 512)         2359808   \n",
      "_________________________________________________________________\n",
      "block4_conv3 (Conv2D)        (None, 4, 4, 512)         2359808   \n",
      "_________________________________________________________________\n",
      "block4_pool (MaxPooling2D)   (None, 2, 2, 512)         0         \n",
      "_________________________________________________________________\n",
      "block5_conv1 (Conv2D)        (None, 2, 2, 512)         2359808   \n",
      "_________________________________________________________________\n",
      "block5_conv2 (Conv2D)        (None, 2, 2, 512)         2359808   \n",
      "_________________________________________________________________\n",
      "block5_conv3 (Conv2D)        (None, 2, 2, 512)         2359808   \n",
      "_________________________________________________________________\n",
      "block5_pool (MaxPooling2D)   (None, 1, 1, 512)         0         \n",
      "=================================================================\n",
      "Total params: 14,714,688\n",
      "Trainable params: 14,714,688\n",
      "Non-trainable params: 0\n",
      "_________________________________________________________________\n"
     ]
    }
   ],
   "source": [
    "from keras.applications import vgg16\n",
    "\n",
    "conv_base = vgg16.VGG16(weights='imagenet', include_top=False, input_shape=(32, 32, 3))\n",
    "conv_base.summary()"
   ]
  },
  {
   "cell_type": "markdown",
   "metadata": {},
   "source": [
    "### 3.2 Load and prepare the dataset"
   ]
  },
  {
   "cell_type": "code",
   "execution_count": 5,
   "metadata": {},
   "outputs": [
    {
     "name": "stdout",
     "output_type": "stream",
     "text": [
      "x_train shape: (50000, 32, 32, 3)\n",
      "Loaded 50000 train and 10000 test samples\n",
      "Hot-enconding 10 classes\n"
     ]
    }
   ],
   "source": [
    "x_train, y_train, x_test, y_test = load_dataset()"
   ]
  },
  {
   "cell_type": "markdown",
   "metadata": {},
   "source": [
    "### 3.3 Extract features"
   ]
  },
  {
   "cell_type": "markdown",
   "metadata": {},
   "source": [
    "Extract the features from the training set.\n",
    "\n",
    "Since this is the most time consuming step of the bottleneck transfer learning process, we will save the results to a file and attempt to restore from that file before calculating the predictions agian. \n",
    "\n",
    "**IMPORTANT:** if anything changes in the prediction process (e.g. a different base network configuration), remember to delete the files to force new predictions to be calculated."
   ]
  },
  {
   "cell_type": "code",
   "execution_count": 6,
   "metadata": {},
   "outputs": [],
   "source": [
    "from skimage import transform\n",
    "\n",
    "\"\"\" Preprocess and store results of `predict()` for an array of images.\"\"\" \n",
    "def predict_all_images(images, model, base_module, new_size=None):\n",
    "    print('Predicting {} images'.format(len(images)))\n",
    "\n",
    "    predictions = []\n",
    "    for i, img in enumerate(images):\n",
    "        # Simple progress indicator\n",
    "        if i % 500 == 0:\n",
    "            print('{}'.format(i), end=\", \")\n",
    "            \n",
    "        # Resize, if asked to do so\n",
    "        if new_size is not None:\n",
    "            img = transform.resize(img, new_size, order=1, mode='reflect')\n",
    "            \n",
    "        # Expand dimensions to match the format Keras needs in `predict()`\n",
    "        # In gist: add one more dimension to hold the batch size (1 image in this case)\n",
    "        x = np.expand_dims(img, axis=0)\n",
    "        \n",
    "        # Normalize pixel values to what the model was trained one\n",
    "        # It varies by model - see https://stackoverflow.com/a/47556342\n",
    "        x = base_module.preprocess_input(x)\n",
    "\n",
    "        predictions.append(model.predict(x))\n",
    "\n",
    "    return predictions"
   ]
  },
  {
   "cell_type": "code",
   "execution_count": 7,
   "metadata": {},
   "outputs": [],
   "source": [
    "import os\n",
    "import pickle\n",
    "\n",
    "\"\"\" Load cached predictions, if avaiable. If not, predict and cache them.\"\"\"\n",
    "def calculate_predictions(dataset, model, file_name):\n",
    "    if os.path.isfile(file_name):\n",
    "        print('Loading predictions from {}'.format(file_name))\n",
    "        with open (file_name, 'rb') as fp:\n",
    "            features = pickle.load(fp)\n",
    "    else:\n",
    "        features = predict_all_images(dataset, model, vgg16, new_size=None)\n",
    "        with open(file_name, 'wb') as fp:\n",
    "            pickle.dump(features, fp)\n",
    "            \n",
    "    # At this point we may have a list (from predict_all_images)\n",
    "    # Change to a NumPy array - what the network expects\n",
    "    features = np.asarray(features)\n",
    "    \n",
    "    # We also have one extra layer in the array, (<samples>, 1, 1, 1, x), while\n",
    "    # the networks expect four dimensions,  (<samples>, 1, 1, x)\n",
    "    features = np.squeeze(features, axis=1)\n",
    "\n",
    "    return features"
   ]
  },
  {
   "cell_type": "code",
   "execution_count": 8,
   "metadata": {},
   "outputs": [
    {
     "name": "stdout",
     "output_type": "stream",
     "text": [
      "Predicting 50000 images\n",
      "0, 500, 1000, 1500, 2000, 2500, 3000, 3500, 4000, 4500, 5000, 5500, 6000, 6500, 7000, 7500, 8000, 8500, 9000, 9500, 10000, 10500, 11000, 11500, 12000, 12500, 13000, 13500, 14000, 14500, 15000, 15500, 16000, 16500, 17000, 17500, 18000, 18500, 19000, 19500, 20000, 20500, 21000, 21500, 22000, 22500, 23000, 23500, 24000, 24500, 25000, 25500, 26000, 26500, 27000, 27500, 28000, 28500, 29000, 29500, 30000, 30500, 31000, 31500, 32000, 32500, 33000, 33500, 34000, 34500, 35000, 35500, 36000, 36500, 37000, 37500, 38000, 38500, 39000, 39500, 40000, 40500, 41000, 41500, 42000, 42500, 43000, 43500, 44000, 44500, 45000, 45500, 46000, 46500, 47000, 47500, 48000, 48500, 49000, 49500, CPU times: user 45min 19s, sys: 3min 27s, total: 48min 46s\n",
      "Wall time: 9min 55s\n"
     ]
    }
   ],
   "source": [
    "%%time\n",
    "TRAIN_FEATURES_FILE = 'predicted_train_features_final_notebook'\n",
    "x_train_features = calculate_predictions(x_train, conv_base, TRAIN_FEATURES_FILE)"
   ]
  },
  {
   "cell_type": "markdown",
   "metadata": {},
   "source": [
    "Extract features from the test set."
   ]
  },
  {
   "cell_type": "code",
   "execution_count": 9,
   "metadata": {},
   "outputs": [
    {
     "name": "stdout",
     "output_type": "stream",
     "text": [
      "Predicting 10000 images\n",
      "0, 500, 1000, 1500, 2000, 2500, 3000, 3500, 4000, 4500, 5000, 5500, 6000, 6500, 7000, 7500, 8000, 8500, 9000, 9500, CPU times: user 9min 13s, sys: 43.3 s, total: 9min 56s\n",
      "Wall time: 2min 3s\n"
     ]
    }
   ],
   "source": [
    "%%time\n",
    "TEST_FEATURES_FILE = 'predicted_test_features_final_notebook'\n",
    "x_test_features = calculate_predictions(x_test, conv_base, TEST_FEATURES_FILE)"
   ]
  },
  {
   "cell_type": "markdown",
   "metadata": {},
   "source": [
    "### 3.5 Train the final classifier on the extracted features"
   ]
  },
  {
   "cell_type": "markdown",
   "metadata": {},
   "source": [
    "Create the classifier.\n",
    "\n",
    "A few observations from experiments:\n",
    "\n",
    "- Batch normalization resulted in better accuracy than dropout\n",
    "- Learning rate can be reasonably high, thanks to batch normalization, resulting in convergence after a few epochs\n",
    "- Small dense layers performed nearly as well as large dense layers (> 1024) and are faster to train"
   ]
  },
  {
   "cell_type": "code",
   "execution_count": 10,
   "metadata": {},
   "outputs": [],
   "source": [
    "from keras import models\n",
    "from keras import layers\n",
    "from keras import optimizers \n",
    "from keras import losses\n",
    "\n",
    "model = models.Sequential()\n",
    "# Since we extracted predictions from a convolution layer, the first step is to\n",
    "# flatten the results, just we like we do when we train the complete network.\n",
    "# TODO: make more generic with x_train_features.shape[1:]\n",
    "model.add(layers.Flatten(input_shape=(1, 1, 512,)))\n",
    "model.add(layers.BatchNormalization())\n",
    "model.add(layers.Dense(128, activation='relu'))\n",
    "model.add(layers.BatchNormalization())\n",
    "model.add(layers.Dense(10, activation='softmax'))\n",
    "\n",
    "model.compile(optimizer=optimizers.RMSprop(lr=0.001),\n",
    "              loss=losses.categorical_crossentropy,\n",
    "              metrics=['accuracy'])"
   ]
  },
  {
   "cell_type": "markdown",
   "metadata": {},
   "source": [
    "Train the classifier, using early stopping to get a good accuracy without much guessing."
   ]
  },
  {
   "cell_type": "code",
   "execution_count": 11,
   "metadata": {},
   "outputs": [
    {
     "name": "stdout",
     "output_type": "stream",
     "text": [
      "Train on 45000 samples, validate on 5000 samples\n",
      "Epoch 1/100\n",
      "45000/45000 [==============================] - 3s 71us/step - loss: 1.1770 - acc: 0.5940 - val_loss: 0.9947 - val_acc: 0.6698\n",
      "Epoch 2/100\n",
      "45000/45000 [==============================] - 3s 57us/step - loss: 0.9979 - acc: 0.6501 - val_loss: 0.9668 - val_acc: 0.6724\n",
      "Epoch 3/100\n",
      "45000/45000 [==============================] - 3s 61us/step - loss: 0.9491 - acc: 0.6666 - val_loss: 0.9483 - val_acc: 0.6868\n",
      "Epoch 4/100\n",
      "45000/45000 [==============================] - 3s 65us/step - loss: 0.9181 - acc: 0.6793 - val_loss: 0.9449 - val_acc: 0.6888\n",
      "Epoch 5/100\n",
      "45000/45000 [==============================] - 3s 67us/step - loss: 0.8866 - acc: 0.6910 - val_loss: 0.9513 - val_acc: 0.6820\n",
      "Epoch 6/100\n",
      "45000/45000 [==============================] - 3s 59us/step - loss: 0.8721 - acc: 0.6944 - val_loss: 0.9473 - val_acc: 0.6866\n",
      "Epoch 00006: early stopping\n"
     ]
    }
   ],
   "source": [
    "from keras import callbacks\n",
    "\n",
    "early_stopping = callbacks.EarlyStopping(monitor='val_acc', patience=2, verbose=1)\n",
    "\n",
    "history = model.fit(x_train_features, y_train,\n",
    "                    epochs=100, \n",
    "                    batch_size=32,\n",
    "                    validation_split=0.1,\n",
    "                    callbacks=[early_stopping])"
   ]
  },
  {
   "cell_type": "markdown",
   "metadata": {},
   "source": [
    "### 3.6 Evaluate the final classifier"
   ]
  },
  {
   "cell_type": "markdown",
   "metadata": {},
   "source": [
    "Check the training history."
   ]
  },
  {
   "cell_type": "code",
   "execution_count": 12,
   "metadata": {},
   "outputs": [],
   "source": [
    "# Adapted from https://keras.io/visualization/ - changed to side-by-side plots to save space\n",
    "from matplotlib.ticker import MaxNLocator\n",
    "\n",
    "def plot_keras_history(history):\n",
    "\n",
    "    # Side-by-side plots, wider than taller, to make run for the epochs\n",
    "    f = plt.figure(figsize=(12,4))\n",
    "    ax_acc = f.add_subplot(121)\n",
    "    ax_loss = f.add_subplot(122)\n",
    "\n",
    "    # Plot training & validation accuracy values\n",
    "    ax_acc.plot(history.history['acc'])\n",
    "    ax_acc.plot(history.history['val_acc'])\n",
    "    ax_acc.set_title('Model accuracy')\n",
    "    ax_acc.set_ylabel('Accuracy')\n",
    "    ax_acc.set_xlabel('Epoch')\n",
    "    ax_acc.legend(['Train', 'Test'], loc='upper left')\n",
    "    ax_acc.xaxis.set_major_locator(MaxNLocator(integer=True))\n",
    "\n",
    "    # Plot training & validation loss values\n",
    "    ax_loss.plot(history.history['loss'])\n",
    "    ax_loss.plot(history.history['val_loss'])\n",
    "    ax_loss.set_title('Model loss')\n",
    "    ax_loss.set_ylabel('Loss')\n",
    "    ax_loss.set_xlabel('Epoch')\n",
    "    ax_loss.legend(['Train', 'Test'], loc='upper left')\n",
    "    ax_loss.xaxis.set_major_locator(MaxNLocator(integer=True))\n",
    "\n",
    "    plt.tight_layout()\n",
    "    plt.show()"
   ]
  },
  {
   "cell_type": "code",
   "execution_count": 13,
   "metadata": {},
   "outputs": [
    {
     "data": {
      "image/png": "[encoded data removed]",
      "text/plain": [
       "<Figure size 864x288 with 2 Axes>"
      ]
     },
     "metadata": {
      "needs_background": "light"
     },
     "output_type": "display_data"
    }
   ],
   "source": [
    "plot_keras_history(history)"
   ]
  },
  {
   "cell_type": "markdown",
   "metadata": {},
   "source": [
    "Check accuracy on the test dataset."
   ]
  },
  {
   "cell_type": "code",
   "execution_count": 14,
   "metadata": {},
   "outputs": [
    {
     "name": "stdout",
     "output_type": "stream",
     "text": [
      "10000/10000 [==============================] - 0s 19us/step\n",
      "Test loss: 0.9718010419845581\n",
      "Test accuracy: 0.6737\n"
     ]
    }
   ],
   "source": [
    "scores = model.evaluate(x_test_features, y_test, verbose=1)\n",
    "print('Test loss:', scores[0])\n",
    "print('Test accuracy:', scores[1])"
   ]
  },
  {
   "cell_type": "markdown",
   "metadata": {},
   "source": [
    "## 4. Transfer learning with retraining"
   ]
  },
  {
   "cell_type": "markdown",
   "metadata": {},
   "source": [
    "In this section we will load the same pretrained network used in the previous section and train some of its top layers on our dataset.\n",
    "\n",
    "Even though these top layers are supposed to be generic feature extractors, they were trained on a different set of images. \n",
    "\n",
    "The goal of retraining the top layers is for them to learn features from our dataset.\n",
    "\n",
    "Note: we could have proceeded from the previous section, where we already have a base network and a pretrained dense layer (two pieces we need for this section). However, in this section we will rebuild those steps to 1) have a complete solution in one place and 2) make sure we are not carrying over information from that section that could inadvertently help in this section (e.g. train again a network that has already been trained)."
   ]
  },
  {
   "cell_type": "markdown",
   "metadata": {},
   "source": [
    "### 4.1 Load and prepare the base network"
   ]
  },
  {
   "cell_type": "markdown",
   "metadata": {},
   "source": [
    "We will retrain the last series of convolution layers (and their associated pooling layer) in the VGG network.\n",
    "\n",
    "In this step we load the base network and freeze all layers we will not train."
   ]
  },
  {
   "cell_type": "code",
   "execution_count": 15,
   "metadata": {},
   "outputs": [
    {
     "name": "stdout",
     "output_type": "stream",
     "text": [
      "input_2\t(None, 32, 32, 3)\tFalse\t\n",
      "block1_conv1\t(None, 32, 32, 64)\tFalse\t\n",
      "block1_conv2\t(None, 32, 32, 64)\tFalse\t\n",
      "block1_pool\t(None, 16, 16, 64)\tFalse\t\n",
      "block2_conv1\t(None, 16, 16, 128)\tFalse\t\n",
      "block2_conv2\t(None, 16, 16, 128)\tFalse\t\n",
      "block2_pool\t(None, 8, 8, 128)\tFalse\t\n",
      "block3_conv1\t(None, 8, 8, 256)\tFalse\t\n",
      "block3_conv2\t(None, 8, 8, 256)\tFalse\t\n",
      "block3_conv3\t(None, 8, 8, 256)\tFalse\t\n",
      "block3_pool\t(None, 4, 4, 256)\tFalse\t\n",
      "block4_conv1\t(None, 4, 4, 512)\tFalse\t\n",
      "block4_conv2\t(None, 4, 4, 512)\tFalse\t\n",
      "block4_conv3\t(None, 4, 4, 512)\tFalse\t\n",
      "block4_pool\t(None, 2, 2, 512)\tFalse\t\n",
      "block5_conv1\t(None, 2, 2, 512)\tTrue\t\n",
      "block5_conv2\t(None, 2, 2, 512)\tTrue\t\n",
      "block5_conv3\t(None, 2, 2, 512)\tTrue\t\n",
      "block5_pool\t(None, 1, 1, 512)\tTrue\t\n"
     ]
    }
   ],
   "source": [
    "from keras.applications import vgg16\n",
    "\n",
    "conv_base2 = vgg16.VGG16(weights='imagenet', include_top=False, input_shape=(32, 32, 3))\n",
    "\n",
    "# Freeze all layers we don't want to train\n",
    "for layer in conv_base2.layers[:-4]:\n",
    "    layer.trainable = False\n",
    "\n",
    "# Check if we got what we wanted\n",
    "for layer in conv_base2.layers:\n",
    "    print('{}\\t{}\\t{}\\t'.format(layer.name, layer.output_shape, layer.trainable))"
   ]
  },
  {
   "cell_type": "markdown",
   "metadata": {},
   "source": [
    "### 4.2 Create and prepare the top layers"
   ]
  },
  {
   "cell_type": "markdown",
   "metadata": {},
   "source": [
    "The top layer of the network will do the final class predictions. To do that, it will be trained on our dataset, together with the layers from the base network we unfroze in the previous step.\n",
    "\n",
    "However, before training the top layer and the base network together, we first need to train the top layer by itself. The reason for that is explained in [this Keras blog post on transfer learning](https://blog.keras.io/building-powerful-image-classification-models-using-very-little-data.html):\n",
    "\n",
    "> in order to perform fine-tuning, all layers should start with properly trained weights: for\n",
    "> instance you should not slap a randomly initialized fully-connected network on top of a\n",
    "> pre-trained convolutional base. This is because the large gradient updates triggered by the\n",
    "> randomly initialized weights would wreck the learned weights in the convolutional base. In \n",
    "> our case this is why we first train the top-level classifier, and only then start fine-tuning\n",
    "> convolutional weights alongside it.\n",
    "\n",
    "In this step we will create weights for the top layer that are compatible with the convolution layer of the base network."
   ]
  },
  {
   "cell_type": "markdown",
   "metadata": {},
   "source": [
    "Because we use the top layer in a few places, this function ensures that we always create the top layer with the same architecture in all places.\n",
    "\n",
    "**IMPORTANT:** If you change this function, run all steps that depend on it again, including the weight generation step."
   ]
  },
  {
   "cell_type": "code",
   "execution_count": 16,
   "metadata": {},
   "outputs": [],
   "source": [
    "def get_top_layer(input_shape):\n",
    "    top_layer = models.Sequential()\n",
    "    top_layer.add(layers.Flatten(input_shape=input_shape))\n",
    "    top_layer.add(layers.Dense(128, activation='relu'))\n",
    "    top_layer.add(layers.BatchNormalization())\n",
    "    top_layer.add(layers.Dense(10, activation='softmax'))\n",
    "\n",
    "    return top_layer"
   ]
  },
  {
   "cell_type": "markdown",
   "metadata": {},
   "source": [
    "The starting point is the features extracted in the previous section. They were generated by the base layer and are therefore adjusted to the weights those layers uses.\n",
    "\n",
    "The extracted features are now the training data for this layer."
   ]
  },
  {
   "cell_type": "code",
   "execution_count": 17,
   "metadata": {},
   "outputs": [
    {
     "name": "stdout",
     "output_type": "stream",
     "text": [
      "x_train shape: (50000, 32, 32, 3)\n",
      "Loaded 50000 train and 10000 test samples\n",
      "Hot-enconding 10 classes\n"
     ]
    }
   ],
   "source": [
    "x_train, y_train, x_test, y_test = load_dataset()"
   ]
  },
  {
   "cell_type": "code",
   "execution_count": 18,
   "metadata": {},
   "outputs": [
    {
     "name": "stdout",
     "output_type": "stream",
     "text": [
      "Loading predictions from predicted_train_features_final_notebook\n",
      "Loading predictions from predicted_test_features_final_notebook\n"
     ]
    }
   ],
   "source": [
    "# IMPORTANT: since the base model we use in this section is exactly the same as the one\n",
    "# used in the previous section, we can use the same cached files. If the models become\n",
    "# different in the future, we need new file names in this section.\n",
    "\n",
    "x_train_features = calculate_predictions(x_train, conv_base2, TRAIN_FEATURES_FILE)\n",
    "x_test_features = calculate_predictions(x_test, conv_base2, TEST_FEATURES_FILE)"
   ]
  },
  {
   "cell_type": "markdown",
   "metadata": {},
   "source": [
    "We will train the layer and save the weights. These weights are the \"properly trained weights\" that we need.\n",
    "\n",
    "This step will take only a few seconds because we are training a very small network."
   ]
  },
  {
   "cell_type": "code",
   "execution_count": 19,
   "metadata": {},
   "outputs": [],
   "source": [
    "from keras import optimizers\n",
    "from keras import losses\n",
    "\n",
    "top_layer_weights = get_top_layer(x_train_features.shape[1:])\n",
    "\n",
    "top_layer_weights.compile(optimizer=optimizers.RMSprop(lr=0.001),\n",
    "                  loss=losses.categorical_crossentropy,\n",
    "                  metrics=['accuracy'])"
   ]
  },
  {
   "cell_type": "code",
   "execution_count": 20,
   "metadata": {},
   "outputs": [
    {
     "name": "stdout",
     "output_type": "stream",
     "text": [
      "Train on 45000 samples, validate on 5000 samples\n",
      "Epoch 1/50\n",
      "45000/45000 [==============================] - 4s 86us/step - loss: 1.1473 - acc: 0.6053 - val_loss: 0.9806 - val_acc: 0.6636\n",
      "Epoch 2/50\n",
      "45000/45000 [==============================] - 4s 81us/step - loss: 0.9910 - acc: 0.6602 - val_loss: 0.9525 - val_acc: 0.6646\n",
      "Epoch 3/50\n",
      "45000/45000 [==============================] - 4s 80us/step - loss: 0.9426 - acc: 0.6759 - val_loss: 0.9299 - val_acc: 0.6766\n",
      "Epoch 4/50\n",
      "45000/45000 [==============================] - 4s 80us/step - loss: 0.9096 - acc: 0.6872 - val_loss: 0.9175 - val_acc: 0.6918\n",
      "Epoch 5/50\n",
      "45000/45000 [==============================] - 4s 80us/step - loss: 0.8789 - acc: 0.6958 - val_loss: 0.9209 - val_acc: 0.6848\n",
      "Epoch 6/50\n",
      "45000/45000 [==============================] - 4s 82us/step - loss: 0.8513 - acc: 0.7097 - val_loss: 0.9203 - val_acc: 0.6860\n",
      "Epoch 00006: early stopping\n"
     ]
    },
    {
     "data": {
      "text/plain": [
       "<keras.callbacks.History at 0x13a07e320>"
      ]
     },
     "execution_count": 20,
     "metadata": {},
     "output_type": "execute_result"
    }
   ],
   "source": [
    "from keras import callbacks\n",
    "\n",
    "# We will train with early stopping to get good results, but also not waste\n",
    "# time with too much training (and risk overfitting as well)\n",
    "early_stopping = callbacks.EarlyStopping(monitor='val_acc', patience=2, verbose=1)\n",
    "\n",
    "top_layer_weights.fit(x_train_features, y_train,\n",
    "                      epochs=50,\n",
    "                      batch_size=20,\n",
    "                      validation_split=0.1,\n",
    "                      callbacks=[early_stopping])"
   ]
  },
  {
   "cell_type": "markdown",
   "metadata": {},
   "source": [
    "Check accuracy on the test set."
   ]
  },
  {
   "cell_type": "code",
   "execution_count": 21,
   "metadata": {},
   "outputs": [
    {
     "name": "stdout",
     "output_type": "stream",
     "text": [
      "10000/10000 [==============================] - 0s 16us/step\n",
      "Test loss: 0.9462532428741455\n",
      "Test accuracy: 0.6826\n"
     ]
    }
   ],
   "source": [
    "scores = top_layer_weights.evaluate(x_test_features, y_test, verbose=1)\n",
    "print('Test loss:', scores[0])\n",
    "print('Test accuracy:', scores[1])"
   ]
  },
  {
   "cell_type": "code",
   "execution_count": 22,
   "metadata": {},
   "outputs": [],
   "source": [
    "WEIGHTS_FILE = 'bottleneck_layer_weights.h5'\n",
    "\n",
    "top_layer_weights.save_weights('bottleneck_layer_weights.h5')"
   ]
  },
  {
   "cell_type": "code",
   "execution_count": 23,
   "metadata": {},
   "outputs": [],
   "source": [
    "# We no longer need this model - free up some memory\n",
    "del top_layer_weights"
   ]
  },
  {
   "cell_type": "markdown",
   "metadata": {},
   "source": [
    "### 4.3 Train with the base network"
   ]
  },
  {
   "cell_type": "markdown",
   "metadata": {},
   "source": [
    "In the previous section we already achieved over 90% accuracy.\n",
    "\n",
    "In this section we will train the base network together with the new top layers to improve that."
   ]
  },
  {
   "cell_type": "markdown",
   "metadata": {},
   "source": [
    "**NOTE:** when running the notebook from top to bottom, we could simply use the top layer we just trained in the above section. We are doing it in separate steps (train, save to file, load from file) to illustrate the full workflow and to be able to run only this section of the notebook later."
   ]
  },
  {
   "cell_type": "code",
   "execution_count": 24,
   "metadata": {},
   "outputs": [],
   "source": [
    "top_layer = get_top_layer(conv_base2.output_shape[1:])\n",
    "top_layer.load_weights(WEIGHTS_FILE)"
   ]
  },
  {
   "cell_type": "code",
   "execution_count": 25,
   "metadata": {},
   "outputs": [],
   "source": [
    "combined_model = models.Sequential()\n",
    "combined_model.add(conv_base2)\n",
    "combined_model.add(top_layer)"
   ]
  },
  {
   "cell_type": "markdown",
   "metadata": {},
   "source": [
    "Show the model we built.\n",
    "\n",
    "What we are looking for here: a large number of non-trainable parameters. If that numbers is small, we didn't freeze the layers correctly."
   ]
  },
  {
   "cell_type": "code",
   "execution_count": 26,
   "metadata": {},
   "outputs": [
    {
     "name": "stdout",
     "output_type": "stream",
     "text": [
      "_________________________________________________________________\n",
      "Layer (type)                 Output Shape              Param #   \n",
      "=================================================================\n",
      "vgg16 (Model)                (None, 1, 1, 512)         14714688  \n",
      "_________________________________________________________________\n",
      "sequential_3 (Sequential)    (None, 10)                67466     \n",
      "=================================================================\n",
      "Total params: 14,782,154\n",
      "Trainable params: 7,146,634\n",
      "Non-trainable params: 7,635,520\n",
      "_________________________________________________________________\n"
     ]
    }
   ],
   "source": [
    "combined_model.summary()"
   ]
  },
  {
   "cell_type": "markdown",
   "metadata": {},
   "source": [
    "Compile the model.\n",
    "\n",
    "Note that we are using a large learning rate. We can afford that because we are using batch normalization."
   ]
  },
  {
   "cell_type": "code",
   "execution_count": 27,
   "metadata": {},
   "outputs": [],
   "source": [
    "combined_model.compile(optimizer=optimizers.RMSprop(lr=0.001),\n",
    "                  loss=losses.categorical_crossentropy,\n",
    "                  metrics=['accuracy'])"
   ]
  },
  {
   "cell_type": "markdown",
   "metadata": {},
   "source": [
    "Train the model."
   ]
  },
  {
   "cell_type": "code",
   "execution_count": 28,
   "metadata": {},
   "outputs": [
    {
     "name": "stdout",
     "output_type": "stream",
     "text": [
      "Train on 45000 samples, validate on 5000 samples\n",
      "Epoch 1/50\n",
      "45000/45000 [==============================] - 805s 18ms/step - loss: 1.1864 - acc: 0.5726 - val_loss: 1.8449 - val_acc: 0.4940\n",
      "Epoch 2/50\n",
      "45000/45000 [==============================] - 804s 18ms/step - loss: 0.9409 - acc: 0.6720 - val_loss: 1.1389 - val_acc: 0.6074\n",
      "Epoch 3/50\n",
      "45000/45000 [==============================] - 824s 18ms/step - loss: 0.8637 - acc: 0.7030 - val_loss: 1.0129 - val_acc: 0.6500\n",
      "Epoch 4/50\n",
      "45000/45000 [==============================] - 768s 17ms/step - loss: 0.8070 - acc: 0.7237 - val_loss: 0.9557 - val_acc: 0.6920\n",
      "Epoch 5/50\n",
      "45000/45000 [==============================] - 865s 19ms/step - loss: 0.7621 - acc: 0.7401 - val_loss: 0.9144 - val_acc: 0.6996\n",
      "Epoch 6/50\n",
      "45000/45000 [==============================] - 845s 19ms/step - loss: 0.7221 - acc: 0.7520 - val_loss: 0.8891 - val_acc: 0.6948\n",
      "Epoch 7/50\n",
      "45000/45000 [==============================] - 836s 19ms/step - loss: 0.6864 - acc: 0.7655 - val_loss: 0.8678 - val_acc: 0.7124\n",
      "Epoch 8/50\n",
      "45000/45000 [==============================] - 791s 18ms/step - loss: 0.6599 - acc: 0.7733 - val_loss: 1.0339 - val_acc: 0.6662\n",
      "Epoch 9/50\n",
      "45000/45000 [==============================] - 797s 18ms/step - loss: 0.6321 - acc: 0.7842 - val_loss: 0.9180 - val_acc: 0.7034\n",
      "Epoch 00009: early stopping\n"
     ]
    },
    {
     "data": {
      "text/plain": [
       "<keras.callbacks.History at 0x14c274f98>"
      ]
     },
     "execution_count": 28,
     "metadata": {},
     "output_type": "execute_result"
    }
   ],
   "source": [
    "combined_model.fit(x_train, y_train,\n",
    "                   epochs=50,\n",
    "                   batch_size=20,\n",
    "                   validation_split=0.1,\n",
    "                   callbacks=[early_stopping])"
   ]
  },
  {
   "cell_type": "markdown",
   "metadata": {},
   "source": [
    "### 4.4 Evaluate the results"
   ]
  },
  {
   "cell_type": "markdown",
   "metadata": {},
   "source": [
    "Check accuracy on the test data."
   ]
  },
  {
   "cell_type": "code",
   "execution_count": 29,
   "metadata": {},
   "outputs": [
    {
     "name": "stdout",
     "output_type": "stream",
     "text": [
      "10000/10000 [==============================] - 52s 5ms/step\n",
      "Test loss: 0.9208349465370178\n",
      "Test accuracy: 0.7047\n"
     ]
    }
   ],
   "source": [
    "scores = combined_model.evaluate(x_test, y_test, verbose=1)\n",
    "print('Test loss:', scores[0])\n",
    "print('Test accuracy:', scores[1])"
   ]
  },
  {
   "cell_type": "markdown",
   "metadata": {},
   "source": [
    "Calculate and visualize the confusion matrix.\n",
    "\n",
    "(Reminder: rows = actual class, columns = predicted class)"
   ]
  },
  {
   "cell_type": "code",
   "execution_count": 31,
   "metadata": {},
   "outputs": [
    {
     "name": "stdout",
     "output_type": "stream",
     "text": [
      "10000/10000 [==============================] - 48s 5ms/step\n"
     ]
    }
   ],
   "source": [
    "predictions = combined_model.predict(x_test, verbose=1)"
   ]
  },
  {
   "cell_type": "code",
   "execution_count": 39,
   "metadata": {},
   "outputs": [
    {
     "name": "stdout",
     "output_type": "stream",
     "text": [
      "[[838  65  22   3  29   1   4  20   6  12]\n",
      " [  2 956   2   0   1   1   6   5   1  26]\n",
      " [ 48  20 640   3 117  47  81  42   0   2]\n",
      " [ 16  31  72 199  85 359 128  71   1  38]\n",
      " [ 12  10  34   1 740  21  76 100   2   4]\n",
      " [  9  12  32  15  49 682  74 119   0   8]\n",
      " [  4  28  28   3  32  20 877   4   0   4]\n",
      " [  6  13  12   0  47  30   7 873   0  12]\n",
      " [134 229  13   8  19   1   3   5 538  50]\n",
      " [ 20 237   2   1   8   3   5  19   1 704]]\n"
     ]
    }
   ],
   "source": [
    "from sklearn.metrics import confusion_matrix\n",
    "\n",
    "cm = confusion_matrix(y_test.argmax(axis=1), predictions.argmax(axis=1))\n",
    "print(cm)"
   ]
  },
  {
   "cell_type": "markdown",
   "metadata": {},
   "source": [
    "In graphical format (lighter colors = higher accuracy)."
   ]
  },
  {
   "cell_type": "code",
   "execution_count": 40,
   "metadata": {},
   "outputs": [
    {
     "data": {
      "image/png": "[encoded data removed]",
      "text/plain": [
       "<Figure size 288x288 with 1 Axes>"
      ]
     },
     "metadata": {
      "needs_background": "light"
     },
     "output_type": "display_data"
    }
   ],
   "source": [
    "plt.matshow(cm, cmap=plt.cm.gray)\n",
    "plt.show()"
   ]
  },
  {
   "cell_type": "markdown",
   "metadata": {},
   "source": [
    "## 5. Analysis and conclusions"
   ]
  },
  {
   "cell_type": "markdown",
   "metadata": {},
   "source": [
    "Training with an unfrozen convolution layer improves overall accuracy by about 2%.\n",
    "\n",
    "Although the numbers in the notebook show that the cost for that improvement is a much large training time (from \"a few seconds\" to \"about two hours\"), on a GPU the training time would be significantly faster, in the range of \"a few minutes\". It is still larger, but back to a more manageable range.\n",
    "\n",
    "Applications that require maximum accuracy should unfreeze a convolution layer. Applications that require the minimum possible training time (perhaps online training, as samples are collected) should freeze all convolution layers and train only the smallest possible dense layer."
   ]
  },
  {
   "cell_type": "markdown",
   "metadata": {},
   "source": [
    "### 5.1 Possible next steps to improve the results"
   ]
  },
  {
   "cell_type": "markdown",
   "metadata": {},
   "source": [
    "The training process is already stopping when overfit begins to happen (using early stopping), so training for longer in this configuration may not yield better results.\n",
    "\n",
    "With that in mind, a few ideas to improve accuracy:\n",
    "\n",
    "1. Increase the `patience` value in early stopping to check if the network is going through a plateau at that point.\n",
    "1. Add data augmentation.\n",
    "1. Change the architecture of the top layer, e.g. add more hidden layers, add/remove neurons, etc."
   ]
  }
 ],
 "metadata": {
  "kernelspec": {
   "display_name": "Python 3",
   "language": "python",
   "name": "python3"
  },
  "language_info": {
   "codemirror_mode": {
    "name": "ipython",
    "version": 3
   },
   "file_extension": ".py",
   "mimetype": "text/x-python",
   "name": "python",
   "nbconvert_exporter": "python",
   "pygments_lexer": "ipython3",
   "version": "3.6.4"
  },
  "nav_menu": {},
  "toc": {
   "nav_menu": {},
   "number_sections": true,
   "sideBar": true,
   "skip_h1_title": false,
   "title_cell": "Table of Contents",
   "title_sidebar": "Contents",
   "toc_cell": false,
   "toc_position": {},
   "toc_section_display": "block",
   "toc_window_display": false
  }
 },
 "nbformat": 4,
 "nbformat_minor": 2
}
