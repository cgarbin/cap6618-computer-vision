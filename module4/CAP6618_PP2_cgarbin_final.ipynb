{
 "cells": [
  {
   "cell_type": "markdown",
   "metadata": {},
   "source": [
    "# CAP 6618 - Machine Learning for Computer Vision"
   ]
  },
  {
   "cell_type": "markdown",
   "metadata": {},
   "source": [
    "Christian Garbin - final notebook for programming project 2"
   ]
  },
  {
   "cell_type": "markdown",
   "metadata": {},
   "source": [
    "**IMPORTANT**: This notebook uses Python 3."
   ]
  },
  {
   "cell_type": "markdown",
   "metadata": {},
   "source": [
    "# Step 1: Load and split MNIST dataset"
   ]
  },
  {
   "cell_type": "markdown",
   "metadata": {},
   "source": [
    "Load MNIST dataset in a sklearn-friendly format (from A. Géron's book)."
   ]
  },
  {
   "cell_type": "code",
   "execution_count": 1,
   "metadata": {},
   "outputs": [],
   "source": [
    "# From Geron \n",
    "\n",
    "# To support both python 2 and python 3\n",
    "from __future__ import division, print_function, unicode_literals\n",
    "\n",
    "# Common imports\n",
    "import os\n",
    "import numpy as np\n",
    "\n",
    "# sklearn imports\n",
    "from sklearn.neural_network import MLPClassifier\n",
    "from sklearn.metrics import accuracy_score\n",
    "from sklearn.model_selection import cross_val_score\n",
    "\n",
    "# Standard library\n",
    "import random\n",
    "\n",
    "# to make this notebook's output stable across runs\n",
    "np.random.seed(42)\n",
    "\n",
    "# To plot pretty figures\n",
    "%matplotlib inline\n",
    "import matplotlib\n",
    "import matplotlib.pyplot as plt\n",
    "plt.rcParams['axes.labelsize'] = 14\n",
    "plt.rcParams['xtick.labelsize'] = 12\n",
    "plt.rcParams['ytick.labelsize'] = 12\n",
    "\n",
    "# Where to save the figures\n",
    "PROJECT_ROOT_DIR = \".\"\n",
    "CHAPTER_ID = \"classification\"\n",
    "\n",
    "def save_fig(fig_id, tight_layout=True):\n",
    "    # No need to save pics\n",
    "    pass"
   ]
  },
  {
   "cell_type": "code",
   "execution_count": 2,
   "metadata": {},
   "outputs": [],
   "source": [
    "def sort_by_target(mnist):\n",
    "    reorder_train = np.array(sorted([(target, i) for i, target in enumerate(mnist.target[:60000])]))[:, 1]\n",
    "    reorder_test = np.array(sorted([(target, i) for i, target in enumerate(mnist.target[60000:])]))[:, 1]\n",
    "    mnist.data[:60000] = mnist.data[reorder_train]\n",
    "    mnist.target[:60000] = mnist.target[reorder_train]\n",
    "    mnist.data[60000:] = mnist.data[reorder_test + 60000]\n",
    "    mnist.target[60000:] = mnist.target[reorder_test + 60000]\n",
    "\n",
    "try:\n",
    "    from sklearn.datasets import fetch_openml\n",
    "    mnist = fetch_openml('mnist_784', version=1, cache=True)\n",
    "    mnist.target = mnist.target.astype(np.int8) # fetch_openml() returns targets as strings\n",
    "    sort_by_target(mnist) # fetch_openml() returns an unsorted dataset\n",
    "except ImportError:\n",
    "    from sklearn.datasets import fetch_mldata\n",
    "    mnist = fetch_mldata('MNIST original')"
   ]
  },
  {
   "cell_type": "markdown",
   "metadata": {},
   "source": [
    "Split the dataset into training and test data and shuffle the training data to help classifiers that can get stuck a local minimum.\n",
    "\n",
    "**IMPORTANT**: In the code below we are using the first 50,000 elements as the train set to match Nielsen's code. If we train with all 60,000 elements we would be giving this classifier an unfair edge over Nielsen's classifiers tested above.\n",
    "\n",
    "Before we slice the 50,000 elements we need to shuffle the complete train set we get from MNIST. Otherwise we will not be sure we are getting the correct distribution for all digits (shuffling doesn't guarantee that either - we will check with a histogram below).\n",
    "\n",
    "The test data is still the last 10,000 elements, as defined in the MNIST dataset. We currently don't use the elements in the [50,001-60,000] range. They would be used as a validation set.\n"
   ]
  },
  {
   "cell_type": "code",
   "execution_count": 3,
   "metadata": {},
   "outputs": [],
   "source": [
    "X, y = mnist[\"data\"], mnist[\"target\"]\n",
    "\n",
    "X_train, X_test, y_train, y_test = X[:60000], X[60000:], y[:60000], y[60000:]\n",
    "\n",
    "# Shuffle the complete train set\n",
    "shuffle_index = np.random.permutation(60000)\n",
    "X_train, y_train = X_train[shuffle_index], y_train[shuffle_index]\n",
    "\n",
    "# Now extract the first 50,000\n",
    "X_train, y_train = X_train[:50000], y_train[:50000]"
   ]
  },
  {
   "cell_type": "markdown",
   "metadata": {},
   "source": [
    "Check that we have a good distribution for all digits.\n",
    "\n",
    "What we are looking for: about the same distribution of digits in the train and test set."
   ]
  },
  {
   "cell_type": "code",
   "execution_count": 4,
   "metadata": {},
   "outputs": [
    {
     "data": {
      "image/png": "[encoded data removed]",
      "text/plain": [
       "<Figure size 432x288 with 2 Axes>"
      ]
     },
     "metadata": {
      "needs_background": "light"
     },
     "output_type": "display_data"
    }
   ],
   "source": [
    "plt.subplot(121); plt.hist(y_train); plt.ylabel('Train set - number of digits in each class')\n",
    "plt.subplot(122); plt.hist(y_test); plt.ylabel('Test set - number of digits in each class')\n",
    "plt.tight_layout()\n",
    "plt.show()"
   ]
  },
  {
   "cell_type": "markdown",
   "metadata": {},
   "source": [
    "## Step 2: Baseline network"
   ]
  },
  {
   "cell_type": "markdown",
   "metadata": {},
   "source": [
    "The \"modernized\" network from the experimental notebook was chosen as the final network for the report.\n",
    "\n",
    "Although other networks came close to that performance, training the \"modernized\" network was significantly faster, making it more suitable for experiments."
   ]
  },
  {
   "cell_type": "markdown",
   "metadata": {},
   "source": [
    "**NOTE:** in all tests below we will use `random_state` to help the results more reproducible."
   ]
  },
  {
   "cell_type": "code",
   "execution_count": 5,
   "metadata": {},
   "outputs": [
    {
     "name": "stdout",
     "output_type": "stream",
     "text": [
      "Iteration 1, loss = 2.11388013\n",
      "Iteration 2, loss = 0.54740304\n",
      "Iteration 3, loss = 0.35945722\n",
      "Iteration 4, loss = 0.26020279\n",
      "Iteration 5, loss = 0.22002940\n",
      "Iteration 6, loss = 0.19671125\n",
      "Iteration 7, loss = 0.18037742\n",
      "Iteration 8, loss = 0.17261197\n",
      "Iteration 9, loss = 0.16232108\n",
      "Iteration 10, loss = 0.15408800\n",
      "Iteration 11, loss = 0.14582561\n",
      "Iteration 12, loss = 0.14510094\n",
      "Iteration 13, loss = 0.13350809\n",
      "Iteration 14, loss = 0.13047489\n",
      "Iteration 15, loss = 0.12153839\n",
      "Iteration 16, loss = 0.11321633\n",
      "Iteration 17, loss = 0.12047030\n",
      "Iteration 18, loss = 0.11035314\n",
      "Iteration 19, loss = 0.10294990\n",
      "Iteration 20, loss = 0.10579903\n",
      "Iteration 21, loss = 0.09384150\n",
      "Iteration 22, loss = 0.09354898\n",
      "Iteration 23, loss = 0.10036548\n",
      "Iteration 24, loss = 0.09010691\n",
      "Iteration 25, loss = 0.08670430\n",
      "Iteration 26, loss = 0.08373755\n",
      "Iteration 27, loss = 0.08919913\n",
      "Iteration 28, loss = 0.08511802\n",
      "Iteration 29, loss = 0.07394984\n",
      "Iteration 30, loss = 0.07292516\n",
      "MLPClassifier(activation='relu', alpha=0.0001, batch_size=100, beta_1=0.9,\n",
      "       beta_2=0.999, early_stopping=False, epsilon=1e-08,\n",
      "       hidden_layer_sizes=(100,), learning_rate='constant',\n",
      "       learning_rate_init=0.001, max_iter=30, momentum=0.9,\n",
      "       n_iter_no_change=10, nesterovs_momentum=True, power_t=0.5,\n",
      "       random_state=42, shuffle=True, solver='adam', tol=0.0001,\n",
      "       validation_fraction=0.1, verbose=True, warm_start=False)\n",
      "CPU times: user 1min 58s, sys: 15.3 s, total: 2min 13s\n",
      "Wall time: 36.6 s\n"
     ]
    },
    {
     "name": "stderr",
     "output_type": "stream",
     "text": [
      "/Users/cgarbin/fau/cap6618/env/lib/python3.6/site-packages/sklearn/neural_network/multilayer_perceptron.py:562: ConvergenceWarning: Stochastic Optimizer: Maximum iterations (30) reached and the optimization hasn't converged yet.\n",
      "  % self.max_iter, ConvergenceWarning)\n"
     ]
    }
   ],
   "source": [
    "%%time\n",
    "\n",
    "clf = MLPClassifier(hidden_layer_sizes=(100,), activation=\"relu\", solver=\"adam\", alpha=0.0001, \n",
    "                    batch_size=100, max_iter=30, verbose=True, random_state=42)\n",
    "fit_results = clf.fit(X_train, y_train)\n",
    "\n",
    "print(fit_results)  # must explicitly print because of %%time"
   ]
  },
  {
   "cell_type": "code",
   "execution_count": 6,
   "metadata": {},
   "outputs": [
    {
     "data": {
      "text/plain": [
       "0.9583"
      ]
     },
     "execution_count": 6,
     "metadata": {},
     "output_type": "execute_result"
    }
   ],
   "source": [
    "#Evaluate accuracy on test set\n",
    "y_pred = clf.predict(X_test)\n",
    "accuracy_score(y_test, y_pred)"
   ]
  },
  {
   "cell_type": "markdown",
   "metadata": {},
   "source": [
    "# Step 3: Learning rate optimization"
   ]
  },
  {
   "cell_type": "markdown",
   "metadata": {},
   "source": [
    "Since sklearn is reporting that the network is not converging after 30 iterations, we will first attempt to make it converge faster by increasing the learning rate."
   ]
  },
  {
   "cell_type": "markdown",
   "metadata": {},
   "source": [
    "## Step 3a: 10x learning rate"
   ]
  },
  {
   "cell_type": "code",
   "execution_count": 7,
   "metadata": {},
   "outputs": [
    {
     "name": "stdout",
     "output_type": "stream",
     "text": [
      "Iteration 1, loss = 1.42456752\n",
      "Iteration 2, loss = 0.78877301\n",
      "Iteration 3, loss = 0.78630291\n",
      "Iteration 4, loss = 0.79486998\n",
      "Iteration 5, loss = 0.96504118\n",
      "Iteration 6, loss = 1.04102825\n",
      "Iteration 7, loss = 1.01567517\n",
      "Iteration 8, loss = 1.12277052\n",
      "Iteration 9, loss = 1.22886966\n",
      "Iteration 10, loss = 1.14277430\n",
      "Iteration 11, loss = 1.33065243\n",
      "Iteration 12, loss = 1.27737751\n",
      "Iteration 13, loss = 1.31323060\n",
      "Iteration 14, loss = 1.31421521\n",
      "Training loss did not improve more than tol=0.000100 for 10 consecutive epochs. Stopping.\n",
      "MLPClassifier(activation='relu', alpha=0.0001, batch_size=100, beta_1=0.9,\n",
      "       beta_2=0.999, early_stopping=False, epsilon=1e-08,\n",
      "       hidden_layer_sizes=(100,), learning_rate='constant',\n",
      "       learning_rate_init=0.01, max_iter=30, momentum=0.9,\n",
      "       n_iter_no_change=10, nesterovs_momentum=True, power_t=0.5,\n",
      "       random_state=42, shuffle=True, solver='adam', tol=0.0001,\n",
      "       validation_fraction=0.1, verbose=True, warm_start=False)\n",
      "CPU times: user 49.6 s, sys: 6.48 s, total: 56.1 s\n",
      "Wall time: 15.5 s\n"
     ]
    }
   ],
   "source": [
    "%%time\n",
    "\n",
    "clf = MLPClassifier(hidden_layer_sizes=(100,), \n",
    "                    learning_rate_init=0.01,  # <----- this is new\n",
    "                    activation=\"relu\", solver=\"adam\", alpha=0.0001, batch_size=100, max_iter=30, verbose=True, random_state=42)\n",
    "fit_results = clf.fit(X_train, y_train)\n",
    "\n",
    "print(fit_results)  # must explicitly print because of %%time"
   ]
  },
  {
   "cell_type": "code",
   "execution_count": 8,
   "metadata": {},
   "outputs": [
    {
     "data": {
      "text/plain": [
       "0.5129"
      ]
     },
     "execution_count": 8,
     "metadata": {},
     "output_type": "execute_result"
    }
   ],
   "source": [
    "#Evaluate accuracy on test set\n",
    "y_pred = clf.predict(X_test)\n",
    "accuracy_score(y_test, y_pred)"
   ]
  },
  {
   "cell_type": "markdown",
   "metadata": {},
   "source": [
    "A bit much..."
   ]
  },
  {
   "cell_type": "markdown",
   "metadata": {},
   "source": [
    "## Step 3b: 5x learning rate"
   ]
  },
  {
   "cell_type": "code",
   "execution_count": 9,
   "metadata": {},
   "outputs": [
    {
     "name": "stdout",
     "output_type": "stream",
     "text": [
      "Iteration 1, loss = 1.26608104\n",
      "Iteration 2, loss = 0.46026811\n",
      "Iteration 3, loss = 0.40010692\n",
      "Iteration 4, loss = 0.37725832\n",
      "Iteration 5, loss = 0.38703815\n",
      "Iteration 6, loss = 0.38542509\n",
      "Iteration 7, loss = 0.39652293\n",
      "Iteration 8, loss = 0.41200715\n",
      "Iteration 9, loss = 0.42825527\n",
      "Iteration 10, loss = 0.43627337\n",
      "Iteration 11, loss = 0.48365892\n",
      "Iteration 12, loss = 0.47959041\n",
      "Iteration 13, loss = 0.48801299\n",
      "Iteration 14, loss = 0.47717065\n",
      "Iteration 15, loss = 0.46016503\n",
      "Training loss did not improve more than tol=0.000100 for 10 consecutive epochs. Stopping.\n",
      "MLPClassifier(activation='relu', alpha=0.0001, batch_size=100, beta_1=0.9,\n",
      "       beta_2=0.999, early_stopping=False, epsilon=1e-08,\n",
      "       hidden_layer_sizes=(100,), learning_rate='constant',\n",
      "       learning_rate_init=0.005, max_iter=30, momentum=0.9,\n",
      "       n_iter_no_change=10, nesterovs_momentum=True, power_t=0.5,\n",
      "       random_state=42, shuffle=True, solver='adam', tol=0.0001,\n",
      "       validation_fraction=0.1, verbose=True, warm_start=False)\n",
      "CPU times: user 52.2 s, sys: 6.83 s, total: 59.1 s\n",
      "Wall time: 16.4 s\n"
     ]
    }
   ],
   "source": [
    "%%time\n",
    "\n",
    "clf = MLPClassifier(hidden_layer_sizes=(100,), \n",
    "                    learning_rate_init=0.005,  # <----- this has changed\n",
    "                    activation=\"relu\", solver=\"adam\", alpha=0.0001, batch_size=100, max_iter=30, verbose=True, random_state=42)\n",
    "fit_results = clf.fit(X_train, y_train)\n",
    "\n",
    "print(fit_results)  # must explicitly print because of %%time"
   ]
  },
  {
   "cell_type": "code",
   "execution_count": 10,
   "metadata": {},
   "outputs": [
    {
     "data": {
      "text/plain": [
       "0.8902"
      ]
     },
     "execution_count": 10,
     "metadata": {},
     "output_type": "execute_result"
    }
   ],
   "source": [
    "#Evaluate accuracy on test set\n",
    "y_pred = clf.predict(X_test)\n",
    "accuracy_score(y_test, y_pred)"
   ]
  },
  {
   "cell_type": "markdown",
   "metadata": {},
   "source": [
    "Still on the \"too large\" side."
   ]
  },
  {
   "cell_type": "markdown",
   "metadata": {},
   "source": [
    "## Step 3c: 2x learning rate"
   ]
  },
  {
   "cell_type": "code",
   "execution_count": 11,
   "metadata": {},
   "outputs": [
    {
     "name": "stdout",
     "output_type": "stream",
     "text": [
      "Iteration 1, loss = 1.49501107\n",
      "Iteration 2, loss = 0.45319340\n",
      "Iteration 3, loss = 0.31678169\n",
      "Iteration 4, loss = 0.26959331\n",
      "Iteration 5, loss = 0.24677691\n",
      "Iteration 6, loss = 0.23393615\n",
      "Iteration 7, loss = 0.21914125\n",
      "Iteration 8, loss = 0.20896337\n",
      "Iteration 9, loss = 0.20325949\n",
      "Iteration 10, loss = 0.20813436\n",
      "Iteration 11, loss = 0.20431845\n",
      "Iteration 12, loss = 0.19401950\n",
      "Iteration 13, loss = 0.19502409\n",
      "Iteration 14, loss = 0.19235261\n",
      "Iteration 15, loss = 0.18268694\n",
      "Iteration 16, loss = 0.18779581\n",
      "Iteration 17, loss = 0.17768347\n",
      "Iteration 18, loss = 0.19429693\n",
      "Iteration 19, loss = 0.17762394\n",
      "Iteration 20, loss = 0.17677127\n",
      "Iteration 21, loss = 0.17330140\n",
      "Iteration 22, loss = 0.17861190\n",
      "Iteration 23, loss = 0.17182955\n",
      "Iteration 24, loss = 0.17062709\n",
      "Iteration 25, loss = 0.17520829\n",
      "Iteration 26, loss = 0.16712096\n",
      "Iteration 27, loss = 0.16165290\n",
      "Iteration 28, loss = 0.16377150\n",
      "Iteration 29, loss = 0.16809112\n",
      "Iteration 30, loss = 0.16711168\n",
      "MLPClassifier(activation='relu', alpha=0.0001, batch_size=100, beta_1=0.9,\n",
      "       beta_2=0.999, early_stopping=False, epsilon=1e-08,\n",
      "       hidden_layer_sizes=(100,), learning_rate='constant',\n",
      "       learning_rate_init=0.002, max_iter=30, momentum=0.9,\n",
      "       n_iter_no_change=10, nesterovs_momentum=True, power_t=0.5,\n",
      "       random_state=42, shuffle=True, solver='adam', tol=0.0001,\n",
      "       validation_fraction=0.1, verbose=True, warm_start=False)\n",
      "CPU times: user 2min 2s, sys: 15.7 s, total: 2min 18s\n",
      "Wall time: 37.6 s\n"
     ]
    },
    {
     "name": "stderr",
     "output_type": "stream",
     "text": [
      "/Users/cgarbin/fau/cap6618/env/lib/python3.6/site-packages/sklearn/neural_network/multilayer_perceptron.py:562: ConvergenceWarning: Stochastic Optimizer: Maximum iterations (30) reached and the optimization hasn't converged yet.\n",
      "  % self.max_iter, ConvergenceWarning)\n"
     ]
    }
   ],
   "source": [
    "%%time\n",
    "\n",
    "clf = MLPClassifier(hidden_layer_sizes=(100,), \n",
    "                    learning_rate_init=0.002,  # <----- this has changed\n",
    "                    activation=\"relu\", solver=\"adam\", alpha=0.0001, batch_size=100, max_iter=30, verbose=True, random_state=42)\n",
    "fit_results = clf.fit(X_train, y_train)\n",
    "\n",
    "print(fit_results)  # must explicitly print because of %%time"
   ]
  },
  {
   "cell_type": "code",
   "execution_count": 12,
   "metadata": {},
   "outputs": [
    {
     "data": {
      "text/plain": [
       "0.9461"
      ]
     },
     "execution_count": 12,
     "metadata": {},
     "output_type": "execute_result"
    }
   ],
   "source": [
    "#Evaluate accuracy on test set\n",
    "y_pred = clf.predict(X_test)\n",
    "accuracy_score(y_test, y_pred)"
   ]
  },
  {
   "cell_type": "markdown",
   "metadata": {},
   "source": [
    "Back to around the value we had with the default learning rate. And we got again the \"hasn't converged\" yet message.\n",
    "\n",
    "It looks like the learning rate is not the parameter to tweak here.\n",
    "\n",
    "We will switch to training longer instead."
   ]
  },
  {
   "cell_type": "markdown",
   "metadata": {},
   "source": [
    "# Step 4: Number of iterations optimization"
   ]
  },
  {
   "cell_type": "markdown",
   "metadata": {},
   "source": [
    "In this step we will also turn off verbose mode. The high number of iterations would pollute the notebook."
   ]
  },
  {
   "cell_type": "code",
   "execution_count": 13,
   "metadata": {},
   "outputs": [
    {
     "name": "stdout",
     "output_type": "stream",
     "text": [
      "MLPClassifier(activation='relu', alpha=0.0001, batch_size=100, beta_1=0.9,\n",
      "       beta_2=0.999, early_stopping=False, epsilon=1e-08,\n",
      "       hidden_layer_sizes=(100,), learning_rate='constant',\n",
      "       learning_rate_init=0.001, max_iter=200, momentum=0.9,\n",
      "       n_iter_no_change=10, nesterovs_momentum=True, power_t=0.5,\n",
      "       random_state=42, shuffle=True, solver='adam', tol=0.0001,\n",
      "       validation_fraction=0.1, verbose=False, warm_start=False)\n",
      "CPU times: user 9min 13s, sys: 1min 7s, total: 10min 21s\n",
      "Wall time: 2min 44s\n"
     ]
    }
   ],
   "source": [
    "%%time\n",
    "\n",
    "clf = MLPClassifier(hidden_layer_sizes=(100,), \n",
    "                    learning_rate_init=0.001,  # <----- this has changed (back to the default value)\n",
    "                    max_iter=200,              # <----- this has changed\n",
    "                    activation=\"relu\", solver=\"adam\", alpha=0.0001, batch_size=100, random_state=42)\n",
    "fit_results = clf.fit(X_train, y_train)\n",
    "\n",
    "print(fit_results)  # must explicitly print because of %%time"
   ]
  },
  {
   "cell_type": "markdown",
   "metadata": {},
   "source": [
    "Cross-validation with training data."
   ]
  },
  {
   "cell_type": "code",
   "execution_count": 14,
   "metadata": {},
   "outputs": [
    {
     "name": "stdout",
     "output_type": "stream",
     "text": [
      "[0.95446911 0.95559822 0.95679309]\n",
      "CPU times: user 12min 8s, sys: 1min 31s, total: 13min 40s\n",
      "Wall time: 3min 35s\n"
     ]
    }
   ],
   "source": [
    "%%time\n",
    "scores = cross_val_score(clf, X_train, y_train, cv=3, scoring=\"accuracy\")\n",
    "print(scores)"
   ]
  },
  {
   "cell_type": "markdown",
   "metadata": {},
   "source": [
    "Accuracy on the test dataset."
   ]
  },
  {
   "cell_type": "code",
   "execution_count": 15,
   "metadata": {},
   "outputs": [
    {
     "data": {
      "text/plain": [
       "0.9606"
      ]
     },
     "execution_count": 15,
     "metadata": {},
     "output_type": "execute_result"
    }
   ],
   "source": [
    "y_pred = clf.predict(X_test)\n",
    "accuracy_score(y_test, y_pred)"
   ]
  },
  {
   "cell_type": "markdown",
   "metadata": {},
   "source": [
    "Given that cross-validation with the training dataset and accuracy on the test dataset are very close, the network is not overfitting.\n",
    "\n",
    "This result indicates that experimenting with regularization will not make much of a difference at this stage.\n",
    "\n",
    "Since we the networking is not overfitting, we can train it for more iterations.\n",
    "\n",
    "Instead of simply using a higher number and let it run to the end, we will increase the number and configure it for early stopping. The goal is to go as far as it makes sense, but no longer than that."
   ]
  },
  {
   "cell_type": "code",
   "execution_count": 16,
   "metadata": {},
   "outputs": [
    {
     "name": "stdout",
     "output_type": "stream",
     "text": [
      "MLPClassifier(activation='relu', alpha=0.0001, batch_size=100, beta_1=0.9,\n",
      "       beta_2=0.999, early_stopping=True, epsilon=1e-08,\n",
      "       hidden_layer_sizes=(100,), learning_rate='constant',\n",
      "       learning_rate_init=0.001, max_iter=500, momentum=0.9,\n",
      "       n_iter_no_change=10, nesterovs_momentum=True, power_t=0.5,\n",
      "       random_state=42, shuffle=True, solver='adam', tol=0.0001,\n",
      "       validation_fraction=0.1, verbose=False, warm_start=False)\n",
      "CPU times: user 3min 8s, sys: 23.7 s, total: 3min 32s\n",
      "Wall time: 57.2 s\n"
     ]
    }
   ],
   "source": [
    "%%time\n",
    "\n",
    "clf = MLPClassifier(hidden_layer_sizes=(100,), \n",
    "                    learning_rate_init=0.001,  # <----- this remains the same\n",
    "                    max_iter=500,              # <----- this is now a higher number\n",
    "                    early_stopping=True,       # <----- this is new\n",
    "                    tol=1e-4,                  # <----- also new, but set to the default value, just to make it visible\n",
    "                    n_iter_no_change=10,       # <----- also new and also set to the default value, for the same reason\n",
    "                    activation=\"relu\", solver=\"adam\", alpha=0.0001, batch_size=100, random_state=42)\n",
    "fit_results = clf.fit(X_train, y_train)\n",
    "\n",
    "print(fit_results)  # must explicitly print because of %%time"
   ]
  },
  {
   "cell_type": "markdown",
   "metadata": {},
   "source": [
    "As a side-effect of using early stopping we get the validation scores for each epoch (from the [sklearn documentation](https://scikit-learn.org/stable/modules/generated/sklearn.neural_network.MLPClassifier.html#sklearn.neural_network.MLPClassifier.fit): _\"...it will automatically set aside 10% of training data as validation...\"_).\n",
    "\n",
    "Plotting the data shows how many epochs were needed to achieve the accuracy (between 40 and 50 in this case - the exact number may vary in each run) and how it the classifier behaved along the way (how fast or slow it was to get there)."
   ]
  },
  {
   "cell_type": "code",
   "execution_count": 17,
   "metadata": {},
   "outputs": [
    {
     "data": {
      "image/png": "[encoded data removed]",
      "text/plain": [
       "<Figure size 432x288 with 1 Axes>"
      ]
     },
     "metadata": {
      "needs_background": "light"
     },
     "output_type": "display_data"
    }
   ],
   "source": [
    "plt.plot(clf.validation_scores_)\n",
    "plt.show()"
   ]
  },
  {
   "cell_type": "markdown",
   "metadata": {},
   "source": [
    "Because we used early stopping, we do not expect ovefitting. To save a bit time, we will skip `cross_val_score` and calculate the accuracy on the test dataset."
   ]
  },
  {
   "cell_type": "code",
   "execution_count": 18,
   "metadata": {},
   "outputs": [
    {
     "data": {
      "text/plain": [
       "0.9595"
      ]
     },
     "execution_count": 18,
     "metadata": {},
     "output_type": "execute_result"
    }
   ],
   "source": [
    "y_pred = clf.predict(X_test)\n",
    "accuracy_score(y_test, y_pred)"
   ]
  },
  {
   "cell_type": "markdown",
   "metadata": {},
   "source": [
    "It is about the same value shown in the graph, another proof the network is not overfitting."
   ]
  },
  {
   "cell_type": "markdown",
   "metadata": {},
   "source": [
    "The validation graph shows that the accuracy is bouncing around somewhat. This is an indication that the classifier is not finding the local minimum, just going around it over and over.\n",
    "\n",
    "As a last attempt to squeeze a bit more accuracy from the classifier, we will use an adaptive learning rate, because [the documentation](https://scikit-learn.org/stable/modules/generated/sklearn.neural_network.MLPClassifier.html#sklearn.neural_network.MLPClassifier.fit) says \"_Each time two consecutive epochs fail to decrease training loss by at least tol, or fail to increase validation score by at least tol if ‘early&#95;stopping’ is on, the current learning rate is divided by 5._\"\n"
   ]
  },
  {
   "cell_type": "code",
   "execution_count": 19,
   "metadata": {},
   "outputs": [
    {
     "name": "stdout",
     "output_type": "stream",
     "text": [
      "MLPClassifier(activation='relu', alpha=0.0001, batch_size=100, beta_1=0.9,\n",
      "       beta_2=0.999, early_stopping=True, epsilon=1e-08,\n",
      "       hidden_layer_sizes=(100,), learning_rate='adaptive',\n",
      "       learning_rate_init=0.001, max_iter=500, momentum=0.9,\n",
      "       n_iter_no_change=10, nesterovs_momentum=True, power_t=0.5,\n",
      "       random_state=42, shuffle=True, solver='adam', tol=0.0001,\n",
      "       validation_fraction=0.1, verbose=False, warm_start=False)\n",
      "CPU times: user 3min 17s, sys: 27.4 s, total: 3min 44s\n",
      "Wall time: 1min 1s\n"
     ]
    }
   ],
   "source": [
    "%%time\n",
    "\n",
    "clf = MLPClassifier(hidden_layer_sizes=(100,), \n",
    "                    learning_rate=\"adaptive\",  # <----- this is new, everything else is the same\n",
    "                    learning_rate_init=0.001, max_iter=500, early_stopping=True, tol=1e-4, n_iter_no_change=10, \n",
    "                    activation=\"relu\", solver=\"adam\", alpha=0.0001, batch_size=100, random_state=42)\n",
    "fit_results = clf.fit(X_train, y_train)\n",
    "\n",
    "print(fit_results)  # must explicitly print because of %%time"
   ]
  },
  {
   "cell_type": "markdown",
   "metadata": {},
   "source": [
    "Plot the validation accuracy during training to see how many epochs it needed and how it behaved along the way."
   ]
  },
  {
   "cell_type": "code",
   "execution_count": 20,
   "metadata": {},
   "outputs": [
    {
     "data": {
      "image/png": "[encoded data removed]",
      "text/plain": [
       "<Figure size 432x288 with 1 Axes>"
      ]
     },
     "metadata": {
      "needs_background": "light"
     },
     "output_type": "display_data"
    }
   ],
   "source": [
    "plt.plot(clf.validation_scores_)\n",
    "plt.show()"
   ]
  },
  {
   "cell_type": "code",
   "execution_count": 21,
   "metadata": {},
   "outputs": [
    {
     "data": {
      "text/plain": [
       "0.9595"
      ]
     },
     "execution_count": 21,
     "metadata": {},
     "output_type": "execute_result"
    }
   ],
   "source": [
    "y_pred = clf.predict(X_test)\n",
    "accuracy_score(y_test, y_pred)"
   ]
  },
  {
   "cell_type": "markdown",
   "metadata": {},
   "source": [
    "Same result. This seems to the most we can extract from this network."
   ]
  },
  {
   "cell_type": "markdown",
   "metadata": {},
   "source": [
    "# Step 5: Network architecture changes"
   ]
  },
  {
   "cell_type": "markdown",
   "metadata": {},
   "source": [
    "This step is not so much a \"optimization\" step, as it is a change of direction.\n",
    "\n",
    "The network used in the previous step seems to have reached its limits of representation.\n",
    "\n",
    "In this step we will attempt to give the network more representation power using grid search to test:\n",
    "\n",
    "- Adding more neurons to the layer\n",
    "- Adding more layers"
   ]
  },
  {
   "cell_type": "code",
   "execution_count": 59,
   "metadata": {},
   "outputs": [
    {
     "name": "stdout",
     "output_type": "stream",
     "text": [
      "Fitting 3 folds for each of 3 candidates, totalling 9 fits\n",
      "[Parallel(n_jobs=-1)]: Using backend LokyBackend with 8 concurrent workers.\n",
      "[Parallel(n_jobs=-1)]: Done   1 tasks      | elapsed:  3.9min\n",
      "[Parallel(n_jobs=-1)]: Done   2 out of   9 | elapsed:  3.9min remaining: 13.6min\n",
      "[Parallel(n_jobs=-1)]: Done   3 out of   9 | elapsed:  4.4min remaining:  8.9min\n",
      "[Parallel(n_jobs=-1)]: Done   4 out of   9 | elapsed:  5.8min remaining:  7.3min\n",
      "[Parallel(n_jobs=-1)]: Done   5 out of   9 | elapsed:  6.0min remaining:  4.8min\n",
      "[Parallel(n_jobs=-1)]: Done   6 out of   9 | elapsed:  7.2min remaining:  3.6min\n",
      "[Parallel(n_jobs=-1)]: Done   7 out of   9 | elapsed:  7.3min remaining:  2.1min\n",
      "[Parallel(n_jobs=-1)]: Done   9 out of   9 | elapsed:  8.6min remaining:    0.0s\n",
      "[Parallel(n_jobs=-1)]: Done   9 out of   9 | elapsed:  8.6min finished\n",
      "CPU times: user 14min 23s, sys: 1min 50s, total: 16min 14s\n",
      "Wall time: 12min 52s\n"
     ]
    }
   ],
   "source": [
    "%%time\n",
    "\n",
    "from sklearn.model_selection import GridSearchCV\n",
    "\n",
    "# The base network\n",
    "base_clf = MLPClassifier(learning_rate=\"adaptive\", learning_rate_init=0.001, max_iter=500, early_stopping=True,\n",
    "                    tol=1e-4, n_iter_no_change=10, activation=\"relu\", solver=\"adam\", alpha=0.0001, batch_size=100,\n",
    "                    random_state=42)\n",
    "\n",
    "# The parameters for the grid search: layers\n",
    "layers_to_try = { \"hidden_layer_sizes\": [(100), (500), (100,100)] }\n",
    "\n",
    "gs = GridSearchCV(base_clf, layers_to_try, n_jobs=-1, cv=3, verbose=50, return_train_score=True)\n",
    "gs.fit(X_train, y_train)"
   ]
  },
  {
   "cell_type": "markdown",
   "metadata": {},
   "source": [
    "## Analyze the best classifier"
   ]
  },
  {
   "cell_type": "markdown",
   "metadata": {},
   "source": [
    "Show the best classifier and save it for the next cells"
   ]
  },
  {
   "cell_type": "code",
   "execution_count": 60,
   "metadata": {},
   "outputs": [
    {
     "name": "stdout",
     "output_type": "stream",
     "text": [
      "Best network structure: {'hidden_layer_sizes': 500}\n",
      "MLPClassifier(activation='relu', alpha=0.0001, batch_size=100, beta_1=0.9,\n",
      "       beta_2=0.999, early_stopping=True, epsilon=1e-08,\n",
      "       hidden_layer_sizes=500, learning_rate='adaptive',\n",
      "       learning_rate_init=0.001, max_iter=500, momentum=0.9,\n",
      "       n_iter_no_change=10, nesterovs_momentum=True, power_t=0.5,\n",
      "       random_state=42, shuffle=True, solver='adam', tol=0.0001,\n",
      "       validation_fraction=0.1, verbose=False, warm_start=False)\n"
     ]
    }
   ],
   "source": [
    "print(\"Best network structure:\", gs.best_params_)\n",
    "\n",
    "clf = gs.best_estimator_\n",
    "print(clf)"
   ]
  },
  {
   "cell_type": "markdown",
   "metadata": {},
   "source": [
    "We don't have to run `cross_val_score` here because it has already been cross-validated during grid search."
   ]
  },
  {
   "cell_type": "code",
   "execution_count": 61,
   "metadata": {},
   "outputs": [
    {
     "name": "stdout",
     "output_type": "stream",
     "text": [
      "0.98169011710439\n"
     ]
    },
    {
     "name": "stderr",
     "output_type": "stream",
     "text": [
      "/Users/cgarbin/fau/cap6618/env/lib/python3.6/site-packages/sklearn/utils/deprecation.py:125: FutureWarning: You are accessing a training score ('mean_train_score'), which will not be available by default any more in 0.21. If you need training scores, please set return_train_score=True\n",
      "  warnings.warn(*warn_args, **warn_kwargs)\n"
     ]
    }
   ],
   "source": [
    "print(gs.cv_results_[\"mean_train_score\"][0]) # We know from above that our first estimator is the best one"
   ]
  },
  {
   "cell_type": "markdown",
   "metadata": {},
   "source": [
    "Accuracy on the test dataset."
   ]
  },
  {
   "cell_type": "code",
   "execution_count": 62,
   "metadata": {},
   "outputs": [
    {
     "data": {
      "text/plain": [
       "0.9729"
      ]
     },
     "execution_count": 62,
     "metadata": {},
     "output_type": "execute_result"
    }
   ],
   "source": [
    "y_pred = clf.predict(X_test)\n",
    "accuracy_score(y_test, y_pred)"
   ]
  },
  {
   "cell_type": "markdown",
   "metadata": {},
   "source": [
    "There are signs of overfitting (lower accuracy with the test dataset), but not by much. It is good enough for this exercise."
   ]
  },
  {
   "cell_type": "markdown",
   "metadata": {},
   "source": [
    "Plot the validation accuracy during training to see how many epochs it needed and how it behaved along the way."
   ]
  },
  {
   "cell_type": "code",
   "execution_count": 63,
   "metadata": {},
   "outputs": [
    {
     "data": {
      "image/png": "[encoded data removed]",
      "text/plain": [
       "<Figure size 432x288 with 1 Axes>"
      ]
     },
     "metadata": {
      "needs_background": "light"
     },
     "output_type": "display_data"
    }
   ],
   "source": [
    "plt.plot(clf.validation_scores_)\n",
    "plt.show()"
   ]
  },
  {
   "cell_type": "code",
   "execution_count": 64,
   "metadata": {},
   "outputs": [
    {
     "name": "stdout",
     "output_type": "stream",
     "text": [
      "{'mean_fit_time': array([241.33018859, 485.34912848, 300.84532158]), 'std_fit_time': array([15.62803032, 39.61296201, 70.06290687]), 'mean_score_time': array([0.67596841, 0.45746962, 0.46164012]), 'std_score_time': array([0.02153929, 0.1246572 , 0.19646786]), 'param_hidden_layer_sizes': masked_array(data=[100, 500, (100, 100)],\n",
      "             mask=[False, False, False],\n",
      "       fill_value='?',\n",
      "            dtype=object), 'params': [{'hidden_layer_sizes': 100}, {'hidden_layer_sizes': 500}, {'hidden_layer_sizes': (100, 100)}], 'split0_test_score': array([0.9509898 , 0.97108578, 0.96286743]), 'split1_test_score': array([0.94935797, 0.96669867, 0.96027841]), 'split2_test_score': array([0.95235238, 0.96915506, 0.96261402]), 'mean_test_score': array([0.9509 , 0.96898, 0.96192]), 'std_test_score': array([0.00122405, 0.00179538, 0.00116535]), 'rank_test_score': array([3, 1, 2], dtype=int32), 'split0_train_score': array([0.98427843, 0.99246925, 0.99153915]), 'split1_train_score': array([0.9797804 , 0.9898902 , 0.99079018]), 'split2_train_score': array([0.98101152, 0.99388049, 0.99091073]), 'mean_train_score': array([0.98169012, 0.99207998, 0.99108002]), 'std_train_score': array([0.00189797, 0.00165212, 0.00032836])}\n"
     ]
    }
   ],
   "source": [
    "print(gs.cv_results_)"
   ]
  },
  {
   "cell_type": "code",
   "execution_count": 65,
   "metadata": {},
   "outputs": [
    {
     "name": "stdout",
     "output_type": "stream",
     "text": [
      "[0.9509  0.96898 0.96192]\n",
      "[0.98169012 0.99207998 0.99108002]\n"
     ]
    },
    {
     "name": "stderr",
     "output_type": "stream",
     "text": [
      "/Users/cgarbin/fau/cap6618/env/lib/python3.6/site-packages/sklearn/utils/deprecation.py:125: FutureWarning: You are accessing a training score ('mean_train_score'), which will not be available by default any more in 0.21. If you need training scores, please set return_train_score=True\n",
      "  warnings.warn(*warn_args, **warn_kwargs)\n"
     ]
    }
   ],
   "source": [
    "print(gs.cv_results_[\"mean_test_score\"])\n",
    "print(gs.cv_results_[\"mean_train_score\"])\n"
   ]
  },
  {
   "cell_type": "code",
   "execution_count": null,
   "metadata": {},
   "outputs": [],
   "source": []
  }
 ],
 "metadata": {
  "kernelspec": {
   "display_name": "Python 3",
   "language": "python",
   "name": "python3"
  },
  "language_info": {
   "codemirror_mode": {
    "name": "ipython",
    "version": 3
   },
   "file_extension": ".py",
   "mimetype": "text/x-python",
   "name": "python",
   "nbconvert_exporter": "python",
   "pygments_lexer": "ipython3",
   "version": "3.6.4"
  },
  "nav_menu": {},
  "toc": {
   "navigate_menu": true,
   "number_sections": true,
   "sideBar": true,
   "threshold": 6,
   "toc_cell": false,
   "toc_section_display": "block",
   "toc_window_display": false
  }
 },
 "nbformat": 4,
 "nbformat_minor": 2
}
