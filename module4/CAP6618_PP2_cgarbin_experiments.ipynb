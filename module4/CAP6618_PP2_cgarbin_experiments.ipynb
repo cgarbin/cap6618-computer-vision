{
 "cells": [
  {
   "cell_type": "markdown",
   "metadata": {},
   "source": [
    "# CAP 6618 - Machine Learning for Computer Vision"
   ]
  },
  {
   "cell_type": "markdown",
   "metadata": {},
   "source": [
    "# Programming Project 2\n",
    "See guidelines on Canvas for details."
   ]
  },
  {
   "cell_type": "markdown",
   "metadata": {},
   "source": [
    "# Step 1: Setup"
   ]
  },
  {
   "cell_type": "markdown",
   "metadata": {},
   "source": [
    "First, make sure that the files below have been downloaded from https://github.com/MichalDanielDobrzanski/DeepLearningPython35 \n",
    "and saved in the same folder as this notebook."
   ]
  },
  {
   "cell_type": "code",
   "execution_count": 1,
   "metadata": {
    "collapsed": true
   },
   "outputs": [],
   "source": [
    "# From Geron \n",
    "\n",
    "# To support both python 2 and python 3\n",
    "from __future__ import division, print_function, unicode_literals\n",
    "\n",
    "# Common imports\n",
    "import numpy as np\n",
    "import os\n",
    "\n",
    "# Standard library\n",
    "import random\n",
    "\n",
    "# to make this notebook's output stable across runs\n",
    "np.random.seed(42)\n",
    "\n",
    "# To plot pretty figures\n",
    "%matplotlib inline\n",
    "import matplotlib\n",
    "import matplotlib.pyplot as plt\n",
    "plt.rcParams['axes.labelsize'] = 14\n",
    "plt.rcParams['xtick.labelsize'] = 12\n",
    "plt.rcParams['ytick.labelsize'] = 12\n",
    "\n",
    "# Where to save the figures\n",
    "PROJECT_ROOT_DIR = \".\"\n",
    "CHAPTER_ID = \"classification\"\n",
    "\n",
    "def save_fig(fig_id, tight_layout=True):\n",
    "    # No need to save pics\n",
    "    pass"
   ]
  },
  {
   "cell_type": "markdown",
   "metadata": {},
   "source": [
    "## Step 2: Load (and split) the MNIST dataset"
   ]
  },
  {
   "cell_type": "code",
   "execution_count": 2,
   "metadata": {
    "collapsed": true
   },
   "outputs": [],
   "source": [
    "# Classmates reported that we need to load the data every time we call .SGD to make it work\n",
    "# Commenting it out from here - moved to the cells that call .SGD\n",
    "\n",
    "# import mnist_loader\n",
    "# training_data, validation_data, test_data = mnist_loader.load_data_wrapper()\n",
    "# training_data = list(training_data)"
   ]
  },
  {
   "cell_type": "code",
   "execution_count": 3,
   "metadata": {},
   "outputs": [],
   "source": [
    "#print(len(training_data))"
   ]
  },
  {
   "cell_type": "markdown",
   "metadata": {},
   "source": [
    "# Step 3: Set up a first network with three layers "
   ]
  },
  {
   "cell_type": "markdown",
   "metadata": {},
   "source": [
    "Input layer: 784 neurons<br>\n",
    "Hidden layer: 30 neurons<br>\n",
    "Output layer: 10 neurons"
   ]
  },
  {
   "cell_type": "code",
   "execution_count": 4,
   "metadata": {
    "collapsed": true
   },
   "outputs": [],
   "source": [
    "import network\n",
    "\n",
    "# Make sure we are picking up the latest code changes\n",
    "import importlib\n",
    "importlib.reload(network)\n",
    "\n",
    "net1 = network.Network([784, 30, 10])"
   ]
  },
  {
   "cell_type": "markdown",
   "metadata": {},
   "source": [
    "# Step 4: Train the network using SGD  "
   ]
  },
  {
   "cell_type": "markdown",
   "metadata": {},
   "source": [
    "30 epochs, mini-batch size = 10, and eta = 3.0"
   ]
  },
  {
   "cell_type": "code",
   "execution_count": 5,
   "metadata": {},
   "outputs": [
    {
     "name": "stdout",
     "output_type": "stream",
     "text": [
      "Epoch 0 : 9050 / 10000\n",
      "Epoch 1 : 9237 / 10000\n",
      "Epoch 2 : 9290 / 10000\n",
      "Epoch 3 : 9352 / 10000\n",
      "Epoch 4 : 9378 / 10000\n",
      "Epoch 5 : 9419 / 10000\n",
      "Epoch 6 : 9406 / 10000\n",
      "Epoch 7 : 9456 / 10000\n",
      "Epoch 8 : 9416 / 10000\n",
      "Epoch 9 : 9469 / 10000\n",
      "Epoch 10 : 9455 / 10000\n",
      "Epoch 11 : 9474 / 10000\n",
      "Epoch 12 : 9463 / 10000\n",
      "Epoch 13 : 9491 / 10000\n",
      "Epoch 14 : 9485 / 10000\n",
      "Epoch 15 : 9496 / 10000\n",
      "Epoch 16 : 9525 / 10000\n",
      "Epoch 17 : 9505 / 10000\n",
      "Epoch 18 : 9496 / 10000\n",
      "Epoch 19 : 9517 / 10000\n",
      "Epoch 20 : 9519 / 10000\n",
      "Epoch 21 : 9504 / 10000\n",
      "Epoch 22 : 9491 / 10000\n",
      "Epoch 23 : 9504 / 10000\n",
      "Epoch 24 : 9496 / 10000\n",
      "Epoch 25 : 9503 / 10000\n",
      "Epoch 26 : 9522 / 10000\n",
      "Epoch 27 : 9518 / 10000\n",
      "Epoch 28 : 9507 / 10000\n",
      "Epoch 29 : 9511 / 10000\n",
      "CPU times: user 10min 51s, sys: 1min 40s, total: 12min 32s\n",
      "Wall time: 3min 14s\n"
     ]
    }
   ],
   "source": [
    "%%time\n",
    "\n",
    "# Reload data before training because the training code appparently changes it\n",
    "import mnist_loader\n",
    "training_data, validation_data, test_data = mnist_loader.load_data_wrapper()\n",
    "\n",
    "# Time with j % 3 in network.py (evaluate every third epoch)\n",
    "# CPU times: user 10min 10s, sys: 1min 24s, total: 11min 34s\n",
    "# Wall time: 2min 56s\n",
    "\n",
    "# Time without j % 3\n",
    "# CPU times: user 10min 35s, sys: 1min 33s, total: 12min 9s\n",
    "# Wall time: 3min 17s\n",
    "\n",
    "# Test with no test_data (no evaluation for any epoch)\n",
    "# CPU times: user 10min 26s, sys: 1min 34s, total: 12min 1s\n",
    "# Wall time: 3min 5s\n",
    "\n",
    "epochs = 30\n",
    "mini_batch_size = 10\n",
    "eta = 3.0\n",
    "net1.SGD(training_data, epochs, mini_batch_size, eta, test_data=test_data)"
   ]
  },
  {
   "cell_type": "markdown",
   "metadata": {},
   "source": [
    "# Step 5: Set up a second network with three layers "
   ]
  },
  {
   "cell_type": "markdown",
   "metadata": {},
   "source": [
    "Input layer: 784 neurons<br>\n",
    "Hidden layer: 100 neurons<br>\n",
    "Output layer: 10 neurons"
   ]
  },
  {
   "cell_type": "code",
   "execution_count": 6,
   "metadata": {
    "collapsed": true
   },
   "outputs": [],
   "source": [
    "import network\n",
    "net2 = network.Network([784, 100, 10])"
   ]
  },
  {
   "cell_type": "markdown",
   "metadata": {},
   "source": [
    "# Step 6: Train the network using SGD  "
   ]
  },
  {
   "cell_type": "markdown",
   "metadata": {},
   "source": [
    "30 epochs, mini-batch size = 10, and eta = 3.0"
   ]
  },
  {
   "cell_type": "code",
   "execution_count": 7,
   "metadata": {},
   "outputs": [
    {
     "name": "stdout",
     "output_type": "stream",
     "text": [
      "Epoch 0 : 6775 / 10000\n",
      "Epoch 1 : 8239 / 10000\n",
      "Epoch 2 : 8441 / 10000\n",
      "Epoch 3 : 8535 / 10000\n",
      "Epoch 4 : 8569 / 10000\n",
      "Epoch 5 : 8594 / 10000\n",
      "Epoch 6 : 8619 / 10000\n",
      "Epoch 7 : 8615 / 10000\n",
      "Epoch 8 : 8625 / 10000\n",
      "Epoch 9 : 8644 / 10000\n",
      "Epoch 10 : 8634 / 10000\n",
      "Epoch 11 : 8640 / 10000\n",
      "Epoch 12 : 8673 / 10000\n",
      "Epoch 13 : 8643 / 10000\n",
      "Epoch 14 : 8674 / 10000\n",
      "Epoch 15 : 8664 / 10000\n",
      "Epoch 16 : 8676 / 10000\n",
      "Epoch 17 : 8672 / 10000\n",
      "Epoch 18 : 8690 / 10000\n",
      "Epoch 19 : 8683 / 10000\n",
      "Epoch 20 : 8697 / 10000\n",
      "Epoch 21 : 8688 / 10000\n",
      "Epoch 22 : 8692 / 10000\n",
      "Epoch 23 : 8680 / 10000\n",
      "Epoch 24 : 8693 / 10000\n",
      "Epoch 25 : 8684 / 10000\n",
      "Epoch 26 : 8697 / 10000\n",
      "Epoch 27 : 8700 / 10000\n",
      "Epoch 28 : 8686 / 10000\n",
      "Epoch 29 : 8695 / 10000\n",
      "CPU times: user 20min 24s, sys: 2min 51s, total: 23min 16s\n",
      "Wall time: 5min 57s\n"
     ]
    }
   ],
   "source": [
    "%%time\n",
    "\n",
    "# Reload data before training because the training code appparently changes it\n",
    "import mnist_loader\n",
    "training_data, validation_data, test_data = mnist_loader.load_data_wrapper()\n",
    "\n",
    "epochs = 30\n",
    "mini_batch_size = 10\n",
    "eta = 3.0\n",
    "net2.SGD(training_data, epochs, mini_batch_size, eta, test_data=test_data)"
   ]
  },
  {
   "cell_type": "markdown",
   "metadata": {},
   "source": [
    "## Analysis and experiments"
   ]
  },
  {
   "cell_type": "markdown",
   "metadata": {},
   "source": [
    "This result is significantly worse than the results reported in  Nielsen's book.\n",
    "\n",
    "> ...this improves the results to 96.59 percent. At least in this case, using more hidden neurons helps us get better results.\n",
    "\n",
    "However, the book also has a side note:\n",
    "\n",
    "> Reader feedback indicates quite some variation in results for this experiment, and some training runs give results quite a bit worse. Using the techniques introduced in chapter 3 will greatly reduce the variation in performance across different training runs for our networks.\n",
    "\n",
    "I guess I'm one of those readers..."
   ]
  },
  {
   "cell_type": "markdown",
   "metadata": {},
   "source": [
    "It seems that it's taking longer for this network to converge.\n",
    "\n",
    "As a first experiment we will attempt a higher learning rate."
   ]
  },
  {
   "cell_type": "code",
   "execution_count": 15,
   "metadata": {},
   "outputs": [
    {
     "name": "stdout",
     "output_type": "stream",
     "text": [
      "Epoch 0 : 6727 / 10000\n",
      "Epoch 1 : 7598 / 10000\n",
      "Epoch 2 : 7694 / 10000\n",
      "Epoch 3 : 8012 / 10000\n",
      "Epoch 4 : 8109 / 10000\n",
      "Epoch 5 : 8256 / 10000\n",
      "Epoch 6 : 8453 / 10000\n",
      "Epoch 7 : 8509 / 10000\n",
      "Epoch 8 : 8657 / 10000\n",
      "Epoch 9 : 8659 / 10000\n",
      "Epoch 10 : 8720 / 10000\n",
      "Epoch 11 : 8640 / 10000\n",
      "Epoch 12 : 8729 / 10000\n",
      "Epoch 13 : 8707 / 10000\n",
      "Epoch 14 : 8822 / 10000\n",
      "Epoch 15 : 8845 / 10000\n",
      "Epoch 16 : 8730 / 10000\n",
      "Epoch 17 : 8764 / 10000\n",
      "Epoch 18 : 8923 / 10000\n",
      "Epoch 19 : 8922 / 10000\n",
      "Epoch 20 : 8806 / 10000\n",
      "Epoch 21 : 8899 / 10000\n",
      "Epoch 22 : 8927 / 10000\n",
      "Epoch 23 : 8903 / 10000\n",
      "Epoch 24 : 8861 / 10000\n",
      "Epoch 25 : 8949 / 10000\n",
      "Epoch 26 : 8981 / 10000\n",
      "Epoch 27 : 9164 / 10000\n",
      "Epoch 28 : 8944 / 10000\n",
      "Epoch 29 : 9055 / 10000\n",
      "CPU times: user 20min 26s, sys: 2min 53s, total: 23min 20s\n",
      "Wall time: 6min 2s\n"
     ]
    }
   ],
   "source": [
    "%%time\n",
    "\n",
    "# Reload data before training because the training code appparently changes it\n",
    "import mnist_loader\n",
    "training_data, validation_data, test_data = mnist_loader.load_data_wrapper()\n",
    "\n",
    "# Re-create the network to make sure there is nothing left behind from the previous run\n",
    "net2 = network.Network([784, 100, 10])\n",
    "\n",
    "epochs = 30\n",
    "mini_batch_size = 10\n",
    "eta = 10.0\n",
    "net2.SGD(training_data, epochs, mini_batch_size, eta, test_data=test_data)"
   ]
  },
  {
   "cell_type": "markdown",
   "metadata": {},
   "source": [
    "It improved, but not to the same level as the 30-neuron network.\n",
    "\n",
    "Try again with a higher rate, even though there are some signs that we are bouncing around the minimum of the cost function:\n",
    "\n",
    "```\n",
    "Epoch 27 : 9164 / 10000\n",
    "Epoch 28 : 8944 / 10000\n",
    "Epoch 29 : 9055 / 10000\n",
    "```"
   ]
  },
  {
   "cell_type": "code",
   "execution_count": 16,
   "metadata": {},
   "outputs": [
    {
     "name": "stdout",
     "output_type": "stream",
     "text": [
      "Epoch 0 : 3523 / 10000\n",
      "Epoch 1 : 3813 / 10000\n",
      "Epoch 2 : 3966 / 10000\n",
      "Epoch 3 : 4179 / 10000\n",
      "Epoch 4 : 3981 / 10000\n",
      "Epoch 5 : 3708 / 10000\n",
      "Epoch 6 : 3909 / 10000\n",
      "Epoch 7 : 3552 / 10000\n",
      "Epoch 8 : 3928 / 10000\n",
      "Epoch 9 : 3930 / 10000\n",
      "Epoch 10 : 3659 / 10000\n",
      "Epoch 11 : 4074 / 10000\n",
      "Epoch 12 : 4184 / 10000\n",
      "Epoch 13 : 3800 / 10000\n",
      "Epoch 14 : 3868 / 10000\n",
      "Epoch 15 : 3853 / 10000\n",
      "Epoch 16 : 3911 / 10000\n",
      "Epoch 17 : 3771 / 10000\n",
      "Epoch 18 : 3909 / 10000\n",
      "Epoch 19 : 3927 / 10000\n",
      "Epoch 20 : 3994 / 10000\n",
      "Epoch 21 : 3991 / 10000\n",
      "Epoch 22 : 3983 / 10000\n",
      "Epoch 23 : 3959 / 10000\n",
      "Epoch 24 : 4032 / 10000\n",
      "Epoch 25 : 3984 / 10000\n",
      "Epoch 26 : 3936 / 10000\n",
      "Epoch 27 : 3981 / 10000\n",
      "Epoch 28 : 3986 / 10000\n",
      "Epoch 29 : 3982 / 10000\n",
      "CPU times: user 20min 16s, sys: 2min 53s, total: 23min 10s\n",
      "Wall time: 5min 59s\n"
     ]
    }
   ],
   "source": [
    "%%time\n",
    "\n",
    "# Reload data before training because the training code appparently changes it\n",
    "import mnist_loader\n",
    "training_data, validation_data, test_data = mnist_loader.load_data_wrapper()\n",
    "\n",
    "# Re-create the network to make sure there is nothing left behind from the previous run\n",
    "net2 = network.Network([784, 100, 10])\n",
    "\n",
    "epochs = 30\n",
    "mini_batch_size = 10\n",
    "eta = 20.0\n",
    "net2.SGD(training_data, epochs, mini_batch_size, eta, test_data=test_data)"
   ]
  },
  {
   "cell_type": "markdown",
   "metadata": {},
   "source": [
    "That was a step too far. Let's try something in between.\n",
    "\n",
    "This time try fewer epochs to see if it's going in the right direction."
   ]
  },
  {
   "cell_type": "code",
   "execution_count": 18,
   "metadata": {},
   "outputs": [
    {
     "name": "stdout",
     "output_type": "stream",
     "text": [
      "Epoch 0 : 2273 / 10000\n",
      "Epoch 1 : 3567 / 10000\n",
      "Epoch 2 : 3515 / 10000\n",
      "Epoch 3 : 4060 / 10000\n",
      "Epoch 4 : 4323 / 10000\n",
      "Epoch 5 : 4129 / 10000\n",
      "Epoch 6 : 4865 / 10000\n",
      "Epoch 7 : 4325 / 10000\n",
      "Epoch 8 : 4617 / 10000\n",
      "Epoch 9 : 4703 / 10000\n",
      "CPU times: user 6min 38s, sys: 57.2 s, total: 7min 35s\n",
      "Wall time: 1min 57s\n"
     ]
    }
   ],
   "source": [
    "%%time\n",
    "\n",
    "# Reload data before training because the training code appparently changes it\n",
    "import mnist_loader\n",
    "training_data, validation_data, test_data = mnist_loader.load_data_wrapper()\n",
    "\n",
    "# Re-create the network to make sure there is nothing left behind from the previous run\n",
    "net2 = network.Network([784, 100, 10])\n",
    "\n",
    "epochs = 10\n",
    "mini_batch_size = 10\n",
    "eta = 15.0\n",
    "net2.SGD(training_data, epochs, mini_batch_size, eta, test_data=test_data)"
   ]
  },
  {
   "cell_type": "markdown",
   "metadata": {},
   "source": [
    "It seems that anything above `eta = 10.0` is worse. Try a value a bit lower than that to confirm."
   ]
  },
  {
   "cell_type": "code",
   "execution_count": 27,
   "metadata": {},
   "outputs": [
    {
     "name": "stdout",
     "output_type": "stream",
     "text": [
      "Epoch 0 : 7430 / 10000\n",
      "Epoch 1 : 7695 / 10000\n",
      "Epoch 2 : 7782 / 10000\n",
      "Epoch 3 : 8561 / 10000\n",
      "Epoch 4 : 8600 / 10000\n",
      "Epoch 5 : 8731 / 10000\n",
      "Epoch 6 : 8936 / 10000\n",
      "Epoch 7 : 8915 / 10000\n",
      "Epoch 8 : 9021 / 10000\n",
      "Epoch 9 : 9513 / 10000\n",
      "Epoch 10 : 9492 / 10000\n",
      "Epoch 11 : 9519 / 10000\n",
      "Epoch 12 : 9500 / 10000\n",
      "Epoch 13 : 9572 / 10000\n",
      "Epoch 14 : 9550 / 10000\n",
      "Epoch 15 : 9545 / 10000\n",
      "Epoch 16 : 9588 / 10000\n",
      "Epoch 17 : 9564 / 10000\n",
      "Epoch 18 : 9558 / 10000\n",
      "Epoch 19 : 9588 / 10000\n",
      "Epoch 20 : 9606 / 10000\n",
      "Epoch 21 : 9595 / 10000\n",
      "Epoch 22 : 9608 / 10000\n",
      "Epoch 23 : 9581 / 10000\n",
      "Epoch 24 : 9595 / 10000\n",
      "Epoch 25 : 9602 / 10000\n",
      "Epoch 26 : 9604 / 10000\n",
      "Epoch 27 : 9559 / 10000\n",
      "Epoch 28 : 9569 / 10000\n",
      "Epoch 29 : 9583 / 10000\n",
      "CPU times: user 20min 38s, sys: 3min, total: 23min 38s\n",
      "Wall time: 6min 7s\n"
     ]
    }
   ],
   "source": [
    "%%time\n",
    "\n",
    "# Reload data before training because the training code appparently changes it\n",
    "import mnist_loader\n",
    "training_data, validation_data, test_data = mnist_loader.load_data_wrapper()\n",
    "\n",
    "# Re-create the network to make sure there is nothing left behind from the previous run\n",
    "net2 = network.Network([784, 100, 10])\n",
    "\n",
    "epochs = 30\n",
    "mini_batch_size = 10\n",
    "eta = 9.0\n",
    "net2.SGD(training_data, epochs, mini_batch_size, eta, test_data=test_data)"
   ]
  },
  {
   "cell_type": "markdown",
   "metadata": {},
   "source": [
    "It got better. Try a lower value to see if it can get better in this direction."
   ]
  },
  {
   "cell_type": "code",
   "execution_count": 37,
   "metadata": {},
   "outputs": [
    {
     "name": "stdout",
     "output_type": "stream",
     "text": [
      "Epoch 0 : 4636 / 10000\n",
      "Epoch 1 : 5503 / 10000\n",
      "Epoch 2 : 6712 / 10000\n",
      "Epoch 3 : 6705 / 10000\n",
      "Epoch 4 : 6585 / 10000\n",
      "Epoch 5 : 6766 / 10000\n",
      "Epoch 6 : 6748 / 10000\n",
      "Epoch 7 : 6915 / 10000\n",
      "Epoch 8 : 6928 / 10000\n",
      "Epoch 9 : 7029 / 10000\n",
      "Epoch 10 : 7121 / 10000\n",
      "Epoch 11 : 7270 / 10000\n",
      "Epoch 12 : 7101 / 10000\n",
      "Epoch 13 : 7166 / 10000\n",
      "Epoch 14 : 7184 / 10000\n",
      "Epoch 15 : 7570 / 10000\n",
      "Epoch 16 : 7750 / 10000\n",
      "Epoch 17 : 7867 / 10000\n",
      "Epoch 18 : 7662 / 10000\n",
      "Epoch 19 : 7686 / 10000\n",
      "Epoch 20 : 7887 / 10000\n",
      "Epoch 21 : 7894 / 10000\n",
      "Epoch 22 : 8011 / 10000\n",
      "Epoch 23 : 7883 / 10000\n",
      "Epoch 24 : 7868 / 10000\n",
      "Epoch 25 : 7906 / 10000\n",
      "Epoch 26 : 7921 / 10000\n",
      "Epoch 27 : 8007 / 10000\n",
      "Epoch 28 : 7934 / 10000\n",
      "Epoch 29 : 7819 / 10000\n",
      "CPU times: user 20min 27s, sys: 2min 57s, total: 23min 25s\n",
      "Wall time: 6min 4s\n"
     ]
    }
   ],
   "source": [
    "%%time\n",
    "\n",
    "# Reload data before training because the training code appparently changes it\n",
    "import mnist_loader\n",
    "training_data, validation_data, test_data = mnist_loader.load_data_wrapper()\n",
    "\n",
    "# Re-create the network to make sure there is nothing left behind from the previous run\n",
    "net2 = network.Network([784, 100, 10])\n",
    "\n",
    "epochs = 30\n",
    "mini_batch_size = 10\n",
    "eta = 8.0\n",
    "net2.SGD(training_data, epochs, mini_batch_size, eta, test_data=test_data)"
   ]
  },
  {
   "cell_type": "markdown",
   "metadata": {},
   "source": [
    "It looks like `eat = 9.0` is the best we can do in this network."
   ]
  },
  {
   "cell_type": "markdown",
   "metadata": {},
   "source": [
    "# Step 7: Set up a third network with only two layers "
   ]
  },
  {
   "cell_type": "markdown",
   "metadata": {},
   "source": [
    "Input layer: 784 neurons<br>\n",
    "Output layer: 10 neurons"
   ]
  },
  {
   "cell_type": "code",
   "execution_count": 8,
   "metadata": {
    "collapsed": true
   },
   "outputs": [],
   "source": [
    "import network\n",
    "net3 = network.Network([784, 10])"
   ]
  },
  {
   "cell_type": "markdown",
   "metadata": {},
   "source": [
    "# Step 8: Train the network using SGD  "
   ]
  },
  {
   "cell_type": "markdown",
   "metadata": {},
   "source": [
    "30 epochs, mini-batch size = 10, and eta = 3.0"
   ]
  },
  {
   "cell_type": "code",
   "execution_count": 9,
   "metadata": {},
   "outputs": [
    {
     "name": "stdout",
     "output_type": "stream",
     "text": [
      "Epoch 0 : 3947 / 10000\n",
      "Epoch 1 : 4056 / 10000\n",
      "Epoch 2 : 4827 / 10000\n",
      "Epoch 3 : 5203 / 10000\n",
      "Epoch 4 : 5592 / 10000\n",
      "Epoch 5 : 6307 / 10000\n",
      "Epoch 6 : 6404 / 10000\n",
      "Epoch 7 : 6447 / 10000\n",
      "Epoch 8 : 6483 / 10000\n",
      "Epoch 9 : 7291 / 10000\n",
      "Epoch 10 : 7270 / 10000\n",
      "Epoch 11 : 7617 / 10000\n",
      "Epoch 12 : 8221 / 10000\n",
      "Epoch 13 : 8185 / 10000\n",
      "Epoch 14 : 8217 / 10000\n",
      "Epoch 15 : 8231 / 10000\n",
      "Epoch 16 : 8246 / 10000\n",
      "Epoch 17 : 8237 / 10000\n",
      "Epoch 18 : 8232 / 10000\n",
      "Epoch 19 : 8235 / 10000\n",
      "Epoch 20 : 8260 / 10000\n",
      "Epoch 21 : 8283 / 10000\n",
      "Epoch 22 : 8272 / 10000\n",
      "Epoch 23 : 8315 / 10000\n",
      "Epoch 24 : 8317 / 10000\n",
      "Epoch 25 : 8263 / 10000\n",
      "Epoch 26 : 8298 / 10000\n",
      "Epoch 27 : 8339 / 10000\n",
      "Epoch 28 : 8310 / 10000\n",
      "Epoch 29 : 8314 / 10000\n",
      "CPU times: user 1min 12s, sys: 523 ms, total: 1min 13s\n",
      "Wall time: 1min 13s\n"
     ]
    }
   ],
   "source": [
    "%%time\n",
    "\n",
    "# Reload data before training because the training code appparently changes it\n",
    "import mnist_loader\n",
    "training_data, validation_data, test_data = mnist_loader.load_data_wrapper()\n",
    "\n",
    "epochs = 30\n",
    "mini_batch_size = 10\n",
    "eta = 3.0\n",
    "net3.SGD(training_data, epochs, mini_batch_size, eta, test_data=test_data)"
   ]
  },
  {
   "cell_type": "markdown",
   "metadata": {},
   "source": [
    "# Step 9: Classification using a built-in neural network from scikit-learn"
   ]
  },
  {
   "cell_type": "markdown",
   "metadata": {},
   "source": [
    "# Step 10: Build your best solution (and explain each step) "
   ]
  },
  {
   "cell_type": "markdown",
   "metadata": {},
   "source": [
    "## Use a separate notebook"
   ]
  }
 ],
 "metadata": {
  "kernelspec": {
   "display_name": "Python 3",
   "language": "python",
   "name": "python3"
  },
  "language_info": {
   "codemirror_mode": {
    "name": "ipython",
    "version": 3
   },
   "file_extension": ".py",
   "mimetype": "text/x-python",
   "name": "python",
   "nbconvert_exporter": "python",
   "pygments_lexer": "ipython3",
   "version": "3.6.4"
  },
  "nav_menu": {},
  "toc": {
   "navigate_menu": true,
   "number_sections": true,
   "sideBar": true,
   "threshold": 6,
   "toc_cell": false,
   "toc_section_display": "block",
   "toc_window_display": false
  }
 },
 "nbformat": 4,
 "nbformat_minor": 2
}
